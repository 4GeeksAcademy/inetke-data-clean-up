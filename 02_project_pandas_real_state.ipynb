{
  "cells": [
    {
      "cell_type": "markdown",
      "id": "innocent-university",
      "metadata": {
        "id": "innocent-university"
      },
      "source": [
        "# Limpieza del dataset de bienes raíces\n",
        "\n",
        "Este es un conjunto de datos (dataset) reales que fue descargado usando técnicas de web scraping. El archivo contiene registros de **Fotocasa**, el cual es uno de los sitios más populares de bienes raíces en España. Contiene miles de datos de casas reales publicadas en la web www.fotocasa.com.\n",
        "\n",
        "El dataset fue descargado hace algunos años y en ningún caso se obtuvo beneficio económico de ello.\n",
        "\n",
        "Tu objetivo es extraer tanta información como sea posible con el conocimiento que tienes hasta ahora de ciencia de datos.\n",
        "\n",
        "Agrega observaciones, conclusiones o notas acerca de los datos obtenidos en cada ejercicio."
      ]
    },
    {
      "cell_type": "code",
      "execution_count": 5,
      "id": "frank-heath",
      "metadata": {
        "ExecuteTime": {
          "end_time": "2025-09-23T22:18:44.079692Z",
          "start_time": "2025-09-23T22:18:43.699022Z"
        },
        "id": "frank-heath"
      },
      "outputs": [],
      "source": [
        "import pandas as pd"
      ]
    },
    {
      "cell_type": "markdown",
      "id": "5807eba1fce08a86",
      "metadata": {
        "id": "5807eba1fce08a86"
      },
      "source": [
        "#### Ejercicio 00\n",
        "\n",
        "Lee el dataset data/real_estate.csv e intenta visualizar la tabla (★☆☆)"
      ]
    },
    {
      "cell_type": "code",
      "execution_count": 8,
      "id": "82e7dea53f252c1c",
      "metadata": {
        "ExecuteTime": {
          "end_time": "2025-09-23T22:18:48.046480Z",
          "start_time": "2025-09-23T22:18:47.647010Z"
        },
        "colab": {
          "base_uri": "https://localhost:8080/",
          "height": 575
        },
        "id": "82e7dea53f252c1c",
        "outputId": "e6fecbde-0461-4dfc-f3b9-5b40c5fe5624"
      },
      "outputs": [
        {
          "data": {
            "text/html": [
              "<div>\n",
              "<style scoped>\n",
              "    .dataframe tbody tr th:only-of-type {\n",
              "        vertical-align: middle;\n",
              "    }\n",
              "\n",
              "    .dataframe tbody tr th {\n",
              "        vertical-align: top;\n",
              "    }\n",
              "\n",
              "    .dataframe thead th {\n",
              "        text-align: right;\n",
              "    }\n",
              "</style>\n",
              "<table border=\"1\" class=\"dataframe\">\n",
              "  <thead>\n",
              "    <tr style=\"text-align: right;\">\n",
              "      <th></th>\n",
              "      <th>Unnamed: 0</th>\n",
              "      <th>id_realEstates</th>\n",
              "      <th>isNew</th>\n",
              "      <th>realEstate_name</th>\n",
              "      <th>phone_realEstate</th>\n",
              "      <th>url_inmueble</th>\n",
              "      <th>rooms</th>\n",
              "      <th>bathrooms</th>\n",
              "      <th>surface</th>\n",
              "      <th>price</th>\n",
              "      <th>...</th>\n",
              "      <th>level4Id</th>\n",
              "      <th>level5Id</th>\n",
              "      <th>level6Id</th>\n",
              "      <th>level7Id</th>\n",
              "      <th>level8Id</th>\n",
              "      <th>accuracy</th>\n",
              "      <th>latitude</th>\n",
              "      <th>longitude</th>\n",
              "      <th>zipCode</th>\n",
              "      <th>customZone</th>\n",
              "    </tr>\n",
              "  </thead>\n",
              "  <tbody>\n",
              "    <tr>\n",
              "      <th>0</th>\n",
              "      <td>1</td>\n",
              "      <td>153771986</td>\n",
              "      <td>False</td>\n",
              "      <td>ferrari 57 inmobiliaria</td>\n",
              "      <td>912177526.0</td>\n",
              "      <td>https://www.fotocasa.es/es/comprar/vivienda/ma...</td>\n",
              "      <td>3.0</td>\n",
              "      <td>2.0</td>\n",
              "      <td>103.0</td>\n",
              "      <td>195000</td>\n",
              "      <td>...</td>\n",
              "      <td>0</td>\n",
              "      <td>0</td>\n",
              "      <td>0</td>\n",
              "      <td>0</td>\n",
              "      <td>0</td>\n",
              "      <td>0</td>\n",
              "      <td>40,2948276786438</td>\n",
              "      <td>-3,44402412135624</td>\n",
              "      <td>NaN</td>\n",
              "      <td>NaN</td>\n",
              "    </tr>\n",
              "    <tr>\n",
              "      <th>1</th>\n",
              "      <td>2</td>\n",
              "      <td>153867863</td>\n",
              "      <td>False</td>\n",
              "      <td>tecnocasa fuenlabrada ferrocarril</td>\n",
              "      <td>916358736.0</td>\n",
              "      <td>https://www.fotocasa.es/es/comprar/vivienda/ma...</td>\n",
              "      <td>3.0</td>\n",
              "      <td>1.0</td>\n",
              "      <td>NaN</td>\n",
              "      <td>89000</td>\n",
              "      <td>...</td>\n",
              "      <td>0</td>\n",
              "      <td>0</td>\n",
              "      <td>0</td>\n",
              "      <td>0</td>\n",
              "      <td>0</td>\n",
              "      <td>1</td>\n",
              "      <td>40,28674</td>\n",
              "      <td>-3,79351</td>\n",
              "      <td>NaN</td>\n",
              "      <td>NaN</td>\n",
              "    </tr>\n",
              "    <tr>\n",
              "      <th>2</th>\n",
              "      <td>3</td>\n",
              "      <td>153430440</td>\n",
              "      <td>False</td>\n",
              "      <td>look find boadilla</td>\n",
              "      <td>916350408.0</td>\n",
              "      <td>https://www.fotocasa.es/es/comprar/vivienda/ma...</td>\n",
              "      <td>2.0</td>\n",
              "      <td>2.0</td>\n",
              "      <td>99.0</td>\n",
              "      <td>390000</td>\n",
              "      <td>...</td>\n",
              "      <td>0</td>\n",
              "      <td>0</td>\n",
              "      <td>0</td>\n",
              "      <td>0</td>\n",
              "      <td>0</td>\n",
              "      <td>0</td>\n",
              "      <td>40,4115646786438</td>\n",
              "      <td>-3,90662252135624</td>\n",
              "      <td>NaN</td>\n",
              "      <td>NaN</td>\n",
              "    </tr>\n",
              "    <tr>\n",
              "      <th>3</th>\n",
              "      <td>4</td>\n",
              "      <td>152776331</td>\n",
              "      <td>False</td>\n",
              "      <td>tecnocasa fuenlabrada ferrocarril</td>\n",
              "      <td>916358736.0</td>\n",
              "      <td>https://www.fotocasa.es/es/comprar/vivienda/ma...</td>\n",
              "      <td>3.0</td>\n",
              "      <td>1.0</td>\n",
              "      <td>86.0</td>\n",
              "      <td>89000</td>\n",
              "      <td>...</td>\n",
              "      <td>0</td>\n",
              "      <td>0</td>\n",
              "      <td>0</td>\n",
              "      <td>0</td>\n",
              "      <td>0</td>\n",
              "      <td>0</td>\n",
              "      <td>40,2853785786438</td>\n",
              "      <td>-3,79508142135624</td>\n",
              "      <td>NaN</td>\n",
              "      <td>NaN</td>\n",
              "    </tr>\n",
              "    <tr>\n",
              "      <th>4</th>\n",
              "      <td>5</td>\n",
              "      <td>153180188</td>\n",
              "      <td>False</td>\n",
              "      <td>ferrari 57 inmobiliaria</td>\n",
              "      <td>912177526.0</td>\n",
              "      <td>https://www.fotocasa.es/es/comprar/vivienda/ma...</td>\n",
              "      <td>2.0</td>\n",
              "      <td>2.0</td>\n",
              "      <td>106.0</td>\n",
              "      <td>172000</td>\n",
              "      <td>...</td>\n",
              "      <td>0</td>\n",
              "      <td>0</td>\n",
              "      <td>0</td>\n",
              "      <td>0</td>\n",
              "      <td>0</td>\n",
              "      <td>0</td>\n",
              "      <td>40,2998774864376</td>\n",
              "      <td>-3,45226301356237</td>\n",
              "      <td>NaN</td>\n",
              "      <td>NaN</td>\n",
              "    </tr>\n",
              "    <tr>\n",
              "      <th>...</th>\n",
              "      <td>...</td>\n",
              "      <td>...</td>\n",
              "      <td>...</td>\n",
              "      <td>...</td>\n",
              "      <td>...</td>\n",
              "      <td>...</td>\n",
              "      <td>...</td>\n",
              "      <td>...</td>\n",
              "      <td>...</td>\n",
              "      <td>...</td>\n",
              "      <td>...</td>\n",
              "      <td>...</td>\n",
              "      <td>...</td>\n",
              "      <td>...</td>\n",
              "      <td>...</td>\n",
              "      <td>...</td>\n",
              "      <td>...</td>\n",
              "      <td>...</td>\n",
              "      <td>...</td>\n",
              "      <td>...</td>\n",
              "      <td>...</td>\n",
              "    </tr>\n",
              "    <tr>\n",
              "      <th>15330</th>\n",
              "      <td>15331</td>\n",
              "      <td>153901377</td>\n",
              "      <td>False</td>\n",
              "      <td>infocasa consulting</td>\n",
              "      <td>911360461.0</td>\n",
              "      <td>https://www.fotocasa.es/es/comprar/vivienda/ma...</td>\n",
              "      <td>2.0</td>\n",
              "      <td>1.0</td>\n",
              "      <td>96.0</td>\n",
              "      <td>259470</td>\n",
              "      <td>...</td>\n",
              "      <td>0</td>\n",
              "      <td>0</td>\n",
              "      <td>0</td>\n",
              "      <td>0</td>\n",
              "      <td>0</td>\n",
              "      <td>0</td>\n",
              "      <td>40,45416</td>\n",
              "      <td>-3,70286</td>\n",
              "      <td>NaN</td>\n",
              "      <td>NaN</td>\n",
              "    </tr>\n",
              "    <tr>\n",
              "      <th>15331</th>\n",
              "      <td>15332</td>\n",
              "      <td>150394373</td>\n",
              "      <td>False</td>\n",
              "      <td>inmobiliaria pulpon</td>\n",
              "      <td>912788039.0</td>\n",
              "      <td>https://www.fotocasa.es/es/comprar/vivienda/ma...</td>\n",
              "      <td>3.0</td>\n",
              "      <td>1.0</td>\n",
              "      <td>150.0</td>\n",
              "      <td>165000</td>\n",
              "      <td>...</td>\n",
              "      <td>0</td>\n",
              "      <td>0</td>\n",
              "      <td>0</td>\n",
              "      <td>0</td>\n",
              "      <td>0</td>\n",
              "      <td>0</td>\n",
              "      <td>40,36652</td>\n",
              "      <td>-3,48951</td>\n",
              "      <td>NaN</td>\n",
              "      <td>NaN</td>\n",
              "    </tr>\n",
              "    <tr>\n",
              "      <th>15332</th>\n",
              "      <td>15333</td>\n",
              "      <td>153901397</td>\n",
              "      <td>False</td>\n",
              "      <td>tecnocasa torrelodones</td>\n",
              "      <td>912780348.0</td>\n",
              "      <td>https://www.fotocasa.es/es/comprar/vivienda/ma...</td>\n",
              "      <td>4.0</td>\n",
              "      <td>2.0</td>\n",
              "      <td>175.0</td>\n",
              "      <td>495000</td>\n",
              "      <td>...</td>\n",
              "      <td>0</td>\n",
              "      <td>0</td>\n",
              "      <td>0</td>\n",
              "      <td>0</td>\n",
              "      <td>0</td>\n",
              "      <td>0</td>\n",
              "      <td>40,57444</td>\n",
              "      <td>-3,92124</td>\n",
              "      <td>NaN</td>\n",
              "      <td>NaN</td>\n",
              "    </tr>\n",
              "    <tr>\n",
              "      <th>15333</th>\n",
              "      <td>15334</td>\n",
              "      <td>152607440</td>\n",
              "      <td>False</td>\n",
              "      <td>inmobiliaria pulpon</td>\n",
              "      <td>912788039.0</td>\n",
              "      <td>https://www.fotocasa.es/es/comprar/vivienda/ma...</td>\n",
              "      <td>3.0</td>\n",
              "      <td>2.0</td>\n",
              "      <td>101.0</td>\n",
              "      <td>195000</td>\n",
              "      <td>...</td>\n",
              "      <td>0</td>\n",
              "      <td>0</td>\n",
              "      <td>0</td>\n",
              "      <td>0</td>\n",
              "      <td>0</td>\n",
              "      <td>0</td>\n",
              "      <td>40,36967</td>\n",
              "      <td>-3,48105</td>\n",
              "      <td>NaN</td>\n",
              "      <td>NaN</td>\n",
              "    </tr>\n",
              "    <tr>\n",
              "      <th>15334</th>\n",
              "      <td>15335</td>\n",
              "      <td>153901356</td>\n",
              "      <td>False</td>\n",
              "      <td>infocasa consulting</td>\n",
              "      <td>911360461.0</td>\n",
              "      <td>https://www.fotocasa.es/es/comprar/vivienda/ma...</td>\n",
              "      <td>3.0</td>\n",
              "      <td>2.0</td>\n",
              "      <td>152.0</td>\n",
              "      <td>765000</td>\n",
              "      <td>...</td>\n",
              "      <td>0</td>\n",
              "      <td>0</td>\n",
              "      <td>0</td>\n",
              "      <td>0</td>\n",
              "      <td>0</td>\n",
              "      <td>0</td>\n",
              "      <td>40,45773</td>\n",
              "      <td>-3,69068</td>\n",
              "      <td>NaN</td>\n",
              "      <td>NaN</td>\n",
              "    </tr>\n",
              "  </tbody>\n",
              "</table>\n",
              "<p>15335 rows × 37 columns</p>\n",
              "</div>"
            ],
            "text/plain": [
              "       Unnamed: 0  id_realEstates  isNew                    realEstate_name  \\\n",
              "0               1       153771986  False            ferrari 57 inmobiliaria   \n",
              "1               2       153867863  False  tecnocasa fuenlabrada ferrocarril   \n",
              "2               3       153430440  False                 look find boadilla   \n",
              "3               4       152776331  False  tecnocasa fuenlabrada ferrocarril   \n",
              "4               5       153180188  False            ferrari 57 inmobiliaria   \n",
              "...           ...             ...    ...                                ...   \n",
              "15330       15331       153901377  False                infocasa consulting   \n",
              "15331       15332       150394373  False                inmobiliaria pulpon   \n",
              "15332       15333       153901397  False             tecnocasa torrelodones   \n",
              "15333       15334       152607440  False                inmobiliaria pulpon   \n",
              "15334       15335       153901356  False                infocasa consulting   \n",
              "\n",
              "       phone_realEstate                                       url_inmueble  \\\n",
              "0           912177526.0  https://www.fotocasa.es/es/comprar/vivienda/ma...   \n",
              "1           916358736.0  https://www.fotocasa.es/es/comprar/vivienda/ma...   \n",
              "2           916350408.0  https://www.fotocasa.es/es/comprar/vivienda/ma...   \n",
              "3           916358736.0  https://www.fotocasa.es/es/comprar/vivienda/ma...   \n",
              "4           912177526.0  https://www.fotocasa.es/es/comprar/vivienda/ma...   \n",
              "...                 ...                                                ...   \n",
              "15330       911360461.0  https://www.fotocasa.es/es/comprar/vivienda/ma...   \n",
              "15331       912788039.0  https://www.fotocasa.es/es/comprar/vivienda/ma...   \n",
              "15332       912780348.0  https://www.fotocasa.es/es/comprar/vivienda/ma...   \n",
              "15333       912788039.0  https://www.fotocasa.es/es/comprar/vivienda/ma...   \n",
              "15334       911360461.0  https://www.fotocasa.es/es/comprar/vivienda/ma...   \n",
              "\n",
              "       rooms  bathrooms  surface   price  ... level4Id level5Id level6Id  \\\n",
              "0        3.0        2.0    103.0  195000  ...        0        0        0   \n",
              "1        3.0        1.0      NaN   89000  ...        0        0        0   \n",
              "2        2.0        2.0     99.0  390000  ...        0        0        0   \n",
              "3        3.0        1.0     86.0   89000  ...        0        0        0   \n",
              "4        2.0        2.0    106.0  172000  ...        0        0        0   \n",
              "...      ...        ...      ...     ...  ...      ...      ...      ...   \n",
              "15330    2.0        1.0     96.0  259470  ...        0        0        0   \n",
              "15331    3.0        1.0    150.0  165000  ...        0        0        0   \n",
              "15332    4.0        2.0    175.0  495000  ...        0        0        0   \n",
              "15333    3.0        2.0    101.0  195000  ...        0        0        0   \n",
              "15334    3.0        2.0    152.0  765000  ...        0        0        0   \n",
              "\n",
              "      level7Id level8Id accuracy          latitude          longitude zipCode  \\\n",
              "0            0        0        0  40,2948276786438  -3,44402412135624     NaN   \n",
              "1            0        0        1          40,28674           -3,79351     NaN   \n",
              "2            0        0        0  40,4115646786438  -3,90662252135624     NaN   \n",
              "3            0        0        0  40,2853785786438  -3,79508142135624     NaN   \n",
              "4            0        0        0  40,2998774864376  -3,45226301356237     NaN   \n",
              "...        ...      ...      ...               ...                ...     ...   \n",
              "15330        0        0        0          40,45416           -3,70286     NaN   \n",
              "15331        0        0        0          40,36652           -3,48951     NaN   \n",
              "15332        0        0        0          40,57444           -3,92124     NaN   \n",
              "15333        0        0        0          40,36967           -3,48105     NaN   \n",
              "15334        0        0        0          40,45773           -3,69068     NaN   \n",
              "\n",
              "      customZone  \n",
              "0            NaN  \n",
              "1            NaN  \n",
              "2            NaN  \n",
              "3            NaN  \n",
              "4            NaN  \n",
              "...          ...  \n",
              "15330        NaN  \n",
              "15331        NaN  \n",
              "15332        NaN  \n",
              "15333        NaN  \n",
              "15334        NaN  \n",
              "\n",
              "[15335 rows x 37 columns]"
            ]
          },
          "execution_count": 8,
          "metadata": {},
          "output_type": "execute_result"
        }
      ],
      "source": [
        "# Este archivo CSV contiene puntos y comas en lugar de comas como separadores\n",
        "df = pd.read_csv('assets/real_estate.csv', sep=';')\n",
        "df"
      ]
    },
    {
      "cell_type": "markdown",
      "id": "9670bfd13cfca1e7",
      "metadata": {
        "id": "9670bfd13cfca1e7"
      },
      "source": [
        "## Trabajando con un DataFrame"
      ]
    },
    {
      "cell_type": "markdown",
      "id": "latin-guest",
      "metadata": {
        "id": "latin-guest"
      },
      "source": [
        "#### Ejercicio 01\n",
        "\n",
        "¿Cuál es la casa más cara del dataset? (★☆☆)\n",
        "\n",
        "Imprime la dirección y el precio de la casa seleccionada. Para visualizar el resultado utiliza un f-string. Por ejemplo:\n",
        "\n",
        "```py\n",
        "f'La casa más cara se encuentra en la dirección: {address} y su precio es {price} €'\n",
        "```"
      ]
    },
    {
      "cell_type": "code",
      "execution_count": 9,
      "id": "developing-optimum",
      "metadata": {
        "colab": {
          "base_uri": "https://localhost:8080/"
        },
        "id": "developing-optimum",
        "outputId": "5f45c047-5ada-4a45-a2d1-e5273dfe87a8"
      },
      "outputs": [
        {
          "data": {
            "text/plain": [
              "np.int64(8500000)"
            ]
          },
          "execution_count": 9,
          "metadata": {},
          "output_type": "execute_result"
        }
      ],
      "source": [
        "highest_price = df['price'].max()\n",
        "highest_price\n"
      ]
    },
    {
      "cell_type": "code",
      "execution_count": 10,
      "id": "HVbDw2PN7ilj",
      "metadata": {
        "colab": {
          "base_uri": "https://localhost:8080/",
          "height": 453
        },
        "id": "HVbDw2PN7ilj",
        "outputId": "09f2f718-a085-4081-ad60-bfccebd8d949"
      },
      "outputs": [
        {
          "data": {
            "text/plain": [
              "0        False\n",
              "1        False\n",
              "2        False\n",
              "3        False\n",
              "4        False\n",
              "         ...  \n",
              "15330    False\n",
              "15331    False\n",
              "15332    False\n",
              "15333    False\n",
              "15334    False\n",
              "Name: price, Length: 15335, dtype: bool"
            ]
          },
          "execution_count": 10,
          "metadata": {},
          "output_type": "execute_result"
        }
      ],
      "source": [
        "row_maximum_price = df['price'] == highest_price\n",
        "row_maximum_price"
      ]
    },
    {
      "cell_type": "code",
      "execution_count": 11,
      "id": "M0jf2YtaUSEU",
      "metadata": {
        "colab": {
          "base_uri": "https://localhost:8080/",
          "height": 89
        },
        "id": "M0jf2YtaUSEU",
        "outputId": "7cb66377-a172-477d-b98d-63f8f112850e"
      },
      "outputs": [
        {
          "data": {
            "text/html": [
              "<div>\n",
              "<style scoped>\n",
              "    .dataframe tbody tr th:only-of-type {\n",
              "        vertical-align: middle;\n",
              "    }\n",
              "\n",
              "    .dataframe tbody tr th {\n",
              "        vertical-align: top;\n",
              "    }\n",
              "\n",
              "    .dataframe thead th {\n",
              "        text-align: right;\n",
              "    }\n",
              "</style>\n",
              "<table border=\"1\" class=\"dataframe\">\n",
              "  <thead>\n",
              "    <tr style=\"text-align: right;\">\n",
              "      <th></th>\n",
              "      <th>address</th>\n",
              "      <th>country</th>\n",
              "      <th>level1</th>\n",
              "      <th>level3</th>\n",
              "    </tr>\n",
              "  </thead>\n",
              "  <tbody>\n",
              "    <tr>\n",
              "      <th>13110</th>\n",
              "      <td>El Escorial</td>\n",
              "      <td>España</td>\n",
              "      <td>Madrid</td>\n",
              "      <td>Zona Noroeste</td>\n",
              "    </tr>\n",
              "  </tbody>\n",
              "</table>\n",
              "</div>"
            ],
            "text/plain": [
              "           address country  level1         level3\n",
              "13110  El Escorial  España  Madrid  Zona Noroeste"
            ]
          },
          "execution_count": 11,
          "metadata": {},
          "output_type": "execute_result"
        }
      ],
      "source": [
        "address = df[['address', 'country', 'level1', 'level3']][df['price'] == highest_price]\n",
        "address\n"
      ]
    },
    {
      "cell_type": "code",
      "execution_count": 12,
      "id": "X8gaulKfXyQa",
      "metadata": {
        "colab": {
          "base_uri": "https://localhost:8080/"
        },
        "id": "X8gaulKfXyQa",
        "outputId": "5f628312-a485-4f18-a3d3-96a3a267f66f"
      },
      "outputs": [
        {
          "data": {
            "text/plain": [
              "[['El Escorial', 'España', 'Madrid', 'Zona Noroeste']]"
            ]
          },
          "execution_count": 12,
          "metadata": {},
          "output_type": "execute_result"
        }
      ],
      "source": [
        "clear_address = address.values.tolist()\n",
        "clear_address"
      ]
    },
    {
      "cell_type": "code",
      "execution_count": 13,
      "id": "wvUfaf8WWK1v",
      "metadata": {
        "colab": {
          "base_uri": "https://localhost:8080/",
          "height": 35
        },
        "id": "wvUfaf8WWK1v",
        "outputId": "5e10ff1e-d4a6-4c35-843e-9d7b71a5dbe7"
      },
      "outputs": [
        {
          "data": {
            "text/plain": [
              "'La casa más cara se encuentra en la dirección: El Escorial, España, Madrid, Zona Noroeste y su precio es 8500000 €'"
            ]
          },
          "execution_count": 13,
          "metadata": {},
          "output_type": "execute_result"
        }
      ],
      "source": [
        "f'La casa más cara se encuentra en la dirección: {clear_address[0][0]}, {clear_address[0][1]}, {clear_address[0][2]}, {clear_address[0][3]} y su precio es {highest_price} €'"
      ]
    },
    {
      "cell_type": "markdown",
      "id": "lesser-cosmetic",
      "metadata": {
        "id": "lesser-cosmetic"
      },
      "source": [
        "#### Ejercicio 02\n",
        "\n",
        "¿Cuál es la casa más barata del dataset? (★☆☆)\n",
        "\n",
        "Imprime la dirección y el precio de la casa seleccionada utilizando f-string"
      ]
    },
    {
      "cell_type": "code",
      "execution_count": 14,
      "id": "lovely-oasis",
      "metadata": {
        "colab": {
          "base_uri": "https://localhost:8080/"
        },
        "id": "lovely-oasis",
        "outputId": "a43ad115-7793-4c77-cc4d-9bb8c0d6793d"
      },
      "outputs": [
        {
          "data": {
            "text/plain": [
              "np.int64(0)"
            ]
          },
          "execution_count": 14,
          "metadata": {},
          "output_type": "execute_result"
        }
      ],
      "source": [
        "lowest_price = df['price'].min()\n",
        "lowest_price"
      ]
    },
    {
      "cell_type": "code",
      "execution_count": 15,
      "id": "r_Divzg4i22_",
      "metadata": {
        "colab": {
          "base_uri": "https://localhost:8080/"
        },
        "id": "r_Divzg4i22_",
        "outputId": "a749543f-bb2c-4091-994e-002ad3df9fd9"
      },
      "outputs": [
        {
          "data": {
            "text/plain": [
              "np.int64(600)"
            ]
          },
          "execution_count": 15,
          "metadata": {},
          "output_type": "execute_result"
        }
      ],
      "source": [
        "lowest_price1 = df['price'][df['price'] > 0].min()\n",
        "lowest_price1"
      ]
    },
    {
      "cell_type": "code",
      "execution_count": 16,
      "id": "RZFDML9gfgKB",
      "metadata": {
        "colab": {
          "base_uri": "https://localhost:8080/",
          "height": 453
        },
        "id": "RZFDML9gfgKB",
        "outputId": "b1141753-5f70-4a7b-86c6-80928efa466c"
      },
      "outputs": [
        {
          "data": {
            "text/plain": [
              "0        False\n",
              "1        False\n",
              "2        False\n",
              "3        False\n",
              "4        False\n",
              "         ...  \n",
              "15330    False\n",
              "15331    False\n",
              "15332    False\n",
              "15333    False\n",
              "15334    False\n",
              "Name: price, Length: 15335, dtype: bool"
            ]
          },
          "execution_count": 16,
          "metadata": {},
          "output_type": "execute_result"
        }
      ],
      "source": [
        "row_lowest_price = df['price'] == lowest_price1\n",
        "row_lowest_price"
      ]
    },
    {
      "cell_type": "code",
      "execution_count": 17,
      "id": "w8SJtdlFftV2",
      "metadata": {
        "colab": {
          "base_uri": "https://localhost:8080/",
          "height": 89
        },
        "id": "w8SJtdlFftV2",
        "outputId": "d3cb515e-6b57-4c2c-bb6d-5abdeb2da7fe"
      },
      "outputs": [
        {
          "data": {
            "text/html": [
              "<div>\n",
              "<style scoped>\n",
              "    .dataframe tbody tr th:only-of-type {\n",
              "        vertical-align: middle;\n",
              "    }\n",
              "\n",
              "    .dataframe tbody tr th {\n",
              "        vertical-align: top;\n",
              "    }\n",
              "\n",
              "    .dataframe thead th {\n",
              "        text-align: right;\n",
              "    }\n",
              "</style>\n",
              "<table border=\"1\" class=\"dataframe\">\n",
              "  <thead>\n",
              "    <tr style=\"text-align: right;\">\n",
              "      <th></th>\n",
              "      <th>address</th>\n",
              "      <th>country</th>\n",
              "      <th>level1</th>\n",
              "      <th>level3</th>\n",
              "    </tr>\n",
              "  </thead>\n",
              "  <tbody>\n",
              "    <tr>\n",
              "      <th>7491</th>\n",
              "      <td>Berlin, Coslada</td>\n",
              "      <td>España</td>\n",
              "      <td>Madrid</td>\n",
              "      <td>Corredor del Henares</td>\n",
              "    </tr>\n",
              "  </tbody>\n",
              "</table>\n",
              "</div>"
            ],
            "text/plain": [
              "              address country  level1                level3\n",
              "7491  Berlin, Coslada  España  Madrid  Corredor del Henares"
            ]
          },
          "execution_count": 17,
          "metadata": {},
          "output_type": "execute_result"
        }
      ],
      "source": [
        "address = df[['address', 'country', 'level1', 'level3']][df['price'] == lowest_price1]\n",
        "address"
      ]
    },
    {
      "cell_type": "code",
      "execution_count": 309,
      "id": "MGcwyAM8m5S8",
      "metadata": {
        "colab": {
          "base_uri": "https://localhost:8080/"
        },
        "id": "MGcwyAM8m5S8",
        "outputId": "3f61c4cb-3414-44cc-9704-926016de4ec1"
      },
      "outputs": [
        {
          "data": {
            "text/plain": [
              "[['Berlin, Coslada', 'España', 'Madrid', 'Corredor del Henares']]"
            ]
          },
          "execution_count": 309,
          "metadata": {},
          "output_type": "execute_result"
        }
      ],
      "source": [
        "clear_address = address.values.tolist()\n",
        "clear_address"
      ]
    },
    {
      "cell_type": "code",
      "execution_count": 18,
      "id": "u0Ks52EIm8NX",
      "metadata": {
        "colab": {
          "base_uri": "https://localhost:8080/",
          "height": 35
        },
        "id": "u0Ks52EIm8NX",
        "outputId": "e605f2b7-e869-4890-b9a5-c6fa5c530295"
      },
      "outputs": [
        {
          "data": {
            "text/plain": [
              "'La casa más barata se encuentra en la dirección: El Escorial, Madrid, España y su precio es 600 €'"
            ]
          },
          "execution_count": 18,
          "metadata": {},
          "output_type": "execute_result"
        }
      ],
      "source": [
        "f'La casa más barata se encuentra en la dirección: {clear_address[0][0]}, {clear_address[0][2]}, {clear_address[0][1]} y su precio es {lowest_price1} €'"
      ]
    },
    {
      "cell_type": "markdown",
      "id": "compliant-fellowship",
      "metadata": {
        "id": "compliant-fellowship"
      },
      "source": [
        "#### Ejercicio 03\n",
        "\n",
        "¿Cuál es la casa más grande del dataset? (★☆☆)\n",
        "\n",
        "Imprime la dirección y el área de las casas seleccionadas utilizando f-string"
      ]
    },
    {
      "cell_type": "code",
      "execution_count": 19,
      "id": "f73938ad",
      "metadata": {
        "colab": {
          "base_uri": "https://localhost:8080/"
        },
        "id": "f73938ad",
        "outputId": "d0db4f28-e87d-4d45-b5c6-548b460c2084"
      },
      "outputs": [
        {
          "data": {
            "text/plain": [
              "np.float64(249000.0)"
            ]
          },
          "execution_count": 19,
          "metadata": {},
          "output_type": "execute_result"
        }
      ],
      "source": [
        "biggest_area = df['surface'].max()\n",
        "biggest_area"
      ]
    },
    {
      "cell_type": "code",
      "execution_count": 20,
      "id": "ifJeVN8goCVt",
      "metadata": {
        "colab": {
          "base_uri": "https://localhost:8080/",
          "height": 453
        },
        "id": "ifJeVN8goCVt",
        "outputId": "6416dc90-a7a8-4c3e-c1d6-bc2d0d451671"
      },
      "outputs": [
        {
          "data": {
            "text/plain": [
              "0        False\n",
              "1        False\n",
              "2        False\n",
              "3        False\n",
              "4        False\n",
              "         ...  \n",
              "15330    False\n",
              "15331    False\n",
              "15332    False\n",
              "15333    False\n",
              "15334    False\n",
              "Name: surface, Length: 15335, dtype: bool"
            ]
          },
          "execution_count": 20,
          "metadata": {},
          "output_type": "execute_result"
        }
      ],
      "source": [
        "row_biggest_area = df['surface'] == biggest_area\n",
        "row_biggest_area"
      ]
    },
    {
      "cell_type": "code",
      "execution_count": 21,
      "id": "bND6L_WzoTuj",
      "metadata": {
        "colab": {
          "base_uri": "https://localhost:8080/",
          "height": 89
        },
        "id": "bND6L_WzoTuj",
        "outputId": "820f2a53-50eb-41bf-c24c-f25dd82c4cc9"
      },
      "outputs": [
        {
          "data": {
            "text/html": [
              "<div>\n",
              "<style scoped>\n",
              "    .dataframe tbody tr th:only-of-type {\n",
              "        vertical-align: middle;\n",
              "    }\n",
              "\n",
              "    .dataframe tbody tr th {\n",
              "        vertical-align: top;\n",
              "    }\n",
              "\n",
              "    .dataframe thead th {\n",
              "        text-align: right;\n",
              "    }\n",
              "</style>\n",
              "<table border=\"1\" class=\"dataframe\">\n",
              "  <thead>\n",
              "    <tr style=\"text-align: right;\">\n",
              "      <th></th>\n",
              "      <th>address</th>\n",
              "      <th>country</th>\n",
              "      <th>level1</th>\n",
              "      <th>level3</th>\n",
              "    </tr>\n",
              "  </thead>\n",
              "  <tbody>\n",
              "    <tr>\n",
              "      <th>6794</th>\n",
              "      <td>Sevilla la Nueva</td>\n",
              "      <td>España</td>\n",
              "      <td>Madrid</td>\n",
              "      <td>Zona Suroeste</td>\n",
              "    </tr>\n",
              "  </tbody>\n",
              "</table>\n",
              "</div>"
            ],
            "text/plain": [
              "               address country  level1         level3\n",
              "6794  Sevilla la Nueva  España  Madrid  Zona Suroeste"
            ]
          },
          "execution_count": 21,
          "metadata": {},
          "output_type": "execute_result"
        }
      ],
      "source": [
        "address = df[['address', 'country', 'level1', 'level3']][df['surface'] == biggest_area]\n",
        "address"
      ]
    },
    {
      "cell_type": "code",
      "execution_count": 22,
      "id": "U6R0iReyohLB",
      "metadata": {
        "colab": {
          "base_uri": "https://localhost:8080/"
        },
        "id": "U6R0iReyohLB",
        "outputId": "613efe5d-1708-4a0f-e0f3-1db1a06ecb5c"
      },
      "outputs": [
        {
          "data": {
            "text/plain": [
              "[['Sevilla la Nueva', 'España', 'Madrid', 'Zona Suroeste']]"
            ]
          },
          "execution_count": 22,
          "metadata": {},
          "output_type": "execute_result"
        }
      ],
      "source": [
        "clear_address = address.values.tolist()\n",
        "clear_address"
      ]
    },
    {
      "cell_type": "code",
      "execution_count": 23,
      "id": "aLjXhe6uomeI",
      "metadata": {
        "colab": {
          "base_uri": "https://localhost:8080/",
          "height": 35
        },
        "id": "aLjXhe6uomeI",
        "outputId": "669fe974-fd54-4ffc-cc7b-acfb2e1e4944"
      },
      "outputs": [
        {
          "data": {
            "text/plain": [
              "'La casa más grande se encuentra en la dirección: Sevilla la Nueva, Madrid, España y su área es 249000.0 m²'"
            ]
          },
          "execution_count": 23,
          "metadata": {},
          "output_type": "execute_result"
        }
      ],
      "source": [
        "f'La casa más grande se encuentra en la dirección: {clear_address[0][0]}, {clear_address[0][2]}, {clear_address[0][1]} y su área es {biggest_area} m²'"
      ]
    },
    {
      "cell_type": "markdown",
      "id": "89afefb0b0eb970e",
      "metadata": {
        "id": "89afefb0b0eb970e"
      },
      "source": [
        "#### Ejercicio 04\n",
        "\n",
        "¿Cuál es la casa más pequeña del dataset? (★☆☆)"
      ]
    },
    {
      "cell_type": "code",
      "execution_count": 24,
      "id": "every-tiffany",
      "metadata": {
        "colab": {
          "base_uri": "https://localhost:8080/"
        },
        "id": "every-tiffany",
        "outputId": "2dff0ac4-f0a4-4ba7-dfd7-990fc65a5c4d"
      },
      "outputs": [
        {
          "data": {
            "text/plain": [
              "np.float64(15.0)"
            ]
          },
          "execution_count": 24,
          "metadata": {},
          "output_type": "execute_result"
        }
      ],
      "source": [
        "smallest_area = df['surface'].min()\n",
        "smallest_area"
      ]
    },
    {
      "cell_type": "code",
      "execution_count": 317,
      "id": "AIpD3vqXslwu",
      "metadata": {
        "colab": {
          "base_uri": "https://localhost:8080/",
          "height": 453
        },
        "id": "AIpD3vqXslwu",
        "outputId": "334a5252-f92e-41ab-f9c7-25a4ad1739bc"
      },
      "outputs": [
        {
          "data": {
            "text/plain": [
              "0        False\n",
              "1        False\n",
              "2        False\n",
              "3        False\n",
              "4        False\n",
              "         ...  \n",
              "15330    False\n",
              "15331    False\n",
              "15332    False\n",
              "15333    False\n",
              "15334    False\n",
              "Name: surface, Length: 15335, dtype: bool"
            ]
          },
          "execution_count": 317,
          "metadata": {},
          "output_type": "execute_result"
        }
      ],
      "source": [
        "row_smallest_area = df['surface'] == smallest_area\n",
        "row_smallest_area"
      ]
    },
    {
      "cell_type": "code",
      "execution_count": 318,
      "id": "f9Dz6RG7tDQ1",
      "metadata": {
        "colab": {
          "base_uri": "https://localhost:8080/",
          "height": 89
        },
        "id": "f9Dz6RG7tDQ1",
        "outputId": "0030ee33-e8d1-46ab-ab1e-15b5a25fe025"
      },
      "outputs": [
        {
          "data": {
            "text/html": [
              "<div>\n",
              "<style scoped>\n",
              "    .dataframe tbody tr th:only-of-type {\n",
              "        vertical-align: middle;\n",
              "    }\n",
              "\n",
              "    .dataframe tbody tr th {\n",
              "        vertical-align: top;\n",
              "    }\n",
              "\n",
              "    .dataframe thead th {\n",
              "        text-align: right;\n",
              "    }\n",
              "</style>\n",
              "<table border=\"1\" class=\"dataframe\">\n",
              "  <thead>\n",
              "    <tr style=\"text-align: right;\">\n",
              "      <th></th>\n",
              "      <th>address</th>\n",
              "      <th>country</th>\n",
              "      <th>level1</th>\n",
              "      <th>level3</th>\n",
              "    </tr>\n",
              "  </thead>\n",
              "  <tbody>\n",
              "    <tr>\n",
              "      <th>498</th>\n",
              "      <td>Calle Amparo,  Madrid Capital</td>\n",
              "      <td>España</td>\n",
              "      <td>Madrid</td>\n",
              "      <td>Madrid, Zona de</td>\n",
              "    </tr>\n",
              "  </tbody>\n",
              "</table>\n",
              "</div>"
            ],
            "text/plain": [
              "                           address country  level1           level3\n",
              "498  Calle Amparo,  Madrid Capital  España  Madrid  Madrid, Zona de"
            ]
          },
          "execution_count": 318,
          "metadata": {},
          "output_type": "execute_result"
        }
      ],
      "source": [
        "address = df[['address', 'country', 'level1', 'level3']][df['surface'] == smallest_area]\n",
        "address"
      ]
    },
    {
      "cell_type": "code",
      "execution_count": 319,
      "id": "i2JLImvMzeLR",
      "metadata": {
        "colab": {
          "base_uri": "https://localhost:8080/",
          "height": 35
        },
        "id": "i2JLImvMzeLR",
        "outputId": "d1a01e2c-371c-4d6b-932e-4ac6b76bda72"
      },
      "outputs": [
        {
          "data": {
            "text/plain": [
              "'La casa más pequeña se encuentra en la dirección: Sevilla la Nueva, Madrid, España y su área es 15.0 m²'"
            ]
          },
          "execution_count": 319,
          "metadata": {},
          "output_type": "execute_result"
        }
      ],
      "source": [
        "f'La casa más pequeña se encuentra en la dirección: {clear_address[0][0]}, {clear_address[0][2]}, {clear_address[0][1]} y su área es {smallest_area} m²'"
      ]
    },
    {
      "cell_type": "markdown",
      "id": "crazy-blame",
      "metadata": {
        "id": "crazy-blame"
      },
      "source": [
        "#### Ejercicio 05.\n",
        "\n",
        "¿El dataset contiene valores no admitidos (NAs)? (★☆☆)\n",
        "\n",
        "- Muestra el nombre de las filas seguidas por un booleano (`True` o `False`) según contengan o no contengan NAs.\n",
        "- También muestra el nombre de las columnas seguidas por un booleano (`True` o `False`) según contengan o no contengan NAs."
      ]
    },
    {
      "cell_type": "code",
      "execution_count": 320,
      "id": "transparent-poetry",
      "metadata": {
        "colab": {
          "base_uri": "https://localhost:8080/",
          "height": 456
        },
        "id": "transparent-poetry",
        "outputId": "4ddd7bba-796a-49f0-ed66-2086e0876b60"
      },
      "outputs": [
        {
          "data": {
            "text/html": [
              "<div>\n",
              "<style scoped>\n",
              "    .dataframe tbody tr th:only-of-type {\n",
              "        vertical-align: middle;\n",
              "    }\n",
              "\n",
              "    .dataframe tbody tr th {\n",
              "        vertical-align: top;\n",
              "    }\n",
              "\n",
              "    .dataframe thead th {\n",
              "        text-align: right;\n",
              "    }\n",
              "</style>\n",
              "<table border=\"1\" class=\"dataframe\">\n",
              "  <thead>\n",
              "    <tr style=\"text-align: right;\">\n",
              "      <th></th>\n",
              "      <th>Unnamed: 0</th>\n",
              "      <th>id_realEstates</th>\n",
              "      <th>isNew</th>\n",
              "      <th>realEstate_name</th>\n",
              "      <th>phone_realEstate</th>\n",
              "      <th>url_inmueble</th>\n",
              "      <th>rooms</th>\n",
              "      <th>bathrooms</th>\n",
              "      <th>surface</th>\n",
              "      <th>price</th>\n",
              "      <th>...</th>\n",
              "      <th>level4Id</th>\n",
              "      <th>level5Id</th>\n",
              "      <th>level6Id</th>\n",
              "      <th>level7Id</th>\n",
              "      <th>level8Id</th>\n",
              "      <th>accuracy</th>\n",
              "      <th>latitude</th>\n",
              "      <th>longitude</th>\n",
              "      <th>zipCode</th>\n",
              "      <th>customZone</th>\n",
              "    </tr>\n",
              "  </thead>\n",
              "  <tbody>\n",
              "    <tr>\n",
              "      <th>0</th>\n",
              "      <td>False</td>\n",
              "      <td>False</td>\n",
              "      <td>False</td>\n",
              "      <td>False</td>\n",
              "      <td>False</td>\n",
              "      <td>False</td>\n",
              "      <td>False</td>\n",
              "      <td>False</td>\n",
              "      <td>False</td>\n",
              "      <td>False</td>\n",
              "      <td>...</td>\n",
              "      <td>False</td>\n",
              "      <td>False</td>\n",
              "      <td>False</td>\n",
              "      <td>False</td>\n",
              "      <td>False</td>\n",
              "      <td>False</td>\n",
              "      <td>False</td>\n",
              "      <td>False</td>\n",
              "      <td>True</td>\n",
              "      <td>True</td>\n",
              "    </tr>\n",
              "    <tr>\n",
              "      <th>1</th>\n",
              "      <td>False</td>\n",
              "      <td>False</td>\n",
              "      <td>False</td>\n",
              "      <td>False</td>\n",
              "      <td>False</td>\n",
              "      <td>False</td>\n",
              "      <td>False</td>\n",
              "      <td>False</td>\n",
              "      <td>True</td>\n",
              "      <td>False</td>\n",
              "      <td>...</td>\n",
              "      <td>False</td>\n",
              "      <td>False</td>\n",
              "      <td>False</td>\n",
              "      <td>False</td>\n",
              "      <td>False</td>\n",
              "      <td>False</td>\n",
              "      <td>False</td>\n",
              "      <td>False</td>\n",
              "      <td>True</td>\n",
              "      <td>True</td>\n",
              "    </tr>\n",
              "    <tr>\n",
              "      <th>2</th>\n",
              "      <td>False</td>\n",
              "      <td>False</td>\n",
              "      <td>False</td>\n",
              "      <td>False</td>\n",
              "      <td>False</td>\n",
              "      <td>False</td>\n",
              "      <td>False</td>\n",
              "      <td>False</td>\n",
              "      <td>False</td>\n",
              "      <td>False</td>\n",
              "      <td>...</td>\n",
              "      <td>False</td>\n",
              "      <td>False</td>\n",
              "      <td>False</td>\n",
              "      <td>False</td>\n",
              "      <td>False</td>\n",
              "      <td>False</td>\n",
              "      <td>False</td>\n",
              "      <td>False</td>\n",
              "      <td>True</td>\n",
              "      <td>True</td>\n",
              "    </tr>\n",
              "    <tr>\n",
              "      <th>3</th>\n",
              "      <td>False</td>\n",
              "      <td>False</td>\n",
              "      <td>False</td>\n",
              "      <td>False</td>\n",
              "      <td>False</td>\n",
              "      <td>False</td>\n",
              "      <td>False</td>\n",
              "      <td>False</td>\n",
              "      <td>False</td>\n",
              "      <td>False</td>\n",
              "      <td>...</td>\n",
              "      <td>False</td>\n",
              "      <td>False</td>\n",
              "      <td>False</td>\n",
              "      <td>False</td>\n",
              "      <td>False</td>\n",
              "      <td>False</td>\n",
              "      <td>False</td>\n",
              "      <td>False</td>\n",
              "      <td>True</td>\n",
              "      <td>True</td>\n",
              "    </tr>\n",
              "    <tr>\n",
              "      <th>4</th>\n",
              "      <td>False</td>\n",
              "      <td>False</td>\n",
              "      <td>False</td>\n",
              "      <td>False</td>\n",
              "      <td>False</td>\n",
              "      <td>False</td>\n",
              "      <td>False</td>\n",
              "      <td>False</td>\n",
              "      <td>False</td>\n",
              "      <td>False</td>\n",
              "      <td>...</td>\n",
              "      <td>False</td>\n",
              "      <td>False</td>\n",
              "      <td>False</td>\n",
              "      <td>False</td>\n",
              "      <td>False</td>\n",
              "      <td>False</td>\n",
              "      <td>False</td>\n",
              "      <td>False</td>\n",
              "      <td>True</td>\n",
              "      <td>True</td>\n",
              "    </tr>\n",
              "    <tr>\n",
              "      <th>...</th>\n",
              "      <td>...</td>\n",
              "      <td>...</td>\n",
              "      <td>...</td>\n",
              "      <td>...</td>\n",
              "      <td>...</td>\n",
              "      <td>...</td>\n",
              "      <td>...</td>\n",
              "      <td>...</td>\n",
              "      <td>...</td>\n",
              "      <td>...</td>\n",
              "      <td>...</td>\n",
              "      <td>...</td>\n",
              "      <td>...</td>\n",
              "      <td>...</td>\n",
              "      <td>...</td>\n",
              "      <td>...</td>\n",
              "      <td>...</td>\n",
              "      <td>...</td>\n",
              "      <td>...</td>\n",
              "      <td>...</td>\n",
              "      <td>...</td>\n",
              "    </tr>\n",
              "    <tr>\n",
              "      <th>15330</th>\n",
              "      <td>False</td>\n",
              "      <td>False</td>\n",
              "      <td>False</td>\n",
              "      <td>False</td>\n",
              "      <td>False</td>\n",
              "      <td>False</td>\n",
              "      <td>False</td>\n",
              "      <td>False</td>\n",
              "      <td>False</td>\n",
              "      <td>False</td>\n",
              "      <td>...</td>\n",
              "      <td>False</td>\n",
              "      <td>False</td>\n",
              "      <td>False</td>\n",
              "      <td>False</td>\n",
              "      <td>False</td>\n",
              "      <td>False</td>\n",
              "      <td>False</td>\n",
              "      <td>False</td>\n",
              "      <td>True</td>\n",
              "      <td>True</td>\n",
              "    </tr>\n",
              "    <tr>\n",
              "      <th>15331</th>\n",
              "      <td>False</td>\n",
              "      <td>False</td>\n",
              "      <td>False</td>\n",
              "      <td>False</td>\n",
              "      <td>False</td>\n",
              "      <td>False</td>\n",
              "      <td>False</td>\n",
              "      <td>False</td>\n",
              "      <td>False</td>\n",
              "      <td>False</td>\n",
              "      <td>...</td>\n",
              "      <td>False</td>\n",
              "      <td>False</td>\n",
              "      <td>False</td>\n",
              "      <td>False</td>\n",
              "      <td>False</td>\n",
              "      <td>False</td>\n",
              "      <td>False</td>\n",
              "      <td>False</td>\n",
              "      <td>True</td>\n",
              "      <td>True</td>\n",
              "    </tr>\n",
              "    <tr>\n",
              "      <th>15332</th>\n",
              "      <td>False</td>\n",
              "      <td>False</td>\n",
              "      <td>False</td>\n",
              "      <td>False</td>\n",
              "      <td>False</td>\n",
              "      <td>False</td>\n",
              "      <td>False</td>\n",
              "      <td>False</td>\n",
              "      <td>False</td>\n",
              "      <td>False</td>\n",
              "      <td>...</td>\n",
              "      <td>False</td>\n",
              "      <td>False</td>\n",
              "      <td>False</td>\n",
              "      <td>False</td>\n",
              "      <td>False</td>\n",
              "      <td>False</td>\n",
              "      <td>False</td>\n",
              "      <td>False</td>\n",
              "      <td>True</td>\n",
              "      <td>True</td>\n",
              "    </tr>\n",
              "    <tr>\n",
              "      <th>15333</th>\n",
              "      <td>False</td>\n",
              "      <td>False</td>\n",
              "      <td>False</td>\n",
              "      <td>False</td>\n",
              "      <td>False</td>\n",
              "      <td>False</td>\n",
              "      <td>False</td>\n",
              "      <td>False</td>\n",
              "      <td>False</td>\n",
              "      <td>False</td>\n",
              "      <td>...</td>\n",
              "      <td>False</td>\n",
              "      <td>False</td>\n",
              "      <td>False</td>\n",
              "      <td>False</td>\n",
              "      <td>False</td>\n",
              "      <td>False</td>\n",
              "      <td>False</td>\n",
              "      <td>False</td>\n",
              "      <td>True</td>\n",
              "      <td>True</td>\n",
              "    </tr>\n",
              "    <tr>\n",
              "      <th>15334</th>\n",
              "      <td>False</td>\n",
              "      <td>False</td>\n",
              "      <td>False</td>\n",
              "      <td>False</td>\n",
              "      <td>False</td>\n",
              "      <td>False</td>\n",
              "      <td>False</td>\n",
              "      <td>False</td>\n",
              "      <td>False</td>\n",
              "      <td>False</td>\n",
              "      <td>...</td>\n",
              "      <td>False</td>\n",
              "      <td>False</td>\n",
              "      <td>False</td>\n",
              "      <td>False</td>\n",
              "      <td>False</td>\n",
              "      <td>False</td>\n",
              "      <td>False</td>\n",
              "      <td>False</td>\n",
              "      <td>True</td>\n",
              "      <td>True</td>\n",
              "    </tr>\n",
              "  </tbody>\n",
              "</table>\n",
              "<p>15335 rows × 37 columns</p>\n",
              "</div>"
            ],
            "text/plain": [
              "       Unnamed: 0  id_realEstates  isNew  realEstate_name  phone_realEstate  \\\n",
              "0           False           False  False            False             False   \n",
              "1           False           False  False            False             False   \n",
              "2           False           False  False            False             False   \n",
              "3           False           False  False            False             False   \n",
              "4           False           False  False            False             False   \n",
              "...           ...             ...    ...              ...               ...   \n",
              "15330       False           False  False            False             False   \n",
              "15331       False           False  False            False             False   \n",
              "15332       False           False  False            False             False   \n",
              "15333       False           False  False            False             False   \n",
              "15334       False           False  False            False             False   \n",
              "\n",
              "       url_inmueble  rooms  bathrooms  surface  price  ...  level4Id  \\\n",
              "0             False  False      False    False  False  ...     False   \n",
              "1             False  False      False     True  False  ...     False   \n",
              "2             False  False      False    False  False  ...     False   \n",
              "3             False  False      False    False  False  ...     False   \n",
              "4             False  False      False    False  False  ...     False   \n",
              "...             ...    ...        ...      ...    ...  ...       ...   \n",
              "15330         False  False      False    False  False  ...     False   \n",
              "15331         False  False      False    False  False  ...     False   \n",
              "15332         False  False      False    False  False  ...     False   \n",
              "15333         False  False      False    False  False  ...     False   \n",
              "15334         False  False      False    False  False  ...     False   \n",
              "\n",
              "       level5Id  level6Id  level7Id  level8Id  accuracy  latitude  longitude  \\\n",
              "0         False     False     False     False     False     False      False   \n",
              "1         False     False     False     False     False     False      False   \n",
              "2         False     False     False     False     False     False      False   \n",
              "3         False     False     False     False     False     False      False   \n",
              "4         False     False     False     False     False     False      False   \n",
              "...         ...       ...       ...       ...       ...       ...        ...   \n",
              "15330     False     False     False     False     False     False      False   \n",
              "15331     False     False     False     False     False     False      False   \n",
              "15332     False     False     False     False     False     False      False   \n",
              "15333     False     False     False     False     False     False      False   \n",
              "15334     False     False     False     False     False     False      False   \n",
              "\n",
              "       zipCode  customZone  \n",
              "0         True        True  \n",
              "1         True        True  \n",
              "2         True        True  \n",
              "3         True        True  \n",
              "4         True        True  \n",
              "...        ...         ...  \n",
              "15330     True        True  \n",
              "15331     True        True  \n",
              "15332     True        True  \n",
              "15333     True        True  \n",
              "15334     True        True  \n",
              "\n",
              "[15335 rows x 37 columns]"
            ]
          },
          "execution_count": 320,
          "metadata": {},
          "output_type": "execute_result"
        }
      ],
      "source": [
        "rows_na = df.isnull()\n",
        "rows_na\n"
      ]
    },
    {
      "cell_type": "code",
      "execution_count": 321,
      "id": "t6MPCdFtA9Mx",
      "metadata": {
        "colab": {
          "base_uri": "https://localhost:8080/",
          "height": 453
        },
        "id": "t6MPCdFtA9Mx",
        "outputId": "6fbc4876-27f2-4a34-e7a9-0336c3da61c1"
      },
      "outputs": [
        {
          "data": {
            "text/plain": [
              "0        True\n",
              "1        True\n",
              "2        True\n",
              "3        True\n",
              "4        True\n",
              "         ... \n",
              "15330    True\n",
              "15331    True\n",
              "15332    True\n",
              "15333    True\n",
              "15334    True\n",
              "Length: 15335, dtype: bool"
            ]
          },
          "execution_count": 321,
          "metadata": {},
          "output_type": "execute_result"
        }
      ],
      "source": [
        "full_list = df.isna().any(axis=1)\n",
        "full_list"
      ]
    },
    {
      "cell_type": "code",
      "execution_count": 322,
      "id": "p6YEAl3q5IyF",
      "metadata": {
        "colab": {
          "base_uri": "https://localhost:8080/",
          "height": 1000
        },
        "id": "p6YEAl3q5IyF",
        "outputId": "4bce9286-f4d9-4e2a-d8ef-6a2a0362f8b0"
      },
      "outputs": [
        {
          "data": {
            "text/plain": [
              "Unnamed: 0           True\n",
              "id_realEstates       True\n",
              "isNew                True\n",
              "realEstate_name      True\n",
              "phone_realEstate     True\n",
              "url_inmueble         True\n",
              "rooms                True\n",
              "bathrooms            True\n",
              "surface              True\n",
              "price                True\n",
              "date                 True\n",
              "description          True\n",
              "address              True\n",
              "country              True\n",
              "level1               True\n",
              "level2               True\n",
              "level3               True\n",
              "level4               True\n",
              "level5               True\n",
              "level6               True\n",
              "level7               True\n",
              "level8               True\n",
              "upperLevel           True\n",
              "countryId           False\n",
              "level1Id            False\n",
              "level2Id            False\n",
              "level3Id            False\n",
              "level4Id            False\n",
              "level5Id            False\n",
              "level6Id            False\n",
              "level7Id            False\n",
              "level8Id            False\n",
              "accuracy             True\n",
              "latitude             True\n",
              "longitude            True\n",
              "zipCode             False\n",
              "customZone          False\n",
              "dtype: bool"
            ]
          },
          "execution_count": 322,
          "metadata": {},
          "output_type": "execute_result"
        }
      ],
      "source": [
        "modify_list = df.any(axis=0)\n",
        "modify_list"
      ]
    },
    {
      "cell_type": "markdown",
      "id": "italic-hydrogen",
      "metadata": {
        "id": "italic-hydrogen"
      },
      "source": [
        "#### Ejercicio 06.\n",
        "\n",
        "Elimina las columnas que contengan NAs del dataset, si aplica (★★☆)\n",
        "\n",
        "Muestra las dimensiones del DataFrame original y del DataFrame después de las eliminaciones."
      ]
    },
    {
      "cell_type": "code",
      "execution_count": 25,
      "id": "administrative-roads",
      "metadata": {
        "colab": {
          "base_uri": "https://localhost:8080/",
          "height": 796
        },
        "id": "administrative-roads",
        "outputId": "6ae44341-a306-4ea9-a697-7aed98339917"
      },
      "outputs": [
        {
          "data": {
            "text/html": [
              "<div>\n",
              "<style scoped>\n",
              "    .dataframe tbody tr th:only-of-type {\n",
              "        vertical-align: middle;\n",
              "    }\n",
              "\n",
              "    .dataframe tbody tr th {\n",
              "        vertical-align: top;\n",
              "    }\n",
              "\n",
              "    .dataframe thead th {\n",
              "        text-align: right;\n",
              "    }\n",
              "</style>\n",
              "<table border=\"1\" class=\"dataframe\">\n",
              "  <thead>\n",
              "    <tr style=\"text-align: right;\">\n",
              "      <th></th>\n",
              "      <th>Unnamed: 0</th>\n",
              "      <th>id_realEstates</th>\n",
              "      <th>isNew</th>\n",
              "      <th>url_inmueble</th>\n",
              "      <th>price</th>\n",
              "      <th>date</th>\n",
              "      <th>address</th>\n",
              "      <th>country</th>\n",
              "      <th>level1</th>\n",
              "      <th>level2</th>\n",
              "      <th>...</th>\n",
              "      <th>level2Id</th>\n",
              "      <th>level3Id</th>\n",
              "      <th>level4Id</th>\n",
              "      <th>level5Id</th>\n",
              "      <th>level6Id</th>\n",
              "      <th>level7Id</th>\n",
              "      <th>level8Id</th>\n",
              "      <th>accuracy</th>\n",
              "      <th>latitude</th>\n",
              "      <th>longitude</th>\n",
              "    </tr>\n",
              "  </thead>\n",
              "  <tbody>\n",
              "    <tr>\n",
              "      <th>0</th>\n",
              "      <td>1</td>\n",
              "      <td>153771986</td>\n",
              "      <td>False</td>\n",
              "      <td>https://www.fotocasa.es/es/comprar/vivienda/ma...</td>\n",
              "      <td>195000</td>\n",
              "      <td>2019-12-28T18:27:15.9975027Z</td>\n",
              "      <td>Calle Presidente Felipe Gonzalez, Arganda del Rey</td>\n",
              "      <td>España</td>\n",
              "      <td>Madrid</td>\n",
              "      <td>Madrid</td>\n",
              "      <td>...</td>\n",
              "      <td>0</td>\n",
              "      <td>0</td>\n",
              "      <td>0</td>\n",
              "      <td>0</td>\n",
              "      <td>0</td>\n",
              "      <td>0</td>\n",
              "      <td>0</td>\n",
              "      <td>0</td>\n",
              "      <td>40,2948276786438</td>\n",
              "      <td>-3,44402412135624</td>\n",
              "    </tr>\n",
              "    <tr>\n",
              "      <th>1</th>\n",
              "      <td>2</td>\n",
              "      <td>153867863</td>\n",
              "      <td>False</td>\n",
              "      <td>https://www.fotocasa.es/es/comprar/vivienda/ma...</td>\n",
              "      <td>89000</td>\n",
              "      <td>2019-12-28T18:27:15.9975027Z</td>\n",
              "      <td>Calle Polvoranca, 6, Fuenlabrada</td>\n",
              "      <td>España</td>\n",
              "      <td>Madrid</td>\n",
              "      <td>Madrid</td>\n",
              "      <td>...</td>\n",
              "      <td>0</td>\n",
              "      <td>0</td>\n",
              "      <td>0</td>\n",
              "      <td>0</td>\n",
              "      <td>0</td>\n",
              "      <td>0</td>\n",
              "      <td>0</td>\n",
              "      <td>1</td>\n",
              "      <td>40,28674</td>\n",
              "      <td>-3,79351</td>\n",
              "    </tr>\n",
              "    <tr>\n",
              "      <th>2</th>\n",
              "      <td>3</td>\n",
              "      <td>153430440</td>\n",
              "      <td>False</td>\n",
              "      <td>https://www.fotocasa.es/es/comprar/vivienda/ma...</td>\n",
              "      <td>390000</td>\n",
              "      <td>2019-12-28T18:27:15.9975027Z</td>\n",
              "      <td>Calle Reyes Católicos, Boadilla del Monte</td>\n",
              "      <td>España</td>\n",
              "      <td>Madrid</td>\n",
              "      <td>Madrid</td>\n",
              "      <td>...</td>\n",
              "      <td>0</td>\n",
              "      <td>0</td>\n",
              "      <td>0</td>\n",
              "      <td>0</td>\n",
              "      <td>0</td>\n",
              "      <td>0</td>\n",
              "      <td>0</td>\n",
              "      <td>0</td>\n",
              "      <td>40,4115646786438</td>\n",
              "      <td>-3,90662252135624</td>\n",
              "    </tr>\n",
              "    <tr>\n",
              "      <th>3</th>\n",
              "      <td>4</td>\n",
              "      <td>152776331</td>\n",
              "      <td>False</td>\n",
              "      <td>https://www.fotocasa.es/es/comprar/vivienda/ma...</td>\n",
              "      <td>89000</td>\n",
              "      <td>2019-12-28T18:27:15.9975027Z</td>\n",
              "      <td>Barrio San Andres, Fuenlabrada</td>\n",
              "      <td>España</td>\n",
              "      <td>Madrid</td>\n",
              "      <td>Madrid</td>\n",
              "      <td>...</td>\n",
              "      <td>0</td>\n",
              "      <td>0</td>\n",
              "      <td>0</td>\n",
              "      <td>0</td>\n",
              "      <td>0</td>\n",
              "      <td>0</td>\n",
              "      <td>0</td>\n",
              "      <td>0</td>\n",
              "      <td>40,2853785786438</td>\n",
              "      <td>-3,79508142135624</td>\n",
              "    </tr>\n",
              "    <tr>\n",
              "      <th>4</th>\n",
              "      <td>5</td>\n",
              "      <td>153180188</td>\n",
              "      <td>False</td>\n",
              "      <td>https://www.fotocasa.es/es/comprar/vivienda/ma...</td>\n",
              "      <td>172000</td>\n",
              "      <td>2019-12-28T18:27:15.9975027Z</td>\n",
              "      <td>Arganda del Rey</td>\n",
              "      <td>España</td>\n",
              "      <td>Madrid</td>\n",
              "      <td>Madrid</td>\n",
              "      <td>...</td>\n",
              "      <td>0</td>\n",
              "      <td>0</td>\n",
              "      <td>0</td>\n",
              "      <td>0</td>\n",
              "      <td>0</td>\n",
              "      <td>0</td>\n",
              "      <td>0</td>\n",
              "      <td>0</td>\n",
              "      <td>40,2998774864376</td>\n",
              "      <td>-3,45226301356237</td>\n",
              "    </tr>\n",
              "    <tr>\n",
              "      <th>...</th>\n",
              "      <td>...</td>\n",
              "      <td>...</td>\n",
              "      <td>...</td>\n",
              "      <td>...</td>\n",
              "      <td>...</td>\n",
              "      <td>...</td>\n",
              "      <td>...</td>\n",
              "      <td>...</td>\n",
              "      <td>...</td>\n",
              "      <td>...</td>\n",
              "      <td>...</td>\n",
              "      <td>...</td>\n",
              "      <td>...</td>\n",
              "      <td>...</td>\n",
              "      <td>...</td>\n",
              "      <td>...</td>\n",
              "      <td>...</td>\n",
              "      <td>...</td>\n",
              "      <td>...</td>\n",
              "      <td>...</td>\n",
              "      <td>...</td>\n",
              "    </tr>\n",
              "    <tr>\n",
              "      <th>15330</th>\n",
              "      <td>15331</td>\n",
              "      <td>153901377</td>\n",
              "      <td>False</td>\n",
              "      <td>https://www.fotocasa.es/es/comprar/vivienda/ma...</td>\n",
              "      <td>259470</td>\n",
              "      <td>2019-12-17T18:19:00Z</td>\n",
              "      <td>Madrid Capital</td>\n",
              "      <td>España</td>\n",
              "      <td>Madrid</td>\n",
              "      <td>Madrid</td>\n",
              "      <td>...</td>\n",
              "      <td>0</td>\n",
              "      <td>0</td>\n",
              "      <td>0</td>\n",
              "      <td>0</td>\n",
              "      <td>0</td>\n",
              "      <td>0</td>\n",
              "      <td>0</td>\n",
              "      <td>0</td>\n",
              "      <td>40,45416</td>\n",
              "      <td>-3,70286</td>\n",
              "    </tr>\n",
              "    <tr>\n",
              "      <th>15331</th>\n",
              "      <td>15332</td>\n",
              "      <td>150394373</td>\n",
              "      <td>False</td>\n",
              "      <td>https://www.fotocasa.es/es/comprar/vivienda/ma...</td>\n",
              "      <td>165000</td>\n",
              "      <td>2019-12-17T18:19:00Z</td>\n",
              "      <td>Velilla de San Antonio</td>\n",
              "      <td>España</td>\n",
              "      <td>Madrid</td>\n",
              "      <td>Madrid</td>\n",
              "      <td>...</td>\n",
              "      <td>0</td>\n",
              "      <td>0</td>\n",
              "      <td>0</td>\n",
              "      <td>0</td>\n",
              "      <td>0</td>\n",
              "      <td>0</td>\n",
              "      <td>0</td>\n",
              "      <td>0</td>\n",
              "      <td>40,36652</td>\n",
              "      <td>-3,48951</td>\n",
              "    </tr>\n",
              "    <tr>\n",
              "      <th>15332</th>\n",
              "      <td>15333</td>\n",
              "      <td>153901397</td>\n",
              "      <td>False</td>\n",
              "      <td>https://www.fotocasa.es/es/comprar/vivienda/ma...</td>\n",
              "      <td>495000</td>\n",
              "      <td>2019-12-17T18:19:00Z</td>\n",
              "      <td>Torrelodones</td>\n",
              "      <td>España</td>\n",
              "      <td>Madrid</td>\n",
              "      <td>Madrid</td>\n",
              "      <td>...</td>\n",
              "      <td>0</td>\n",
              "      <td>0</td>\n",
              "      <td>0</td>\n",
              "      <td>0</td>\n",
              "      <td>0</td>\n",
              "      <td>0</td>\n",
              "      <td>0</td>\n",
              "      <td>0</td>\n",
              "      <td>40,57444</td>\n",
              "      <td>-3,92124</td>\n",
              "    </tr>\n",
              "    <tr>\n",
              "      <th>15333</th>\n",
              "      <td>15334</td>\n",
              "      <td>152607440</td>\n",
              "      <td>False</td>\n",
              "      <td>https://www.fotocasa.es/es/comprar/vivienda/ma...</td>\n",
              "      <td>195000</td>\n",
              "      <td>2019-12-17T18:18:00Z</td>\n",
              "      <td>Velilla de San Antonio</td>\n",
              "      <td>España</td>\n",
              "      <td>Madrid</td>\n",
              "      <td>Madrid</td>\n",
              "      <td>...</td>\n",
              "      <td>0</td>\n",
              "      <td>0</td>\n",
              "      <td>0</td>\n",
              "      <td>0</td>\n",
              "      <td>0</td>\n",
              "      <td>0</td>\n",
              "      <td>0</td>\n",
              "      <td>0</td>\n",
              "      <td>40,36967</td>\n",
              "      <td>-3,48105</td>\n",
              "    </tr>\n",
              "    <tr>\n",
              "      <th>15334</th>\n",
              "      <td>15335</td>\n",
              "      <td>153901356</td>\n",
              "      <td>False</td>\n",
              "      <td>https://www.fotocasa.es/es/comprar/vivienda/ma...</td>\n",
              "      <td>765000</td>\n",
              "      <td>2019-12-17T18:17:00Z</td>\n",
              "      <td>Paseo de la Castellana,  Madrid Capital</td>\n",
              "      <td>España</td>\n",
              "      <td>Madrid</td>\n",
              "      <td>Madrid</td>\n",
              "      <td>...</td>\n",
              "      <td>0</td>\n",
              "      <td>0</td>\n",
              "      <td>0</td>\n",
              "      <td>0</td>\n",
              "      <td>0</td>\n",
              "      <td>0</td>\n",
              "      <td>0</td>\n",
              "      <td>0</td>\n",
              "      <td>40,45773</td>\n",
              "      <td>-3,69068</td>\n",
              "    </tr>\n",
              "  </tbody>\n",
              "</table>\n",
              "<p>15335 rows × 25 columns</p>\n",
              "</div>"
            ],
            "text/plain": [
              "       Unnamed: 0  id_realEstates  isNew  \\\n",
              "0               1       153771986  False   \n",
              "1               2       153867863  False   \n",
              "2               3       153430440  False   \n",
              "3               4       152776331  False   \n",
              "4               5       153180188  False   \n",
              "...           ...             ...    ...   \n",
              "15330       15331       153901377  False   \n",
              "15331       15332       150394373  False   \n",
              "15332       15333       153901397  False   \n",
              "15333       15334       152607440  False   \n",
              "15334       15335       153901356  False   \n",
              "\n",
              "                                            url_inmueble   price  \\\n",
              "0      https://www.fotocasa.es/es/comprar/vivienda/ma...  195000   \n",
              "1      https://www.fotocasa.es/es/comprar/vivienda/ma...   89000   \n",
              "2      https://www.fotocasa.es/es/comprar/vivienda/ma...  390000   \n",
              "3      https://www.fotocasa.es/es/comprar/vivienda/ma...   89000   \n",
              "4      https://www.fotocasa.es/es/comprar/vivienda/ma...  172000   \n",
              "...                                                  ...     ...   \n",
              "15330  https://www.fotocasa.es/es/comprar/vivienda/ma...  259470   \n",
              "15331  https://www.fotocasa.es/es/comprar/vivienda/ma...  165000   \n",
              "15332  https://www.fotocasa.es/es/comprar/vivienda/ma...  495000   \n",
              "15333  https://www.fotocasa.es/es/comprar/vivienda/ma...  195000   \n",
              "15334  https://www.fotocasa.es/es/comprar/vivienda/ma...  765000   \n",
              "\n",
              "                               date  \\\n",
              "0      2019-12-28T18:27:15.9975027Z   \n",
              "1      2019-12-28T18:27:15.9975027Z   \n",
              "2      2019-12-28T18:27:15.9975027Z   \n",
              "3      2019-12-28T18:27:15.9975027Z   \n",
              "4      2019-12-28T18:27:15.9975027Z   \n",
              "...                             ...   \n",
              "15330          2019-12-17T18:19:00Z   \n",
              "15331          2019-12-17T18:19:00Z   \n",
              "15332          2019-12-17T18:19:00Z   \n",
              "15333          2019-12-17T18:18:00Z   \n",
              "15334          2019-12-17T18:17:00Z   \n",
              "\n",
              "                                                 address country  level1  \\\n",
              "0      Calle Presidente Felipe Gonzalez, Arganda del Rey  España  Madrid   \n",
              "1                       Calle Polvoranca, 6, Fuenlabrada  España  Madrid   \n",
              "2              Calle Reyes Católicos, Boadilla del Monte  España  Madrid   \n",
              "3                         Barrio San Andres, Fuenlabrada  España  Madrid   \n",
              "4                                        Arganda del Rey  España  Madrid   \n",
              "...                                                  ...     ...     ...   \n",
              "15330                                     Madrid Capital  España  Madrid   \n",
              "15331                             Velilla de San Antonio  España  Madrid   \n",
              "15332                                       Torrelodones  España  Madrid   \n",
              "15333                             Velilla de San Antonio  España  Madrid   \n",
              "15334            Paseo de la Castellana,  Madrid Capital  España  Madrid   \n",
              "\n",
              "       level2  ... level2Id level3Id level4Id  level5Id  level6Id  level7Id  \\\n",
              "0      Madrid  ...        0        0        0         0         0         0   \n",
              "1      Madrid  ...        0        0        0         0         0         0   \n",
              "2      Madrid  ...        0        0        0         0         0         0   \n",
              "3      Madrid  ...        0        0        0         0         0         0   \n",
              "4      Madrid  ...        0        0        0         0         0         0   \n",
              "...       ...  ...      ...      ...      ...       ...       ...       ...   \n",
              "15330  Madrid  ...        0        0        0         0         0         0   \n",
              "15331  Madrid  ...        0        0        0         0         0         0   \n",
              "15332  Madrid  ...        0        0        0         0         0         0   \n",
              "15333  Madrid  ...        0        0        0         0         0         0   \n",
              "15334  Madrid  ...        0        0        0         0         0         0   \n",
              "\n",
              "       level8Id  accuracy          latitude          longitude  \n",
              "0             0         0  40,2948276786438  -3,44402412135624  \n",
              "1             0         1          40,28674           -3,79351  \n",
              "2             0         0  40,4115646786438  -3,90662252135624  \n",
              "3             0         0  40,2853785786438  -3,79508142135624  \n",
              "4             0         0  40,2998774864376  -3,45226301356237  \n",
              "...         ...       ...               ...                ...  \n",
              "15330         0         0          40,45416           -3,70286  \n",
              "15331         0         0          40,36652           -3,48951  \n",
              "15332         0         0          40,57444           -3,92124  \n",
              "15333         0         0          40,36967           -3,48105  \n",
              "15334         0         0          40,45773           -3,69068  \n",
              "\n",
              "[15335 rows x 25 columns]"
            ]
          },
          "execution_count": 25,
          "metadata": {},
          "output_type": "execute_result"
        }
      ],
      "source": [
        "# To delete the columns\n",
        "\n",
        "remove_column = df.dropna(axis=1)\n",
        "remove_column"
      ]
    },
    {
      "cell_type": "code",
      "execution_count": 324,
      "id": "g8IFWYk2MCyI",
      "metadata": {
        "colab": {
          "base_uri": "https://localhost:8080/"
        },
        "id": "g8IFWYk2MCyI",
        "outputId": "3798ed64-4dce-4d92-dd92-53a2f6e6e2e6"
      },
      "outputs": [
        {
          "data": {
            "text/plain": [
              "(15335, 37)"
            ]
          },
          "execution_count": 324,
          "metadata": {},
          "output_type": "execute_result"
        }
      ],
      "source": [
        "# Original dimensions\n",
        "\n",
        "original_data = df.shape\n",
        "original_data"
      ]
    },
    {
      "cell_type": "code",
      "execution_count": 325,
      "id": "g4LYL2H9MQ9n",
      "metadata": {
        "colab": {
          "base_uri": "https://localhost:8080/"
        },
        "id": "g4LYL2H9MQ9n",
        "outputId": "56f68676-7053-4194-a8ba-15be17be4bbd"
      },
      "outputs": [
        {
          "data": {
            "text/plain": [
              "(15335, 25)"
            ]
          },
          "execution_count": 325,
          "metadata": {},
          "output_type": "execute_result"
        }
      ],
      "source": [
        "# Dimensions after deleting the columns\n",
        "\n",
        "modify_data = df.dropna(axis=1).shape\n",
        "modify_data"
      ]
    },
    {
      "cell_type": "markdown",
      "id": "c00ce93f7105532e",
      "metadata": {
        "id": "c00ce93f7105532e"
      },
      "source": [
        "#### Ejercicio 07\n",
        "\n",
        "¿Cuantas poblaciones (columna level5) contiene el dataset? (★☆☆)\n",
        "\n",
        "- Muestra una lista con los nombres de las poblaciones\n",
        "- Muestra el total de las mismas"
      ]
    },
    {
      "cell_type": "code",
      "execution_count": 326,
      "id": "dd8aec62c12bd8db",
      "metadata": {
        "colab": {
          "base_uri": "https://localhost:8080/",
          "height": 453
        },
        "id": "dd8aec62c12bd8db",
        "outputId": "622940fd-07d0-4473-b1ce-2974ec88605d"
      },
      "outputs": [
        {
          "data": {
            "text/plain": [
              "0               Arganda del Rey\n",
              "1                   Fuenlabrada\n",
              "2            Boadilla del Monte\n",
              "3                   Fuenlabrada\n",
              "4               Arganda del Rey\n",
              "                  ...          \n",
              "15330            Madrid Capital\n",
              "15331    Velilla de San Antonio\n",
              "15332              Torrelodones\n",
              "15333    Velilla de San Antonio\n",
              "15334            Madrid Capital\n",
              "Name: level5, Length: 15335, dtype: object"
            ]
          },
          "execution_count": 326,
          "metadata": {},
          "output_type": "execute_result"
        }
      ],
      "source": [
        "# The list with the names of the towns\n",
        "\n",
        "town_list = df['level5']\n",
        "town_list"
      ]
    },
    {
      "cell_type": "code",
      "execution_count": 327,
      "id": "V3SmncTrOMW7",
      "metadata": {
        "colab": {
          "base_uri": "https://localhost:8080/",
          "height": 484
        },
        "id": "V3SmncTrOMW7",
        "outputId": "fae8b3fb-4cd6-4f9c-b5f0-b8021eb74b77"
      },
      "outputs": [
        {
          "data": {
            "text/plain": [
              "level5\n",
              " Madrid Capital          6643\n",
              "Ajalvir                    17\n",
              "Alcalá de Henares         525\n",
              "Alcobendas                259\n",
              "Alcorcón                  190\n",
              "                         ... \n",
              "Villar del Olmo             7\n",
              "Villarejo de Salvanés      19\n",
              "Villaviciosa de Odón      166\n",
              "Villavieja del Lozoya       6\n",
              "Zarzalejo                   2\n",
              "Length: 168, dtype: int64"
            ]
          },
          "execution_count": 327,
          "metadata": {},
          "output_type": "execute_result"
        }
      ],
      "source": [
        "# The total of each town\n",
        "\n",
        "total_town = df.groupby('level5').size()\n",
        "total_town"
      ]
    },
    {
      "cell_type": "markdown",
      "id": "ffe874b946959731",
      "metadata": {
        "id": "ffe874b946959731"
      },
      "source": [
        "#### Ejercicio 08\n",
        "\n",
        "¿Cuál es la media de precios en la población (columna level5) de \"Arroyomolinos (Madrid)\"? (★★☆)"
      ]
    },
    {
      "cell_type": "code",
      "execution_count": 26,
      "id": "1454ad464d3f1dfe",
      "metadata": {
        "colab": {
          "base_uri": "https://localhost:8080/",
          "height": 490
        },
        "id": "1454ad464d3f1dfe",
        "outputId": "44cd099d-4c40-4a3c-da30-7a1f6f78d0d9"
      },
      "outputs": [
        {
          "data": {
            "text/html": [
              "<div>\n",
              "<style scoped>\n",
              "    .dataframe tbody tr th:only-of-type {\n",
              "        vertical-align: middle;\n",
              "    }\n",
              "\n",
              "    .dataframe tbody tr th {\n",
              "        vertical-align: top;\n",
              "    }\n",
              "\n",
              "    .dataframe thead th {\n",
              "        text-align: right;\n",
              "    }\n",
              "</style>\n",
              "<table border=\"1\" class=\"dataframe\">\n",
              "  <thead>\n",
              "    <tr style=\"text-align: right;\">\n",
              "      <th></th>\n",
              "      <th>Unnamed: 0</th>\n",
              "      <th>id_realEstates</th>\n",
              "      <th>isNew</th>\n",
              "      <th>realEstate_name</th>\n",
              "      <th>phone_realEstate</th>\n",
              "      <th>url_inmueble</th>\n",
              "      <th>rooms</th>\n",
              "      <th>bathrooms</th>\n",
              "      <th>surface</th>\n",
              "      <th>price</th>\n",
              "      <th>...</th>\n",
              "      <th>level4Id</th>\n",
              "      <th>level5Id</th>\n",
              "      <th>level6Id</th>\n",
              "      <th>level7Id</th>\n",
              "      <th>level8Id</th>\n",
              "      <th>accuracy</th>\n",
              "      <th>latitude</th>\n",
              "      <th>longitude</th>\n",
              "      <th>zipCode</th>\n",
              "      <th>customZone</th>\n",
              "    </tr>\n",
              "  </thead>\n",
              "  <tbody>\n",
              "    <tr>\n",
              "      <th>453</th>\n",
              "      <td>454</td>\n",
              "      <td>153843083</td>\n",
              "      <td>False</td>\n",
              "      <td>akris arguelles</td>\n",
              "      <td>911792694.0</td>\n",
              "      <td>https://www.fotocasa.es/es/comprar/vivienda/ma...</td>\n",
              "      <td>2.0</td>\n",
              "      <td>2.0</td>\n",
              "      <td>85.0</td>\n",
              "      <td>165338</td>\n",
              "      <td>...</td>\n",
              "      <td>0</td>\n",
              "      <td>0</td>\n",
              "      <td>0</td>\n",
              "      <td>0</td>\n",
              "      <td>0</td>\n",
              "      <td>0</td>\n",
              "      <td>40,27657</td>\n",
              "      <td>-3,91864</td>\n",
              "      <td>NaN</td>\n",
              "      <td>NaN</td>\n",
              "    </tr>\n",
              "    <tr>\n",
              "      <th>607</th>\n",
              "      <td>608</td>\n",
              "      <td>153620088</td>\n",
              "      <td>False</td>\n",
              "      <td>100 home red inmobiliaria</td>\n",
              "      <td>912669623.0</td>\n",
              "      <td>https://www.fotocasa.es/es/comprar/vivienda/ma...</td>\n",
              "      <td>4.0</td>\n",
              "      <td>3.0</td>\n",
              "      <td>225.0</td>\n",
              "      <td>251646</td>\n",
              "      <td>...</td>\n",
              "      <td>0</td>\n",
              "      <td>0</td>\n",
              "      <td>0</td>\n",
              "      <td>0</td>\n",
              "      <td>0</td>\n",
              "      <td>0</td>\n",
              "      <td>40,2568635154027</td>\n",
              "      <td>-3,91214199444133</td>\n",
              "      <td>NaN</td>\n",
              "      <td>NaN</td>\n",
              "    </tr>\n",
              "    <tr>\n",
              "      <th>613</th>\n",
              "      <td>614</td>\n",
              "      <td>153478908</td>\n",
              "      <td>False</td>\n",
              "      <td>mares inmobiliaria</td>\n",
              "      <td>911794026.0</td>\n",
              "      <td>https://www.fotocasa.es/es/comprar/vivienda/ma...</td>\n",
              "      <td>4.0</td>\n",
              "      <td>4.0</td>\n",
              "      <td>257.0</td>\n",
              "      <td>396000</td>\n",
              "      <td>...</td>\n",
              "      <td>0</td>\n",
              "      <td>0</td>\n",
              "      <td>0</td>\n",
              "      <td>0</td>\n",
              "      <td>0</td>\n",
              "      <td>1</td>\n",
              "      <td>40,2839697</td>\n",
              "      <td>-3,9268743</td>\n",
              "      <td>NaN</td>\n",
              "      <td>NaN</td>\n",
              "    </tr>\n",
              "    <tr>\n",
              "      <th>707</th>\n",
              "      <td>708</td>\n",
              "      <td>153736961</td>\n",
              "      <td>False</td>\n",
              "      <td>gm house</td>\n",
              "      <td>916357589.0</td>\n",
              "      <td>https://www.fotocasa.es/es/comprar/vivienda/po...</td>\n",
              "      <td>3.0</td>\n",
              "      <td>2.0</td>\n",
              "      <td>110.0</td>\n",
              "      <td>225000</td>\n",
              "      <td>...</td>\n",
              "      <td>0</td>\n",
              "      <td>0</td>\n",
              "      <td>0</td>\n",
              "      <td>0</td>\n",
              "      <td>0</td>\n",
              "      <td>0</td>\n",
              "      <td>40,2779047</td>\n",
              "      <td>-3,9136693</td>\n",
              "      <td>NaN</td>\n",
              "      <td>NaN</td>\n",
              "    </tr>\n",
              "    <tr>\n",
              "      <th>852</th>\n",
              "      <td>853</td>\n",
              "      <td>153274493</td>\n",
              "      <td>False</td>\n",
              "      <td>gm house</td>\n",
              "      <td>916357589.0</td>\n",
              "      <td>https://www.fotocasa.es/es/comprar/vivienda/ma...</td>\n",
              "      <td>4.0</td>\n",
              "      <td>2.0</td>\n",
              "      <td>280.0</td>\n",
              "      <td>373000</td>\n",
              "      <td>...</td>\n",
              "      <td>0</td>\n",
              "      <td>0</td>\n",
              "      <td>0</td>\n",
              "      <td>0</td>\n",
              "      <td>0</td>\n",
              "      <td>0</td>\n",
              "      <td>40,2827315</td>\n",
              "      <td>-3,9120264</td>\n",
              "      <td>NaN</td>\n",
              "      <td>NaN</td>\n",
              "    </tr>\n",
              "    <tr>\n",
              "      <th>...</th>\n",
              "      <td>...</td>\n",
              "      <td>...</td>\n",
              "      <td>...</td>\n",
              "      <td>...</td>\n",
              "      <td>...</td>\n",
              "      <td>...</td>\n",
              "      <td>...</td>\n",
              "      <td>...</td>\n",
              "      <td>...</td>\n",
              "      <td>...</td>\n",
              "      <td>...</td>\n",
              "      <td>...</td>\n",
              "      <td>...</td>\n",
              "      <td>...</td>\n",
              "      <td>...</td>\n",
              "      <td>...</td>\n",
              "      <td>...</td>\n",
              "      <td>...</td>\n",
              "      <td>...</td>\n",
              "      <td>...</td>\n",
              "      <td>...</td>\n",
              "    </tr>\n",
              "    <tr>\n",
              "      <th>15019</th>\n",
              "      <td>15020</td>\n",
              "      <td>152767314</td>\n",
              "      <td>False</td>\n",
              "      <td>haya real estate</td>\n",
              "      <td>911227078.0</td>\n",
              "      <td>https://www.fotocasa.es/vivienda/getafe/calle-...</td>\n",
              "      <td>3.0</td>\n",
              "      <td>2.0</td>\n",
              "      <td>143.0</td>\n",
              "      <td>218000</td>\n",
              "      <td>...</td>\n",
              "      <td>0</td>\n",
              "      <td>0</td>\n",
              "      <td>0</td>\n",
              "      <td>0</td>\n",
              "      <td>0</td>\n",
              "      <td>0</td>\n",
              "      <td>40,27849764</td>\n",
              "      <td>-3,91184112</td>\n",
              "      <td>NaN</td>\n",
              "      <td>NaN</td>\n",
              "    </tr>\n",
              "    <tr>\n",
              "      <th>15089</th>\n",
              "      <td>15090</td>\n",
              "      <td>152767395</td>\n",
              "      <td>False</td>\n",
              "      <td>haya real estate</td>\n",
              "      <td>911227078.0</td>\n",
              "      <td>https://www.fotocasa.es/es/comprar/vivienda/ar...</td>\n",
              "      <td>3.0</td>\n",
              "      <td>2.0</td>\n",
              "      <td>140.0</td>\n",
              "      <td>230000</td>\n",
              "      <td>...</td>\n",
              "      <td>0</td>\n",
              "      <td>0</td>\n",
              "      <td>0</td>\n",
              "      <td>0</td>\n",
              "      <td>0</td>\n",
              "      <td>0</td>\n",
              "      <td>40,27849764</td>\n",
              "      <td>-3,91184112</td>\n",
              "      <td>NaN</td>\n",
              "      <td>NaN</td>\n",
              "    </tr>\n",
              "    <tr>\n",
              "      <th>15091</th>\n",
              "      <td>15092</td>\n",
              "      <td>152767377</td>\n",
              "      <td>False</td>\n",
              "      <td>haya real estate</td>\n",
              "      <td>911227078.0</td>\n",
              "      <td>https://www.fotocasa.es/es/comprar/vivienda/ar...</td>\n",
              "      <td>3.0</td>\n",
              "      <td>2.0</td>\n",
              "      <td>143.0</td>\n",
              "      <td>217000</td>\n",
              "      <td>...</td>\n",
              "      <td>0</td>\n",
              "      <td>0</td>\n",
              "      <td>0</td>\n",
              "      <td>0</td>\n",
              "      <td>0</td>\n",
              "      <td>0</td>\n",
              "      <td>40,27849764</td>\n",
              "      <td>-3,91184112</td>\n",
              "      <td>NaN</td>\n",
              "      <td>NaN</td>\n",
              "    </tr>\n",
              "    <tr>\n",
              "      <th>15094</th>\n",
              "      <td>15095</td>\n",
              "      <td>152767335</td>\n",
              "      <td>False</td>\n",
              "      <td>haya real estate</td>\n",
              "      <td>911227078.0</td>\n",
              "      <td>https://www.fotocasa.es/es/comprar/vivienda/ar...</td>\n",
              "      <td>3.0</td>\n",
              "      <td>2.0</td>\n",
              "      <td>142.0</td>\n",
              "      <td>227000</td>\n",
              "      <td>...</td>\n",
              "      <td>0</td>\n",
              "      <td>0</td>\n",
              "      <td>0</td>\n",
              "      <td>0</td>\n",
              "      <td>0</td>\n",
              "      <td>0</td>\n",
              "      <td>40,27849764</td>\n",
              "      <td>-3,91184112</td>\n",
              "      <td>NaN</td>\n",
              "      <td>NaN</td>\n",
              "    </tr>\n",
              "    <tr>\n",
              "      <th>15192</th>\n",
              "      <td>15193</td>\n",
              "      <td>146831440</td>\n",
              "      <td>False</td>\n",
              "      <td>miranda servicios inmobiliarios</td>\n",
              "      <td>912789124.0</td>\n",
              "      <td>https://www.fotocasa.es/es/comprar/vivienda/ma...</td>\n",
              "      <td>3.0</td>\n",
              "      <td>2.0</td>\n",
              "      <td>300.0</td>\n",
              "      <td>462000</td>\n",
              "      <td>...</td>\n",
              "      <td>0</td>\n",
              "      <td>0</td>\n",
              "      <td>0</td>\n",
              "      <td>0</td>\n",
              "      <td>0</td>\n",
              "      <td>0</td>\n",
              "      <td>40,270392</td>\n",
              "      <td>-3,90373610000006</td>\n",
              "      <td>NaN</td>\n",
              "      <td>NaN</td>\n",
              "    </tr>\n",
              "  </tbody>\n",
              "</table>\n",
              "<p>137 rows × 37 columns</p>\n",
              "</div>"
            ],
            "text/plain": [
              "       Unnamed: 0  id_realEstates  isNew                  realEstate_name  \\\n",
              "453           454       153843083  False                  akris arguelles   \n",
              "607           608       153620088  False        100 home red inmobiliaria   \n",
              "613           614       153478908  False               mares inmobiliaria   \n",
              "707           708       153736961  False                         gm house   \n",
              "852           853       153274493  False                         gm house   \n",
              "...           ...             ...    ...                              ...   \n",
              "15019       15020       152767314  False                 haya real estate   \n",
              "15089       15090       152767395  False                 haya real estate   \n",
              "15091       15092       152767377  False                 haya real estate   \n",
              "15094       15095       152767335  False                 haya real estate   \n",
              "15192       15193       146831440  False  miranda servicios inmobiliarios   \n",
              "\n",
              "       phone_realEstate                                       url_inmueble  \\\n",
              "453         911792694.0  https://www.fotocasa.es/es/comprar/vivienda/ma...   \n",
              "607         912669623.0  https://www.fotocasa.es/es/comprar/vivienda/ma...   \n",
              "613         911794026.0  https://www.fotocasa.es/es/comprar/vivienda/ma...   \n",
              "707         916357589.0  https://www.fotocasa.es/es/comprar/vivienda/po...   \n",
              "852         916357589.0  https://www.fotocasa.es/es/comprar/vivienda/ma...   \n",
              "...                 ...                                                ...   \n",
              "15019       911227078.0  https://www.fotocasa.es/vivienda/getafe/calle-...   \n",
              "15089       911227078.0  https://www.fotocasa.es/es/comprar/vivienda/ar...   \n",
              "15091       911227078.0  https://www.fotocasa.es/es/comprar/vivienda/ar...   \n",
              "15094       911227078.0  https://www.fotocasa.es/es/comprar/vivienda/ar...   \n",
              "15192       912789124.0  https://www.fotocasa.es/es/comprar/vivienda/ma...   \n",
              "\n",
              "       rooms  bathrooms  surface   price  ... level4Id level5Id level6Id  \\\n",
              "453      2.0        2.0     85.0  165338  ...        0        0        0   \n",
              "607      4.0        3.0    225.0  251646  ...        0        0        0   \n",
              "613      4.0        4.0    257.0  396000  ...        0        0        0   \n",
              "707      3.0        2.0    110.0  225000  ...        0        0        0   \n",
              "852      4.0        2.0    280.0  373000  ...        0        0        0   \n",
              "...      ...        ...      ...     ...  ...      ...      ...      ...   \n",
              "15019    3.0        2.0    143.0  218000  ...        0        0        0   \n",
              "15089    3.0        2.0    140.0  230000  ...        0        0        0   \n",
              "15091    3.0        2.0    143.0  217000  ...        0        0        0   \n",
              "15094    3.0        2.0    142.0  227000  ...        0        0        0   \n",
              "15192    3.0        2.0    300.0  462000  ...        0        0        0   \n",
              "\n",
              "      level7Id level8Id accuracy          latitude          longitude zipCode  \\\n",
              "453          0        0        0          40,27657           -3,91864     NaN   \n",
              "607          0        0        0  40,2568635154027  -3,91214199444133     NaN   \n",
              "613          0        0        1        40,2839697         -3,9268743     NaN   \n",
              "707          0        0        0        40,2779047         -3,9136693     NaN   \n",
              "852          0        0        0        40,2827315         -3,9120264     NaN   \n",
              "...        ...      ...      ...               ...                ...     ...   \n",
              "15019        0        0        0       40,27849764        -3,91184112     NaN   \n",
              "15089        0        0        0       40,27849764        -3,91184112     NaN   \n",
              "15091        0        0        0       40,27849764        -3,91184112     NaN   \n",
              "15094        0        0        0       40,27849764        -3,91184112     NaN   \n",
              "15192        0        0        0         40,270392  -3,90373610000006     NaN   \n",
              "\n",
              "      customZone  \n",
              "453          NaN  \n",
              "607          NaN  \n",
              "613          NaN  \n",
              "707          NaN  \n",
              "852          NaN  \n",
              "...          ...  \n",
              "15019        NaN  \n",
              "15089        NaN  \n",
              "15091        NaN  \n",
              "15094        NaN  \n",
              "15192        NaN  \n",
              "\n",
              "[137 rows x 37 columns]"
            ]
          },
          "execution_count": 26,
          "metadata": {},
          "output_type": "execute_result"
        }
      ],
      "source": [
        "madrid_town = df[df['level5'] == 'Arroyomolinos (Madrid)']\n",
        "madrid_town"
      ]
    },
    {
      "cell_type": "code",
      "execution_count": 27,
      "id": "sIZRIUHnX81y",
      "metadata": {
        "colab": {
          "base_uri": "https://localhost:8080/",
          "height": 35
        },
        "id": "sIZRIUHnX81y",
        "outputId": "34786875-55a5-4d9d-9ebf-65515b84611a"
      },
      "outputs": [
        {
          "data": {
            "text/plain": [
              "'La media es de 294541.60€.'"
            ]
          },
          "execution_count": 27,
          "metadata": {},
          "output_type": "execute_result"
        }
      ],
      "source": [
        "average_price = madrid_town['price'].mean()\n",
        "f\"La media es de {float(average_price):.2f}€.\""
      ]
    },
    {
      "cell_type": "markdown",
      "id": "actual-edinburgh",
      "metadata": {
        "id": "actual-edinburgh"
      },
      "source": [
        "#### Ejercicio 09.\n",
        "\n",
        "¿Los precios promedios de \"Valdemorillo\" y \"Galapagar\" son iguales? (★★☆)\n",
        "\n",
        "- Muestra ambos promedios\n",
        "- Escribe en una celda markdown una conclusión sobre ellos"
      ]
    },
    {
      "cell_type": "code",
      "execution_count": 43,
      "id": "numeric-commerce",
      "metadata": {
        "colab": {
          "base_uri": "https://localhost:8080/",
          "height": 35
        },
        "id": "numeric-commerce",
        "outputId": "d6e6cad9-37a3-4087-bc8d-67469d217e35"
      },
      "outputs": [
        {
          "data": {
            "text/plain": [
              "'La media de Valdemorillo es 363860.29€.'"
            ]
          },
          "execution_count": 43,
          "metadata": {},
          "output_type": "execute_result"
        }
      ],
      "source": [
        "# The average of Valdemorillo prices\n",
        "\n",
        "average_town1 = df[df['level5'] == 'Valdemorillo']['price'].mean()\n",
        "f\"La media de Valdemorillo es {float(average_town1):.2f}€.\"\n"
      ]
    },
    {
      "cell_type": "code",
      "execution_count": 42,
      "id": "HQIeYlN4csUN",
      "metadata": {
        "colab": {
          "base_uri": "https://localhost:8080/",
          "height": 35
        },
        "id": "HQIeYlN4csUN",
        "outputId": "752910be-6b4d-4d0c-b14f-249661d005af"
      },
      "outputs": [
        {
          "data": {
            "text/plain": [
              "'La media de Galapagar es 360063.20€.'"
            ]
          },
          "execution_count": 42,
          "metadata": {},
          "output_type": "execute_result"
        }
      ],
      "source": [
        "# The average of Galapagar prices\n",
        "\n",
        "average_town2 = df[df['level5'] == 'Galapagar']['price'].mean()\n",
        "f\"La media de Galapagar es {float(average_town2):.2f}€.\"\n"
      ]
    },
    {
      "cell_type": "markdown",
      "id": "swjUUAWjei_2",
      "metadata": {
        "id": "swjUUAWjei_2"
      },
      "source": [
        "Las medias de Valdemorillo y Galapagar no son iguales. Según las medias que hemos obtenido, podemos ver que los **precios** son **más altos en Valdemorillo**."
      ]
    },
    {
      "cell_type": "markdown",
      "id": "lonely-article",
      "metadata": {
        "id": "lonely-article"
      },
      "source": [
        "#### Ejercicio 10\n",
        "\n",
        "¿Los promedios de precio por metro cuadrado (precio/m2) de \"Valdemorillo\" y \"Galapagar\" son iguales? (★★☆)\n",
        "\n",
        "> Pista: Crea una nueva columna llamada `pps` (*price per square* o precio por metro cuadrado) y luego analiza los valores.\n",
        "\n",
        "- Muestra ambos promedios de precio por metro cuadrado\n",
        "- Escribe en una celda markdown una conclusión sobre ellos"
      ]
    },
    {
      "cell_type": "code",
      "execution_count": 46,
      "id": "common-drilling",
      "metadata": {
        "colab": {
          "base_uri": "https://localhost:8080/",
          "height": 453
        },
        "id": "common-drilling",
        "outputId": "c68b3256-4c59-4f8d-b3ea-55d802dc5cc1"
      },
      "outputs": [
        {
          "data": {
            "text/plain": [
              "0        1893.203883\n",
              "1                NaN\n",
              "2        3939.393939\n",
              "3        1034.883721\n",
              "4        1622.641509\n",
              "            ...     \n",
              "15330    2702.812500\n",
              "15331    1100.000000\n",
              "15332    2828.571429\n",
              "15333    1930.693069\n",
              "15334    5032.894737\n",
              "Name: pss, Length: 15335, dtype: float64"
            ]
          },
          "execution_count": 46,
          "metadata": {},
          "output_type": "execute_result"
        }
      ],
      "source": [
        "# To add the column with the price per square meter of each property\n",
        "\n",
        "df['pss'] = df['price'] / df['surface']\n",
        "df['pss']"
      ]
    },
    {
      "cell_type": "code",
      "execution_count": 47,
      "id": "Z6-wGoRQzrb_",
      "metadata": {
        "colab": {
          "base_uri": "https://localhost:8080/",
          "height": 35
        },
        "id": "Z6-wGoRQzrb_",
        "outputId": "bc4a8e76-dbd0-4829-ff95-9e487114d628"
      },
      "outputs": [
        {
          "data": {
            "text/plain": [
              "'El precio medio por metro cuadrado de las propiedades en Valdemorillo es 1317.95€.'"
            ]
          },
          "execution_count": 47,
          "metadata": {},
          "output_type": "execute_result"
        }
      ],
      "source": [
        "# To get the average per square meter of the properties in Valdemorillo\n",
        "\n",
        "average_square1 = df[df['level5'] == 'Valdemorillo']['pss'].mean()\n",
        "f\"El precio medio por metro cuadrado de las propiedades en Valdemorillo es {float(average_square1):.2f}€.\""
      ]
    },
    {
      "cell_type": "code",
      "execution_count": 48,
      "id": "embeXOLr4Blq",
      "metadata": {
        "colab": {
          "base_uri": "https://localhost:8080/",
          "height": 35
        },
        "id": "embeXOLr4Blq",
        "outputId": "55fa6fad-d781-4531-b4cb-6f960de59547"
      },
      "outputs": [
        {
          "data": {
            "text/plain": [
              "'El precio medio por metro cuadrado de las propiedades en Galapagar es 1606.32€.'"
            ]
          },
          "execution_count": 48,
          "metadata": {},
          "output_type": "execute_result"
        }
      ],
      "source": [
        "# To get the average per square meter of the properties in Galapagar\n",
        "\n",
        "average_square2 = df[df['level5'] == 'Galapagar']['pss'].mean()\n",
        "f\"El precio medio por metro cuadrado de las propiedades en Galapagar es {float(average_square2):.2f}€.\""
      ]
    },
    {
      "cell_type": "markdown",
      "id": "7nuBDq_I4UuB",
      "metadata": {
        "id": "7nuBDq_I4UuB"
      },
      "source": [
        "En este caso, según los promedios que hemos obtenido, podemos ver que, aunque el precio medio en Valdemorillo es más alto, **el precio medio por metro cuadrado es más alto en Galapagar.**\n"
      ]
    },
    {
      "cell_type": "markdown",
      "id": "coordinate-sunrise",
      "metadata": {
        "id": "coordinate-sunrise"
      },
      "source": [
        "#### Ejercicio 11\n",
        "\n",
        "¿Cuántas agencias de bienes raíces contiene el dataset? (★★☆)\n",
        "\n",
        "- Muestra el valor obtenido."
      ]
    },
    {
      "cell_type": "code",
      "execution_count": 335,
      "id": "valid-honolulu",
      "metadata": {
        "colab": {
          "base_uri": "https://localhost:8080/"
        },
        "id": "valid-honolulu",
        "outputId": "99a6b2c4-4780-4cd9-fd2b-508c4c1cb281"
      },
      "outputs": [
        {
          "data": {
            "text/plain": [
              "1821"
            ]
          },
          "execution_count": 335,
          "metadata": {},
          "output_type": "execute_result"
        }
      ],
      "source": [
        "agencies_list = df.groupby('realEstate_name').size()\n",
        "len(agencies_list)"
      ]
    },
    {
      "cell_type": "markdown",
      "id": "binding-ebony",
      "metadata": {
        "id": "binding-ebony"
      },
      "source": [
        "#### Ejercicio 12\n",
        "\n",
        "¿Cuál es la población (columna level5) que contiene la mayor cantidad de casas?(★★☆)\n",
        "\n",
        "- Muestra la población y el número de casas."
      ]
    },
    {
      "cell_type": "code",
      "execution_count": 336,
      "id": "static-perry",
      "metadata": {
        "colab": {
          "base_uri": "https://localhost:8080/",
          "height": 419
        },
        "id": "static-perry",
        "outputId": "8962096b-ca57-4848-f5aa-90a2b960d154"
      },
      "outputs": [
        {
          "data": {
            "text/html": [
              "<div>\n",
              "<style scoped>\n",
              "    .dataframe tbody tr th:only-of-type {\n",
              "        vertical-align: middle;\n",
              "    }\n",
              "\n",
              "    .dataframe tbody tr th {\n",
              "        vertical-align: top;\n",
              "    }\n",
              "\n",
              "    .dataframe thead th {\n",
              "        text-align: right;\n",
              "    }\n",
              "</style>\n",
              "<table border=\"1\" class=\"dataframe\">\n",
              "  <thead>\n",
              "    <tr style=\"text-align: right;\">\n",
              "      <th></th>\n",
              "      <th>level5</th>\n",
              "      <th>count</th>\n",
              "    </tr>\n",
              "  </thead>\n",
              "  <tbody>\n",
              "    <tr>\n",
              "      <th>0</th>\n",
              "      <td>Madrid Capital</td>\n",
              "      <td>6643</td>\n",
              "    </tr>\n",
              "    <tr>\n",
              "      <th>1</th>\n",
              "      <td>Ajalvir</td>\n",
              "      <td>17</td>\n",
              "    </tr>\n",
              "    <tr>\n",
              "      <th>2</th>\n",
              "      <td>Alcalá de Henares</td>\n",
              "      <td>525</td>\n",
              "    </tr>\n",
              "    <tr>\n",
              "      <th>3</th>\n",
              "      <td>Alcobendas</td>\n",
              "      <td>259</td>\n",
              "    </tr>\n",
              "    <tr>\n",
              "      <th>4</th>\n",
              "      <td>Alcorcón</td>\n",
              "      <td>190</td>\n",
              "    </tr>\n",
              "    <tr>\n",
              "      <th>...</th>\n",
              "      <td>...</td>\n",
              "      <td>...</td>\n",
              "    </tr>\n",
              "    <tr>\n",
              "      <th>163</th>\n",
              "      <td>Villar del Olmo</td>\n",
              "      <td>7</td>\n",
              "    </tr>\n",
              "    <tr>\n",
              "      <th>164</th>\n",
              "      <td>Villarejo de Salvanés</td>\n",
              "      <td>19</td>\n",
              "    </tr>\n",
              "    <tr>\n",
              "      <th>165</th>\n",
              "      <td>Villaviciosa de Odón</td>\n",
              "      <td>166</td>\n",
              "    </tr>\n",
              "    <tr>\n",
              "      <th>166</th>\n",
              "      <td>Villavieja del Lozoya</td>\n",
              "      <td>6</td>\n",
              "    </tr>\n",
              "    <tr>\n",
              "      <th>167</th>\n",
              "      <td>Zarzalejo</td>\n",
              "      <td>2</td>\n",
              "    </tr>\n",
              "  </tbody>\n",
              "</table>\n",
              "<p>168 rows × 2 columns</p>\n",
              "</div>"
            ],
            "text/plain": [
              "                    level5  count\n",
              "0           Madrid Capital   6643\n",
              "1                  Ajalvir     17\n",
              "2        Alcalá de Henares    525\n",
              "3               Alcobendas    259\n",
              "4                 Alcorcón    190\n",
              "..                     ...    ...\n",
              "163        Villar del Olmo      7\n",
              "164  Villarejo de Salvanés     19\n",
              "165   Villaviciosa de Odón    166\n",
              "166  Villavieja del Lozoya      6\n",
              "167              Zarzalejo      2\n",
              "\n",
              "[168 rows x 2 columns]"
            ]
          },
          "execution_count": 336,
          "metadata": {},
          "output_type": "execute_result"
        }
      ],
      "source": [
        "cuantity_houses = df.groupby('level5').size().reset_index(name='count')\n",
        "cuantity_houses"
      ]
    },
    {
      "cell_type": "code",
      "execution_count": 337,
      "id": "PIcT3ZN7A-FU",
      "metadata": {
        "colab": {
          "base_uri": "https://localhost:8080/",
          "height": 145
        },
        "id": "PIcT3ZN7A-FU",
        "outputId": "69184bc1-a253-4df7-946b-14b31163b5a1"
      },
      "outputs": [
        {
          "data": {
            "text/plain": [
              "level5     Madrid Capital\n",
              "count                6643\n",
              "Name: 0, dtype: object"
            ]
          },
          "execution_count": 337,
          "metadata": {},
          "output_type": "execute_result"
        }
      ],
      "source": [
        "max_cuantity = cuantity_houses.sort_values('count', ascending=False)\n",
        "max_cuantity.iloc[0]"
      ]
    },
    {
      "cell_type": "code",
      "execution_count": 338,
      "id": "aFilSS5Iws88",
      "metadata": {
        "colab": {
          "base_uri": "https://localhost:8080/",
          "height": 35
        },
        "id": "aFilSS5Iws88",
        "outputId": "0d180fc6-2d39-476a-9109-8d7c78fef82f"
      },
      "outputs": [
        {
          "data": {
            "text/plain": [
              "' Madrid Capital'"
            ]
          },
          "execution_count": 338,
          "metadata": {},
          "output_type": "execute_result"
        }
      ],
      "source": [
        "city_max = max_cuantity[\"level5\"].iloc[0]\n",
        "city_max"
      ]
    },
    {
      "cell_type": "code",
      "execution_count": 339,
      "id": "OdJFfUftw0XS",
      "metadata": {
        "colab": {
          "base_uri": "https://localhost:8080/"
        },
        "id": "OdJFfUftw0XS",
        "outputId": "88f95812-31ca-4192-ec1d-2b6e9023cf28"
      },
      "outputs": [
        {
          "data": {
            "text/plain": [
              "np.int64(6643)"
            ]
          },
          "execution_count": 339,
          "metadata": {},
          "output_type": "execute_result"
        }
      ],
      "source": [
        "total_city = max_cuantity[\"count\"].iloc[0]\n",
        "total_city"
      ]
    },
    {
      "cell_type": "code",
      "execution_count": 340,
      "id": "0ZTsVHCOBRMw",
      "metadata": {
        "colab": {
          "base_uri": "https://localhost:8080/",
          "height": 35
        },
        "id": "0ZTsVHCOBRMw",
        "outputId": "032848d3-148e-4f93-ad5a-7399dd9f23da"
      },
      "outputs": [
        {
          "data": {
            "text/plain": [
              "'La mayor cantidad de casas tiene la población:  Madrid Capital y su número de casas es 6643.'"
            ]
          },
          "execution_count": 340,
          "metadata": {},
          "output_type": "execute_result"
        }
      ],
      "source": [
        "f'La mayor cantidad de casas tiene la población: {city_max} y su número de casas es {total_city}.'"
      ]
    },
    {
      "cell_type": "markdown",
      "id": "f6891b36e4d016c4",
      "metadata": {
        "id": "f6891b36e4d016c4"
      },
      "source": [
        "---\n",
        "\n",
        "## Trabajando con un subconjunto del DataFrame"
      ]
    },
    {
      "cell_type": "markdown",
      "id": "entire-classification",
      "metadata": {
        "id": "entire-classification"
      },
      "source": [
        "#### Ejercicio 13\n",
        "\n",
        "Ahora vamos a trabajar con el \"cinturón sur\" de Madrid.\n",
        "\n",
        "Haz un subconjunto del DataFrame original que contenga las siguientes poblaciones (columna level5): \"Fuenlabrada\", \"Leganés\", \"Getafe\", \"Alcorcón\" (★★☆)\n",
        "\n",
        "> Pista: Filtra el DataFrame original usando la columna `level5` y la función `isin`."
      ]
    },
    {
      "cell_type": "code",
      "execution_count": 7,
      "id": "binary-input",
      "metadata": {
        "colab": {
          "base_uri": "https://localhost:8080/",
          "height": 575
        },
        "id": "binary-input",
        "outputId": "0a9cff0b-10af-4aa0-eab3-02dc8f800f8b"
      },
      "outputs": [
        {
          "data": {
            "text/html": [
              "<div>\n",
              "<style scoped>\n",
              "    .dataframe tbody tr th:only-of-type {\n",
              "        vertical-align: middle;\n",
              "    }\n",
              "\n",
              "    .dataframe tbody tr th {\n",
              "        vertical-align: top;\n",
              "    }\n",
              "\n",
              "    .dataframe thead th {\n",
              "        text-align: right;\n",
              "    }\n",
              "</style>\n",
              "<table border=\"1\" class=\"dataframe\">\n",
              "  <thead>\n",
              "    <tr style=\"text-align: right;\">\n",
              "      <th></th>\n",
              "      <th>Unnamed: 0</th>\n",
              "      <th>id_realEstates</th>\n",
              "      <th>isNew</th>\n",
              "      <th>realEstate_name</th>\n",
              "      <th>phone_realEstate</th>\n",
              "      <th>url_inmueble</th>\n",
              "      <th>rooms</th>\n",
              "      <th>bathrooms</th>\n",
              "      <th>surface</th>\n",
              "      <th>price</th>\n",
              "      <th>...</th>\n",
              "      <th>level4Id</th>\n",
              "      <th>level5Id</th>\n",
              "      <th>level6Id</th>\n",
              "      <th>level7Id</th>\n",
              "      <th>level8Id</th>\n",
              "      <th>accuracy</th>\n",
              "      <th>latitude</th>\n",
              "      <th>longitude</th>\n",
              "      <th>zipCode</th>\n",
              "      <th>customZone</th>\n",
              "    </tr>\n",
              "  </thead>\n",
              "  <tbody>\n",
              "    <tr>\n",
              "      <th>1</th>\n",
              "      <td>2</td>\n",
              "      <td>153867863</td>\n",
              "      <td>False</td>\n",
              "      <td>tecnocasa fuenlabrada ferrocarril</td>\n",
              "      <td>916358736.0</td>\n",
              "      <td>https://www.fotocasa.es/es/comprar/vivienda/ma...</td>\n",
              "      <td>3.0</td>\n",
              "      <td>1.0</td>\n",
              "      <td>NaN</td>\n",
              "      <td>89000</td>\n",
              "      <td>...</td>\n",
              "      <td>0</td>\n",
              "      <td>0</td>\n",
              "      <td>0</td>\n",
              "      <td>0</td>\n",
              "      <td>0</td>\n",
              "      <td>1</td>\n",
              "      <td>40,28674</td>\n",
              "      <td>-3,79351</td>\n",
              "      <td>NaN</td>\n",
              "      <td>NaN</td>\n",
              "    </tr>\n",
              "    <tr>\n",
              "      <th>3</th>\n",
              "      <td>4</td>\n",
              "      <td>152776331</td>\n",
              "      <td>False</td>\n",
              "      <td>tecnocasa fuenlabrada ferrocarril</td>\n",
              "      <td>916358736.0</td>\n",
              "      <td>https://www.fotocasa.es/es/comprar/vivienda/ma...</td>\n",
              "      <td>3.0</td>\n",
              "      <td>1.0</td>\n",
              "      <td>86.0</td>\n",
              "      <td>89000</td>\n",
              "      <td>...</td>\n",
              "      <td>0</td>\n",
              "      <td>0</td>\n",
              "      <td>0</td>\n",
              "      <td>0</td>\n",
              "      <td>0</td>\n",
              "      <td>0</td>\n",
              "      <td>40,2853785786438</td>\n",
              "      <td>-3,79508142135624</td>\n",
              "      <td>NaN</td>\n",
              "      <td>NaN</td>\n",
              "    </tr>\n",
              "    <tr>\n",
              "      <th>85</th>\n",
              "      <td>86</td>\n",
              "      <td>153152077</td>\n",
              "      <td>False</td>\n",
              "      <td>sinergical inmobiliaria</td>\n",
              "      <td>NaN</td>\n",
              "      <td>https://www.fotocasa.es/es/comprar/vivienda/le...</td>\n",
              "      <td>1.0</td>\n",
              "      <td>1.0</td>\n",
              "      <td>50.0</td>\n",
              "      <td>107000</td>\n",
              "      <td>...</td>\n",
              "      <td>0</td>\n",
              "      <td>0</td>\n",
              "      <td>0</td>\n",
              "      <td>0</td>\n",
              "      <td>0</td>\n",
              "      <td>1</td>\n",
              "      <td>40,35059</td>\n",
              "      <td>-3,82693</td>\n",
              "      <td>NaN</td>\n",
              "      <td>NaN</td>\n",
              "    </tr>\n",
              "    <tr>\n",
              "      <th>94</th>\n",
              "      <td>95</td>\n",
              "      <td>153995577</td>\n",
              "      <td>False</td>\n",
              "      <td>viviendas365com</td>\n",
              "      <td>911226014.0</td>\n",
              "      <td>https://www.fotocasa.es/es/comprar/vivienda/le...</td>\n",
              "      <td>3.0</td>\n",
              "      <td>2.0</td>\n",
              "      <td>120.0</td>\n",
              "      <td>320000</td>\n",
              "      <td>...</td>\n",
              "      <td>0</td>\n",
              "      <td>0</td>\n",
              "      <td>0</td>\n",
              "      <td>0</td>\n",
              "      <td>0</td>\n",
              "      <td>0</td>\n",
              "      <td>40,31933</td>\n",
              "      <td>-3,77574</td>\n",
              "      <td>NaN</td>\n",
              "      <td>NaN</td>\n",
              "    </tr>\n",
              "    <tr>\n",
              "      <th>109</th>\n",
              "      <td>110</td>\n",
              "      <td>153586414</td>\n",
              "      <td>False</td>\n",
              "      <td>area uno asesores inmobiliarios</td>\n",
              "      <td>912664081.0</td>\n",
              "      <td>https://www.fotocasa.es/es/comprar/vivienda/ma...</td>\n",
              "      <td>3.0</td>\n",
              "      <td>3.0</td>\n",
              "      <td>142.0</td>\n",
              "      <td>425000</td>\n",
              "      <td>...</td>\n",
              "      <td>0</td>\n",
              "      <td>0</td>\n",
              "      <td>0</td>\n",
              "      <td>0</td>\n",
              "      <td>0</td>\n",
              "      <td>0</td>\n",
              "      <td>40,3313411</td>\n",
              "      <td>-3,8313868</td>\n",
              "      <td>NaN</td>\n",
              "      <td>NaN</td>\n",
              "    </tr>\n",
              "    <tr>\n",
              "      <th>...</th>\n",
              "      <td>...</td>\n",
              "      <td>...</td>\n",
              "      <td>...</td>\n",
              "      <td>...</td>\n",
              "      <td>...</td>\n",
              "      <td>...</td>\n",
              "      <td>...</td>\n",
              "      <td>...</td>\n",
              "      <td>...</td>\n",
              "      <td>...</td>\n",
              "      <td>...</td>\n",
              "      <td>...</td>\n",
              "      <td>...</td>\n",
              "      <td>...</td>\n",
              "      <td>...</td>\n",
              "      <td>...</td>\n",
              "      <td>...</td>\n",
              "      <td>...</td>\n",
              "      <td>...</td>\n",
              "      <td>...</td>\n",
              "      <td>...</td>\n",
              "    </tr>\n",
              "    <tr>\n",
              "      <th>15275</th>\n",
              "      <td>15276</td>\n",
              "      <td>153903887</td>\n",
              "      <td>False</td>\n",
              "      <td>aliseda servicios de gestion inmobiliaria</td>\n",
              "      <td>911368198.0</td>\n",
              "      <td>https://www.fotocasa.es/es/comprar/vivienda/al...</td>\n",
              "      <td>3.0</td>\n",
              "      <td>1.0</td>\n",
              "      <td>78.0</td>\n",
              "      <td>138000</td>\n",
              "      <td>...</td>\n",
              "      <td>0</td>\n",
              "      <td>0</td>\n",
              "      <td>0</td>\n",
              "      <td>0</td>\n",
              "      <td>0</td>\n",
              "      <td>1</td>\n",
              "      <td>40,31381</td>\n",
              "      <td>-3,83733</td>\n",
              "      <td>NaN</td>\n",
              "      <td>NaN</td>\n",
              "    </tr>\n",
              "    <tr>\n",
              "      <th>15291</th>\n",
              "      <td>15292</td>\n",
              "      <td>151697757</td>\n",
              "      <td>False</td>\n",
              "      <td>unipiso</td>\n",
              "      <td>912788631.0</td>\n",
              "      <td>https://www.fotocasa.es/es/comprar/vivienda/al...</td>\n",
              "      <td>3.0</td>\n",
              "      <td>2.0</td>\n",
              "      <td>110.0</td>\n",
              "      <td>279000</td>\n",
              "      <td>...</td>\n",
              "      <td>0</td>\n",
              "      <td>0</td>\n",
              "      <td>0</td>\n",
              "      <td>0</td>\n",
              "      <td>0</td>\n",
              "      <td>0</td>\n",
              "      <td>40,3259051</td>\n",
              "      <td>-3,76318</td>\n",
              "      <td>NaN</td>\n",
              "      <td>NaN</td>\n",
              "    </tr>\n",
              "    <tr>\n",
              "      <th>15305</th>\n",
              "      <td>15306</td>\n",
              "      <td>153902389</td>\n",
              "      <td>False</td>\n",
              "      <td>jadein ferrero</td>\n",
              "      <td>914871639.0</td>\n",
              "      <td>https://www.fotocasa.es/es/comprar/vivienda/ma...</td>\n",
              "      <td>3.0</td>\n",
              "      <td>2.0</td>\n",
              "      <td>85.0</td>\n",
              "      <td>170000</td>\n",
              "      <td>...</td>\n",
              "      <td>0</td>\n",
              "      <td>0</td>\n",
              "      <td>0</td>\n",
              "      <td>0</td>\n",
              "      <td>0</td>\n",
              "      <td>0</td>\n",
              "      <td>40,2882193</td>\n",
              "      <td>-3,8098617</td>\n",
              "      <td>NaN</td>\n",
              "      <td>NaN</td>\n",
              "    </tr>\n",
              "    <tr>\n",
              "      <th>15322</th>\n",
              "      <td>15323</td>\n",
              "      <td>153871864</td>\n",
              "      <td>False</td>\n",
              "      <td>gestion comercial</td>\n",
              "      <td>911220662.0</td>\n",
              "      <td>https://www.fotocasa.es/es/comprar/vivienda/ma...</td>\n",
              "      <td>3.0</td>\n",
              "      <td>1.0</td>\n",
              "      <td>91.0</td>\n",
              "      <td>112000</td>\n",
              "      <td>...</td>\n",
              "      <td>0</td>\n",
              "      <td>0</td>\n",
              "      <td>0</td>\n",
              "      <td>0</td>\n",
              "      <td>0</td>\n",
              "      <td>0</td>\n",
              "      <td>40,28282</td>\n",
              "      <td>-3,78892</td>\n",
              "      <td>NaN</td>\n",
              "      <td>NaN</td>\n",
              "    </tr>\n",
              "    <tr>\n",
              "      <th>15325</th>\n",
              "      <td>15326</td>\n",
              "      <td>153901467</td>\n",
              "      <td>False</td>\n",
              "      <td>montehogar 68</td>\n",
              "      <td>911790675.0</td>\n",
              "      <td>https://www.fotocasa.es/es/comprar/vivienda/ma...</td>\n",
              "      <td>2.0</td>\n",
              "      <td>2.0</td>\n",
              "      <td>99.0</td>\n",
              "      <td>215000</td>\n",
              "      <td>...</td>\n",
              "      <td>0</td>\n",
              "      <td>0</td>\n",
              "      <td>0</td>\n",
              "      <td>0</td>\n",
              "      <td>0</td>\n",
              "      <td>1</td>\n",
              "      <td>40,28062</td>\n",
              "      <td>-3,79869</td>\n",
              "      <td>NaN</td>\n",
              "      <td>NaN</td>\n",
              "    </tr>\n",
              "  </tbody>\n",
              "</table>\n",
              "<p>907 rows × 37 columns</p>\n",
              "</div>"
            ],
            "text/plain": [
              "       Unnamed: 0  id_realEstates  isNew  \\\n",
              "1               2       153867863  False   \n",
              "3               4       152776331  False   \n",
              "85             86       153152077  False   \n",
              "94             95       153995577  False   \n",
              "109           110       153586414  False   \n",
              "...           ...             ...    ...   \n",
              "15275       15276       153903887  False   \n",
              "15291       15292       151697757  False   \n",
              "15305       15306       153902389  False   \n",
              "15322       15323       153871864  False   \n",
              "15325       15326       153901467  False   \n",
              "\n",
              "                                 realEstate_name  phone_realEstate  \\\n",
              "1              tecnocasa fuenlabrada ferrocarril       916358736.0   \n",
              "3              tecnocasa fuenlabrada ferrocarril       916358736.0   \n",
              "85                       sinergical inmobiliaria               NaN   \n",
              "94                               viviendas365com       911226014.0   \n",
              "109              area uno asesores inmobiliarios       912664081.0   \n",
              "...                                          ...               ...   \n",
              "15275  aliseda servicios de gestion inmobiliaria       911368198.0   \n",
              "15291                                    unipiso       912788631.0   \n",
              "15305                             jadein ferrero       914871639.0   \n",
              "15322                          gestion comercial       911220662.0   \n",
              "15325                              montehogar 68       911790675.0   \n",
              "\n",
              "                                            url_inmueble  rooms  bathrooms  \\\n",
              "1      https://www.fotocasa.es/es/comprar/vivienda/ma...    3.0        1.0   \n",
              "3      https://www.fotocasa.es/es/comprar/vivienda/ma...    3.0        1.0   \n",
              "85     https://www.fotocasa.es/es/comprar/vivienda/le...    1.0        1.0   \n",
              "94     https://www.fotocasa.es/es/comprar/vivienda/le...    3.0        2.0   \n",
              "109    https://www.fotocasa.es/es/comprar/vivienda/ma...    3.0        3.0   \n",
              "...                                                  ...    ...        ...   \n",
              "15275  https://www.fotocasa.es/es/comprar/vivienda/al...    3.0        1.0   \n",
              "15291  https://www.fotocasa.es/es/comprar/vivienda/al...    3.0        2.0   \n",
              "15305  https://www.fotocasa.es/es/comprar/vivienda/ma...    3.0        2.0   \n",
              "15322  https://www.fotocasa.es/es/comprar/vivienda/ma...    3.0        1.0   \n",
              "15325  https://www.fotocasa.es/es/comprar/vivienda/ma...    2.0        2.0   \n",
              "\n",
              "       surface   price  ... level4Id level5Id level6Id level7Id level8Id  \\\n",
              "1          NaN   89000  ...        0        0        0        0        0   \n",
              "3         86.0   89000  ...        0        0        0        0        0   \n",
              "85        50.0  107000  ...        0        0        0        0        0   \n",
              "94       120.0  320000  ...        0        0        0        0        0   \n",
              "109      142.0  425000  ...        0        0        0        0        0   \n",
              "...        ...     ...  ...      ...      ...      ...      ...      ...   \n",
              "15275     78.0  138000  ...        0        0        0        0        0   \n",
              "15291    110.0  279000  ...        0        0        0        0        0   \n",
              "15305     85.0  170000  ...        0        0        0        0        0   \n",
              "15322     91.0  112000  ...        0        0        0        0        0   \n",
              "15325     99.0  215000  ...        0        0        0        0        0   \n",
              "\n",
              "      accuracy          latitude          longitude zipCode customZone  \n",
              "1            1          40,28674           -3,79351     NaN        NaN  \n",
              "3            0  40,2853785786438  -3,79508142135624     NaN        NaN  \n",
              "85           1          40,35059           -3,82693     NaN        NaN  \n",
              "94           0          40,31933           -3,77574     NaN        NaN  \n",
              "109          0        40,3313411         -3,8313868     NaN        NaN  \n",
              "...        ...               ...                ...     ...        ...  \n",
              "15275        1          40,31381           -3,83733     NaN        NaN  \n",
              "15291        0        40,3259051           -3,76318     NaN        NaN  \n",
              "15305        0        40,2882193         -3,8098617     NaN        NaN  \n",
              "15322        0          40,28282           -3,78892     NaN        NaN  \n",
              "15325        1          40,28062           -3,79869     NaN        NaN  \n",
              "\n",
              "[907 rows x 37 columns]"
            ]
          },
          "execution_count": 7,
          "metadata": {},
          "output_type": "execute_result"
        }
      ],
      "source": [
        "original_set = df[df['level5'].isin(['Fuenlabrada', 'Leganés', 'Getafe', 'Alcorcón'])]\n",
        "original_set"
      ]
    },
    {
      "cell_type": "markdown",
      "id": "speaking-diamond",
      "metadata": {
        "id": "speaking-diamond"
      },
      "source": [
        "#### Ejercicio 14\n",
        "\n",
        "Calcula la media y la varianza de muestra para las siguientes variables: precio, habitaciones, superficie y baños (★★★)\n",
        "\n",
        "> Debes usar el subset obtenido en la pregunta 13\n",
        "\n",
        "- Crea y visualiza un diccionario con todos los valores"
      ]
    },
    {
      "cell_type": "code",
      "execution_count": 49,
      "id": "random-feeling",
      "metadata": {
        "colab": {
          "base_uri": "https://localhost:8080/",
          "height": 35
        },
        "id": "random-feeling",
        "outputId": "ad57bb5d-e143-4f2d-e414-47f1052b8301"
      },
      "outputs": [
        {
          "data": {
            "text/plain": [
              "'223094.48€'"
            ]
          },
          "execution_count": 49,
          "metadata": {},
          "output_type": "execute_result"
        }
      ],
      "source": [
        "average_prices = original_set['price'].mean()\n",
        "average_prices = f'{average_prices:.2f}€'\n",
        "average_prices"
      ]
    },
    {
      "cell_type": "code",
      "execution_count": 343,
      "id": "RNeD7KK31bXI",
      "metadata": {
        "colab": {
          "base_uri": "https://localhost:8080/",
          "height": 35
        },
        "id": "RNeD7KK31bXI",
        "outputId": "e9cf4c6d-ed65-47c3-c89d-4e77c6fa3dbb"
      },
      "outputs": [
        {
          "data": {
            "text/plain": [
              "'14921367508.05'"
            ]
          },
          "execution_count": 343,
          "metadata": {},
          "output_type": "execute_result"
        }
      ],
      "source": [
        "variance_prices = original_set['price'].var()\n",
        "variance_prices = f'{variance_prices:.2f}'\n",
        "variance_prices"
      ]
    },
    {
      "cell_type": "code",
      "execution_count": 344,
      "id": "9DzCkoeLy3Lo",
      "metadata": {
        "colab": {
          "base_uri": "https://localhost:8080/",
          "height": 35
        },
        "id": "9DzCkoeLy3Lo",
        "outputId": "d1359125-dddb-4fcd-f2c4-5334bd978fbd"
      },
      "outputs": [
        {
          "data": {
            "text/plain": [
              "'3.02'"
            ]
          },
          "execution_count": 344,
          "metadata": {},
          "output_type": "execute_result"
        }
      ],
      "source": [
        "average_rooms = original_set['rooms'].mean()\n",
        "average_rooms = f'{average_rooms:.2f}'\n",
        "average_rooms"
      ]
    },
    {
      "cell_type": "code",
      "execution_count": 345,
      "id": "U_Wck0W010Nd",
      "metadata": {
        "colab": {
          "base_uri": "https://localhost:8080/",
          "height": 35
        },
        "id": "U_Wck0W010Nd",
        "outputId": "842a0ca9-5655-4005-bee3-4bc63733b21b"
      },
      "outputs": [
        {
          "data": {
            "text/plain": [
              "'0.72'"
            ]
          },
          "execution_count": 345,
          "metadata": {},
          "output_type": "execute_result"
        }
      ],
      "source": [
        "variance_rooms = original_set['rooms'].var()\n",
        "variance_rooms = f'{variance_rooms:.2f}'\n",
        "variance_rooms"
      ]
    },
    {
      "cell_type": "code",
      "execution_count": null,
      "id": "6PSrFXSVzIri",
      "metadata": {
        "colab": {
          "base_uri": "https://localhost:8080/",
          "height": 35
        },
        "id": "6PSrFXSVzIri",
        "outputId": "bf725bf7-8054-4c6c-ef5d-375a776be0dd"
      },
      "outputs": [
        {
          "data": {
            "text/plain": [
              "'111.75'"
            ]
          },
          "execution_count": 346,
          "metadata": {},
          "output_type": "execute_result"
        }
      ],
      "source": [
        "average_surface = original_set['surface'].mean()\n",
        "average_surface = f'{average_surface:.2f}'\n",
        "average_surface"
      ]
    },
    {
      "cell_type": "code",
      "execution_count": 347,
      "id": "S3WeHME5197A",
      "metadata": {
        "colab": {
          "base_uri": "https://localhost:8080/",
          "height": 35
        },
        "id": "S3WeHME5197A",
        "outputId": "8d6b8d4b-315a-463f-cbfa-9cf6c6f0568a"
      },
      "outputs": [
        {
          "data": {
            "text/plain": [
              "'4263.05'"
            ]
          },
          "execution_count": 347,
          "metadata": {},
          "output_type": "execute_result"
        }
      ],
      "source": [
        "variance_surface = original_set['surface'].var()\n",
        "variance_surface = f'{variance_surface:.2f}'\n",
        "variance_surface"
      ]
    },
    {
      "cell_type": "code",
      "execution_count": 348,
      "id": "HRh4wr_kzPRa",
      "metadata": {
        "colab": {
          "base_uri": "https://localhost:8080/",
          "height": 35
        },
        "id": "HRh4wr_kzPRa",
        "outputId": "ec455b05-a9c0-4634-dea3-c0d839ee422b"
      },
      "outputs": [
        {
          "data": {
            "text/plain": [
              "'1.63'"
            ]
          },
          "execution_count": 348,
          "metadata": {},
          "output_type": "execute_result"
        }
      ],
      "source": [
        "average_bathrooms = original_set['bathrooms'].mean()\n",
        "average_bathrooms = f'{average_bathrooms:.2f}'\n",
        "average_bathrooms"
      ]
    },
    {
      "cell_type": "code",
      "execution_count": 349,
      "id": "vYmcCNco1Cza",
      "metadata": {
        "colab": {
          "base_uri": "https://localhost:8080/",
          "height": 35
        },
        "id": "vYmcCNco1Cza",
        "outputId": "b91e3187-8759-4948-cf8f-e1378f035ee3"
      },
      "outputs": [
        {
          "data": {
            "text/plain": [
              "'0.57'"
            ]
          },
          "execution_count": 349,
          "metadata": {},
          "output_type": "execute_result"
        }
      ],
      "source": [
        "variance_bathrooms = original_set['bathrooms'].var()\n",
        "variance_bathrooms = f'{variance_bathrooms:.2f}'\n",
        "variance_bathrooms\n"
      ]
    },
    {
      "cell_type": "code",
      "execution_count": 350,
      "id": "BVuB6rPy2m1Y",
      "metadata": {
        "colab": {
          "base_uri": "https://localhost:8080/"
        },
        "id": "BVuB6rPy2m1Y",
        "outputId": "c6b8e7e8-2fee-4ee9-db14-8b06be7ab0fc"
      },
      "outputs": [
        {
          "data": {
            "text/plain": [
              "{'Prices': {'Average': '223094.48', 'Variance': '14921367508.05'},\n",
              " 'Rooms': {'Average': '3.02', 'Variance': '0.72'},\n",
              " 'Surface': {'Average': '111.75', 'Variance': '4263.05'},\n",
              " 'Bathrooms': {'Average': '1.63', 'Variance': '0.57'}}"
            ]
          },
          "execution_count": 350,
          "metadata": {},
          "output_type": "execute_result"
        }
      ],
      "source": [
        "# To create a dictionary\n",
        "\n",
        "houses = {'Prices': {'Average' : average_prices, 'Variance' : variance_prices},\n",
        "          'Rooms': {'Average' : average_rooms, 'Variance' : variance_rooms},\n",
        "          'Surface': {'Average' : average_surface, 'Variance' : variance_surface},\n",
        "          'Bathrooms': {'Average' : average_bathrooms, 'Variance' : variance_bathrooms}\n",
        "          }\n",
        "houses"
      ]
    },
    {
      "cell_type": "markdown",
      "id": "revolutionary-matrix",
      "metadata": {
        "id": "revolutionary-matrix"
      },
      "source": [
        "#### Ejercicio 15\n",
        "\n",
        "¿Cuál es la casa más cara de cada población del cinturón sur de Madríd? (★★☆)\n",
        "\n",
        "> Debes usar el subset obtenido en la pregunta 13\n",
        "\n",
        "- Genera un DataFrame con esta información\n",
        "- Muestra tanto la dirección como el precio de la casa seleccionada de cada población.\n",
        "- Genera conclusiones en una celda markdown"
      ]
    },
    {
      "cell_type": "code",
      "execution_count": 351,
      "id": "90kD41aXQEt7",
      "metadata": {
        "colab": {
          "base_uri": "https://localhost:8080/",
          "height": 238
        },
        "id": "90kD41aXQEt7",
        "outputId": "8ac827e6-2d80-4a6d-8dd1-59c62aa339ed"
      },
      "outputs": [
        {
          "data": {
            "text/plain": [
              "level5\n",
              "Alcorcón        950000\n",
              "Fuenlabrada     490000\n",
              "Getafe         1050000\n",
              "Leganés         650000\n",
              "Name: price, dtype: int64"
            ]
          },
          "execution_count": 351,
          "metadata": {},
          "output_type": "execute_result"
        }
      ],
      "source": [
        "group = original_set.groupby('level5')['price'].max()\n",
        "group"
      ]
    },
    {
      "cell_type": "code",
      "execution_count": 352,
      "id": "rQhIqHIITvJz",
      "metadata": {
        "colab": {
          "base_uri": "https://localhost:8080/",
          "height": 238
        },
        "id": "rQhIqHIITvJz",
        "outputId": "db188939-c313-4be9-c24a-fa1c9b381bc5"
      },
      "outputs": [
        {
          "data": {
            "text/plain": [
              "level5\n",
              "Alcorcón        5585\n",
              "Fuenlabrada    11561\n",
              "Getafe          2881\n",
              "Leganés        10412\n",
              "Name: price, dtype: int64"
            ]
          },
          "execution_count": 352,
          "metadata": {},
          "output_type": "execute_result"
        }
      ],
      "source": [
        "city_index = original_set.groupby('level5')['price'].idxmax()\n",
        "city_index"
      ]
    },
    {
      "cell_type": "code",
      "execution_count": 353,
      "id": "i4QmF3PNbRYQ",
      "metadata": {
        "colab": {
          "base_uri": "https://localhost:8080/",
          "height": 173
        },
        "id": "i4QmF3PNbRYQ",
        "outputId": "a04c84ad-5467-41d7-d157-79f26e44f591"
      },
      "outputs": [
        {
          "data": {
            "text/html": [
              "<div>\n",
              "<style scoped>\n",
              "    .dataframe tbody tr th:only-of-type {\n",
              "        vertical-align: middle;\n",
              "    }\n",
              "\n",
              "    .dataframe tbody tr th {\n",
              "        vertical-align: top;\n",
              "    }\n",
              "\n",
              "    .dataframe thead th {\n",
              "        text-align: right;\n",
              "    }\n",
              "</style>\n",
              "<table border=\"1\" class=\"dataframe\">\n",
              "  <thead>\n",
              "    <tr style=\"text-align: right;\">\n",
              "      <th></th>\n",
              "      <th>level5</th>\n",
              "      <th>price</th>\n",
              "      <th>address</th>\n",
              "    </tr>\n",
              "  </thead>\n",
              "  <tbody>\n",
              "    <tr>\n",
              "      <th>5585</th>\n",
              "      <td>Alcorcón</td>\n",
              "      <td>950000</td>\n",
              "      <td>Alcorcón</td>\n",
              "    </tr>\n",
              "    <tr>\n",
              "      <th>11561</th>\n",
              "      <td>Fuenlabrada</td>\n",
              "      <td>490000</td>\n",
              "      <td>Calle de Paulo Freire, 5, Fuenlabrada</td>\n",
              "    </tr>\n",
              "    <tr>\n",
              "      <th>2881</th>\n",
              "      <td>Getafe</td>\n",
              "      <td>1050000</td>\n",
              "      <td>Getafe</td>\n",
              "    </tr>\n",
              "    <tr>\n",
              "      <th>10412</th>\n",
              "      <td>Leganés</td>\n",
              "      <td>650000</td>\n",
              "      <td>Avenida Reina Sofía, Leganés</td>\n",
              "    </tr>\n",
              "  </tbody>\n",
              "</table>\n",
              "</div>"
            ],
            "text/plain": [
              "            level5    price                                address\n",
              "5585      Alcorcón   950000                               Alcorcón\n",
              "11561  Fuenlabrada   490000  Calle de Paulo Freire, 5, Fuenlabrada\n",
              "2881        Getafe  1050000                                 Getafe\n",
              "10412      Leganés   650000           Avenida Reina Sofía, Leganés"
            ]
          },
          "execution_count": 353,
          "metadata": {},
          "output_type": "execute_result"
        }
      ],
      "source": [
        "max_houses1 = original_set.loc[city_index, ['level5', 'price', 'address']]\n",
        "max_houses1"
      ]
    },
    {
      "cell_type": "markdown",
      "id": "Nfk5Nh4TejrV",
      "metadata": {
        "id": "Nfk5Nh4TejrV"
      },
      "source": [
        "De estos datos podemos llegar a la conclusión que las viviendas más caras del cinturón sur se encuentran en Getafe, mientras que las de Fuenlabrada presentan precios más bajos."
      ]
    },
    {
      "cell_type": "markdown",
      "id": "patent-jonathan",
      "metadata": {
        "id": "patent-jonathan"
      },
      "source": [
        "#### Ejercicio 16\n",
        "\n",
        "¿Qué puedes decir acerca del precio por metro cuadrado (precio/m2) entre los municipios de 'Getafe' y 'Alcorcón'? (★★☆)\n",
        "\n",
        "> Debes usar el subset obtenido en la pregunta 13\n",
        ">\n",
        "> Pista: Crea una nueva columna llamada `pps` (price per square en inglés) y luego analiza los valores"
      ]
    },
    {
      "cell_type": "code",
      "execution_count": 20,
      "id": "494350dc",
      "metadata": {},
      "outputs": [
        {
          "data": {
            "text/html": [
              "<div>\n",
              "<style scoped>\n",
              "    .dataframe tbody tr th:only-of-type {\n",
              "        vertical-align: middle;\n",
              "    }\n",
              "\n",
              "    .dataframe tbody tr th {\n",
              "        vertical-align: top;\n",
              "    }\n",
              "\n",
              "    .dataframe thead th {\n",
              "        text-align: right;\n",
              "    }\n",
              "</style>\n",
              "<table border=\"1\" class=\"dataframe\">\n",
              "  <thead>\n",
              "    <tr style=\"text-align: right;\">\n",
              "      <th></th>\n",
              "      <th>Unnamed: 0</th>\n",
              "      <th>id_realEstates</th>\n",
              "      <th>isNew</th>\n",
              "      <th>realEstate_name</th>\n",
              "      <th>phone_realEstate</th>\n",
              "      <th>url_inmueble</th>\n",
              "      <th>rooms</th>\n",
              "      <th>bathrooms</th>\n",
              "      <th>surface</th>\n",
              "      <th>price</th>\n",
              "      <th>...</th>\n",
              "      <th>level4Id</th>\n",
              "      <th>level5Id</th>\n",
              "      <th>level6Id</th>\n",
              "      <th>level7Id</th>\n",
              "      <th>level8Id</th>\n",
              "      <th>accuracy</th>\n",
              "      <th>latitude</th>\n",
              "      <th>longitude</th>\n",
              "      <th>zipCode</th>\n",
              "      <th>customZone</th>\n",
              "    </tr>\n",
              "  </thead>\n",
              "  <tbody>\n",
              "    <tr>\n",
              "      <th>1</th>\n",
              "      <td>2</td>\n",
              "      <td>153867863</td>\n",
              "      <td>False</td>\n",
              "      <td>tecnocasa fuenlabrada ferrocarril</td>\n",
              "      <td>916358736.0</td>\n",
              "      <td>https://www.fotocasa.es/es/comprar/vivienda/ma...</td>\n",
              "      <td>3.0</td>\n",
              "      <td>1.0</td>\n",
              "      <td>NaN</td>\n",
              "      <td>89000</td>\n",
              "      <td>...</td>\n",
              "      <td>0</td>\n",
              "      <td>0</td>\n",
              "      <td>0</td>\n",
              "      <td>0</td>\n",
              "      <td>0</td>\n",
              "      <td>1</td>\n",
              "      <td>40,28674</td>\n",
              "      <td>-3,79351</td>\n",
              "      <td>NaN</td>\n",
              "      <td>NaN</td>\n",
              "    </tr>\n",
              "    <tr>\n",
              "      <th>3</th>\n",
              "      <td>4</td>\n",
              "      <td>152776331</td>\n",
              "      <td>False</td>\n",
              "      <td>tecnocasa fuenlabrada ferrocarril</td>\n",
              "      <td>916358736.0</td>\n",
              "      <td>https://www.fotocasa.es/es/comprar/vivienda/ma...</td>\n",
              "      <td>3.0</td>\n",
              "      <td>1.0</td>\n",
              "      <td>86.0</td>\n",
              "      <td>89000</td>\n",
              "      <td>...</td>\n",
              "      <td>0</td>\n",
              "      <td>0</td>\n",
              "      <td>0</td>\n",
              "      <td>0</td>\n",
              "      <td>0</td>\n",
              "      <td>0</td>\n",
              "      <td>40,2853785786438</td>\n",
              "      <td>-3,79508142135624</td>\n",
              "      <td>NaN</td>\n",
              "      <td>NaN</td>\n",
              "    </tr>\n",
              "    <tr>\n",
              "      <th>85</th>\n",
              "      <td>86</td>\n",
              "      <td>153152077</td>\n",
              "      <td>False</td>\n",
              "      <td>sinergical inmobiliaria</td>\n",
              "      <td>NaN</td>\n",
              "      <td>https://www.fotocasa.es/es/comprar/vivienda/le...</td>\n",
              "      <td>1.0</td>\n",
              "      <td>1.0</td>\n",
              "      <td>50.0</td>\n",
              "      <td>107000</td>\n",
              "      <td>...</td>\n",
              "      <td>0</td>\n",
              "      <td>0</td>\n",
              "      <td>0</td>\n",
              "      <td>0</td>\n",
              "      <td>0</td>\n",
              "      <td>1</td>\n",
              "      <td>40,35059</td>\n",
              "      <td>-3,82693</td>\n",
              "      <td>NaN</td>\n",
              "      <td>NaN</td>\n",
              "    </tr>\n",
              "    <tr>\n",
              "      <th>94</th>\n",
              "      <td>95</td>\n",
              "      <td>153995577</td>\n",
              "      <td>False</td>\n",
              "      <td>viviendas365com</td>\n",
              "      <td>911226014.0</td>\n",
              "      <td>https://www.fotocasa.es/es/comprar/vivienda/le...</td>\n",
              "      <td>3.0</td>\n",
              "      <td>2.0</td>\n",
              "      <td>120.0</td>\n",
              "      <td>320000</td>\n",
              "      <td>...</td>\n",
              "      <td>0</td>\n",
              "      <td>0</td>\n",
              "      <td>0</td>\n",
              "      <td>0</td>\n",
              "      <td>0</td>\n",
              "      <td>0</td>\n",
              "      <td>40,31933</td>\n",
              "      <td>-3,77574</td>\n",
              "      <td>NaN</td>\n",
              "      <td>NaN</td>\n",
              "    </tr>\n",
              "    <tr>\n",
              "      <th>109</th>\n",
              "      <td>110</td>\n",
              "      <td>153586414</td>\n",
              "      <td>False</td>\n",
              "      <td>area uno asesores inmobiliarios</td>\n",
              "      <td>912664081.0</td>\n",
              "      <td>https://www.fotocasa.es/es/comprar/vivienda/ma...</td>\n",
              "      <td>3.0</td>\n",
              "      <td>3.0</td>\n",
              "      <td>142.0</td>\n",
              "      <td>425000</td>\n",
              "      <td>...</td>\n",
              "      <td>0</td>\n",
              "      <td>0</td>\n",
              "      <td>0</td>\n",
              "      <td>0</td>\n",
              "      <td>0</td>\n",
              "      <td>0</td>\n",
              "      <td>40,3313411</td>\n",
              "      <td>-3,8313868</td>\n",
              "      <td>NaN</td>\n",
              "      <td>NaN</td>\n",
              "    </tr>\n",
              "    <tr>\n",
              "      <th>...</th>\n",
              "      <td>...</td>\n",
              "      <td>...</td>\n",
              "      <td>...</td>\n",
              "      <td>...</td>\n",
              "      <td>...</td>\n",
              "      <td>...</td>\n",
              "      <td>...</td>\n",
              "      <td>...</td>\n",
              "      <td>...</td>\n",
              "      <td>...</td>\n",
              "      <td>...</td>\n",
              "      <td>...</td>\n",
              "      <td>...</td>\n",
              "      <td>...</td>\n",
              "      <td>...</td>\n",
              "      <td>...</td>\n",
              "      <td>...</td>\n",
              "      <td>...</td>\n",
              "      <td>...</td>\n",
              "      <td>...</td>\n",
              "      <td>...</td>\n",
              "    </tr>\n",
              "    <tr>\n",
              "      <th>15275</th>\n",
              "      <td>15276</td>\n",
              "      <td>153903887</td>\n",
              "      <td>False</td>\n",
              "      <td>aliseda servicios de gestion inmobiliaria</td>\n",
              "      <td>911368198.0</td>\n",
              "      <td>https://www.fotocasa.es/es/comprar/vivienda/al...</td>\n",
              "      <td>3.0</td>\n",
              "      <td>1.0</td>\n",
              "      <td>78.0</td>\n",
              "      <td>138000</td>\n",
              "      <td>...</td>\n",
              "      <td>0</td>\n",
              "      <td>0</td>\n",
              "      <td>0</td>\n",
              "      <td>0</td>\n",
              "      <td>0</td>\n",
              "      <td>1</td>\n",
              "      <td>40,31381</td>\n",
              "      <td>-3,83733</td>\n",
              "      <td>NaN</td>\n",
              "      <td>NaN</td>\n",
              "    </tr>\n",
              "    <tr>\n",
              "      <th>15291</th>\n",
              "      <td>15292</td>\n",
              "      <td>151697757</td>\n",
              "      <td>False</td>\n",
              "      <td>unipiso</td>\n",
              "      <td>912788631.0</td>\n",
              "      <td>https://www.fotocasa.es/es/comprar/vivienda/al...</td>\n",
              "      <td>3.0</td>\n",
              "      <td>2.0</td>\n",
              "      <td>110.0</td>\n",
              "      <td>279000</td>\n",
              "      <td>...</td>\n",
              "      <td>0</td>\n",
              "      <td>0</td>\n",
              "      <td>0</td>\n",
              "      <td>0</td>\n",
              "      <td>0</td>\n",
              "      <td>0</td>\n",
              "      <td>40,3259051</td>\n",
              "      <td>-3,76318</td>\n",
              "      <td>NaN</td>\n",
              "      <td>NaN</td>\n",
              "    </tr>\n",
              "    <tr>\n",
              "      <th>15305</th>\n",
              "      <td>15306</td>\n",
              "      <td>153902389</td>\n",
              "      <td>False</td>\n",
              "      <td>jadein ferrero</td>\n",
              "      <td>914871639.0</td>\n",
              "      <td>https://www.fotocasa.es/es/comprar/vivienda/ma...</td>\n",
              "      <td>3.0</td>\n",
              "      <td>2.0</td>\n",
              "      <td>85.0</td>\n",
              "      <td>170000</td>\n",
              "      <td>...</td>\n",
              "      <td>0</td>\n",
              "      <td>0</td>\n",
              "      <td>0</td>\n",
              "      <td>0</td>\n",
              "      <td>0</td>\n",
              "      <td>0</td>\n",
              "      <td>40,2882193</td>\n",
              "      <td>-3,8098617</td>\n",
              "      <td>NaN</td>\n",
              "      <td>NaN</td>\n",
              "    </tr>\n",
              "    <tr>\n",
              "      <th>15322</th>\n",
              "      <td>15323</td>\n",
              "      <td>153871864</td>\n",
              "      <td>False</td>\n",
              "      <td>gestion comercial</td>\n",
              "      <td>911220662.0</td>\n",
              "      <td>https://www.fotocasa.es/es/comprar/vivienda/ma...</td>\n",
              "      <td>3.0</td>\n",
              "      <td>1.0</td>\n",
              "      <td>91.0</td>\n",
              "      <td>112000</td>\n",
              "      <td>...</td>\n",
              "      <td>0</td>\n",
              "      <td>0</td>\n",
              "      <td>0</td>\n",
              "      <td>0</td>\n",
              "      <td>0</td>\n",
              "      <td>0</td>\n",
              "      <td>40,28282</td>\n",
              "      <td>-3,78892</td>\n",
              "      <td>NaN</td>\n",
              "      <td>NaN</td>\n",
              "    </tr>\n",
              "    <tr>\n",
              "      <th>15325</th>\n",
              "      <td>15326</td>\n",
              "      <td>153901467</td>\n",
              "      <td>False</td>\n",
              "      <td>montehogar 68</td>\n",
              "      <td>911790675.0</td>\n",
              "      <td>https://www.fotocasa.es/es/comprar/vivienda/ma...</td>\n",
              "      <td>2.0</td>\n",
              "      <td>2.0</td>\n",
              "      <td>99.0</td>\n",
              "      <td>215000</td>\n",
              "      <td>...</td>\n",
              "      <td>0</td>\n",
              "      <td>0</td>\n",
              "      <td>0</td>\n",
              "      <td>0</td>\n",
              "      <td>0</td>\n",
              "      <td>1</td>\n",
              "      <td>40,28062</td>\n",
              "      <td>-3,79869</td>\n",
              "      <td>NaN</td>\n",
              "      <td>NaN</td>\n",
              "    </tr>\n",
              "  </tbody>\n",
              "</table>\n",
              "<p>907 rows × 37 columns</p>\n",
              "</div>"
            ],
            "text/plain": [
              "       Unnamed: 0  id_realEstates  isNew  \\\n",
              "1               2       153867863  False   \n",
              "3               4       152776331  False   \n",
              "85             86       153152077  False   \n",
              "94             95       153995577  False   \n",
              "109           110       153586414  False   \n",
              "...           ...             ...    ...   \n",
              "15275       15276       153903887  False   \n",
              "15291       15292       151697757  False   \n",
              "15305       15306       153902389  False   \n",
              "15322       15323       153871864  False   \n",
              "15325       15326       153901467  False   \n",
              "\n",
              "                                 realEstate_name  phone_realEstate  \\\n",
              "1              tecnocasa fuenlabrada ferrocarril       916358736.0   \n",
              "3              tecnocasa fuenlabrada ferrocarril       916358736.0   \n",
              "85                       sinergical inmobiliaria               NaN   \n",
              "94                               viviendas365com       911226014.0   \n",
              "109              area uno asesores inmobiliarios       912664081.0   \n",
              "...                                          ...               ...   \n",
              "15275  aliseda servicios de gestion inmobiliaria       911368198.0   \n",
              "15291                                    unipiso       912788631.0   \n",
              "15305                             jadein ferrero       914871639.0   \n",
              "15322                          gestion comercial       911220662.0   \n",
              "15325                              montehogar 68       911790675.0   \n",
              "\n",
              "                                            url_inmueble  rooms  bathrooms  \\\n",
              "1      https://www.fotocasa.es/es/comprar/vivienda/ma...    3.0        1.0   \n",
              "3      https://www.fotocasa.es/es/comprar/vivienda/ma...    3.0        1.0   \n",
              "85     https://www.fotocasa.es/es/comprar/vivienda/le...    1.0        1.0   \n",
              "94     https://www.fotocasa.es/es/comprar/vivienda/le...    3.0        2.0   \n",
              "109    https://www.fotocasa.es/es/comprar/vivienda/ma...    3.0        3.0   \n",
              "...                                                  ...    ...        ...   \n",
              "15275  https://www.fotocasa.es/es/comprar/vivienda/al...    3.0        1.0   \n",
              "15291  https://www.fotocasa.es/es/comprar/vivienda/al...    3.0        2.0   \n",
              "15305  https://www.fotocasa.es/es/comprar/vivienda/ma...    3.0        2.0   \n",
              "15322  https://www.fotocasa.es/es/comprar/vivienda/ma...    3.0        1.0   \n",
              "15325  https://www.fotocasa.es/es/comprar/vivienda/ma...    2.0        2.0   \n",
              "\n",
              "       surface   price  ... level4Id level5Id level6Id level7Id level8Id  \\\n",
              "1          NaN   89000  ...        0        0        0        0        0   \n",
              "3         86.0   89000  ...        0        0        0        0        0   \n",
              "85        50.0  107000  ...        0        0        0        0        0   \n",
              "94       120.0  320000  ...        0        0        0        0        0   \n",
              "109      142.0  425000  ...        0        0        0        0        0   \n",
              "...        ...     ...  ...      ...      ...      ...      ...      ...   \n",
              "15275     78.0  138000  ...        0        0        0        0        0   \n",
              "15291    110.0  279000  ...        0        0        0        0        0   \n",
              "15305     85.0  170000  ...        0        0        0        0        0   \n",
              "15322     91.0  112000  ...        0        0        0        0        0   \n",
              "15325     99.0  215000  ...        0        0        0        0        0   \n",
              "\n",
              "      accuracy          latitude          longitude zipCode customZone  \n",
              "1            1          40,28674           -3,79351     NaN        NaN  \n",
              "3            0  40,2853785786438  -3,79508142135624     NaN        NaN  \n",
              "85           1          40,35059           -3,82693     NaN        NaN  \n",
              "94           0          40,31933           -3,77574     NaN        NaN  \n",
              "109          0        40,3313411         -3,8313868     NaN        NaN  \n",
              "...        ...               ...                ...     ...        ...  \n",
              "15275        1          40,31381           -3,83733     NaN        NaN  \n",
              "15291        0        40,3259051           -3,76318     NaN        NaN  \n",
              "15305        0        40,2882193         -3,8098617     NaN        NaN  \n",
              "15322        0          40,28282           -3,78892     NaN        NaN  \n",
              "15325        1          40,28062           -3,79869     NaN        NaN  \n",
              "\n",
              "[907 rows x 37 columns]"
            ]
          },
          "execution_count": 20,
          "metadata": {},
          "output_type": "execute_result"
        }
      ],
      "source": [
        "original_set = df[df['level5'].isin(['Fuenlabrada', 'Leganés', 'Getafe', 'Alcorcón'])].copy()\n",
        "original_set"
      ]
    },
    {
      "cell_type": "code",
      "execution_count": 21,
      "id": "KqXiryJHjyzY",
      "metadata": {
        "colab": {
          "base_uri": "https://localhost:8080/",
          "height": 453
        },
        "id": "KqXiryJHjyzY",
        "outputId": "3d9209ea-7727-425a-beae-416d6ad2998b"
      },
      "outputs": [
        {
          "data": {
            "text/plain": [
              "1                NaN\n",
              "3        1034.883721\n",
              "85       2140.000000\n",
              "94       2666.666667\n",
              "109      2992.957746\n",
              "            ...     \n",
              "15275    1769.230769\n",
              "15291    2536.363636\n",
              "15305    2000.000000\n",
              "15322    1230.769231\n",
              "15325    2171.717172\n",
              "Name: pps, Length: 907, dtype: float64"
            ]
          },
          "execution_count": 21,
          "metadata": {},
          "output_type": "execute_result"
        }
      ],
      "source": [
        "original_set.loc[:, 'pps'] = original_set['price'] / original_set['surface']\n",
        "original_set['pps']"
      ]
    },
    {
      "cell_type": "code",
      "execution_count": 22,
      "id": "cts10Ohhf2CT",
      "metadata": {
        "id": "cts10Ohhf2CT"
      },
      "outputs": [
        {
          "data": {
            "text/html": [
              "<div>\n",
              "<style scoped>\n",
              "    .dataframe tbody tr th:only-of-type {\n",
              "        vertical-align: middle;\n",
              "    }\n",
              "\n",
              "    .dataframe tbody tr th {\n",
              "        vertical-align: top;\n",
              "    }\n",
              "\n",
              "    .dataframe thead th {\n",
              "        text-align: right;\n",
              "    }\n",
              "</style>\n",
              "<table border=\"1\" class=\"dataframe\">\n",
              "  <thead>\n",
              "    <tr style=\"text-align: right;\">\n",
              "      <th></th>\n",
              "      <th>Unnamed: 0</th>\n",
              "      <th>id_realEstates</th>\n",
              "      <th>isNew</th>\n",
              "      <th>realEstate_name</th>\n",
              "      <th>phone_realEstate</th>\n",
              "      <th>url_inmueble</th>\n",
              "      <th>rooms</th>\n",
              "      <th>bathrooms</th>\n",
              "      <th>surface</th>\n",
              "      <th>price</th>\n",
              "      <th>...</th>\n",
              "      <th>level5Id</th>\n",
              "      <th>level6Id</th>\n",
              "      <th>level7Id</th>\n",
              "      <th>level8Id</th>\n",
              "      <th>accuracy</th>\n",
              "      <th>latitude</th>\n",
              "      <th>longitude</th>\n",
              "      <th>zipCode</th>\n",
              "      <th>customZone</th>\n",
              "      <th>pps</th>\n",
              "    </tr>\n",
              "  </thead>\n",
              "  <tbody>\n",
              "    <tr>\n",
              "      <th>169</th>\n",
              "      <td>170</td>\n",
              "      <td>153920011</td>\n",
              "      <td>False</td>\n",
              "      <td>grupo tizona</td>\n",
              "      <td>911226046.0</td>\n",
              "      <td>https://www.fotocasa.es/es/comprar/vivienda/ma...</td>\n",
              "      <td>6.0</td>\n",
              "      <td>2.0</td>\n",
              "      <td>195.0</td>\n",
              "      <td>290000</td>\n",
              "      <td>...</td>\n",
              "      <td>0</td>\n",
              "      <td>0</td>\n",
              "      <td>0</td>\n",
              "      <td>0</td>\n",
              "      <td>0</td>\n",
              "      <td>40,31111</td>\n",
              "      <td>-3,73066</td>\n",
              "      <td>NaN</td>\n",
              "      <td>NaN</td>\n",
              "      <td>1487.179487</td>\n",
              "    </tr>\n",
              "    <tr>\n",
              "      <th>232</th>\n",
              "      <td>233</td>\n",
              "      <td>152842726</td>\n",
              "      <td>False</td>\n",
              "      <td>aljada inmobiliaria</td>\n",
              "      <td>916355578.0</td>\n",
              "      <td>https://www.fotocasa.es/es/comprar/vivienda/sa...</td>\n",
              "      <td>3.0</td>\n",
              "      <td>1.0</td>\n",
              "      <td>65.0</td>\n",
              "      <td>137400</td>\n",
              "      <td>...</td>\n",
              "      <td>0</td>\n",
              "      <td>0</td>\n",
              "      <td>0</td>\n",
              "      <td>0</td>\n",
              "      <td>0</td>\n",
              "      <td>40,3060558</td>\n",
              "      <td>-3,7346649</td>\n",
              "      <td>NaN</td>\n",
              "      <td>NaN</td>\n",
              "      <td>2113.846154</td>\n",
              "    </tr>\n",
              "    <tr>\n",
              "      <th>233</th>\n",
              "      <td>234</td>\n",
              "      <td>152842686</td>\n",
              "      <td>False</td>\n",
              "      <td>aljada inmobiliaria</td>\n",
              "      <td>916355578.0</td>\n",
              "      <td>https://www.fotocasa.es/es/comprar/vivienda/sa...</td>\n",
              "      <td>3.0</td>\n",
              "      <td>1.0</td>\n",
              "      <td>83.0</td>\n",
              "      <td>135500</td>\n",
              "      <td>...</td>\n",
              "      <td>0</td>\n",
              "      <td>0</td>\n",
              "      <td>0</td>\n",
              "      <td>0</td>\n",
              "      <td>0</td>\n",
              "      <td>40,3035689</td>\n",
              "      <td>-3,7381336</td>\n",
              "      <td>NaN</td>\n",
              "      <td>NaN</td>\n",
              "      <td>1632.530120</td>\n",
              "    </tr>\n",
              "    <tr>\n",
              "      <th>269</th>\n",
              "      <td>270</td>\n",
              "      <td>153861480</td>\n",
              "      <td>False</td>\n",
              "      <td>whan house consulting</td>\n",
              "      <td>925630418.0</td>\n",
              "      <td>https://www.fotocasa.es/es/comprar/vivienda/vi...</td>\n",
              "      <td>3.0</td>\n",
              "      <td>1.0</td>\n",
              "      <td>62.0</td>\n",
              "      <td>99900</td>\n",
              "      <td>...</td>\n",
              "      <td>0</td>\n",
              "      <td>0</td>\n",
              "      <td>0</td>\n",
              "      <td>0</td>\n",
              "      <td>0</td>\n",
              "      <td>40,3068987</td>\n",
              "      <td>-3,725108</td>\n",
              "      <td>NaN</td>\n",
              "      <td>NaN</td>\n",
              "      <td>1611.290323</td>\n",
              "    </tr>\n",
              "    <tr>\n",
              "      <th>381</th>\n",
              "      <td>382</td>\n",
              "      <td>153880899</td>\n",
              "      <td>False</td>\n",
              "      <td>grupo tizona</td>\n",
              "      <td>911226046.0</td>\n",
              "      <td>https://www.fotocasa.es/es/comprar/vivienda/ma...</td>\n",
              "      <td>4.0</td>\n",
              "      <td>2.0</td>\n",
              "      <td>280.0</td>\n",
              "      <td>455000</td>\n",
              "      <td>...</td>\n",
              "      <td>0</td>\n",
              "      <td>0</td>\n",
              "      <td>0</td>\n",
              "      <td>0</td>\n",
              "      <td>0</td>\n",
              "      <td>40,28327</td>\n",
              "      <td>-3,74772</td>\n",
              "      <td>NaN</td>\n",
              "      <td>NaN</td>\n",
              "      <td>1625.000000</td>\n",
              "    </tr>\n",
              "    <tr>\n",
              "      <th>...</th>\n",
              "      <td>...</td>\n",
              "      <td>...</td>\n",
              "      <td>...</td>\n",
              "      <td>...</td>\n",
              "      <td>...</td>\n",
              "      <td>...</td>\n",
              "      <td>...</td>\n",
              "      <td>...</td>\n",
              "      <td>...</td>\n",
              "      <td>...</td>\n",
              "      <td>...</td>\n",
              "      <td>...</td>\n",
              "      <td>...</td>\n",
              "      <td>...</td>\n",
              "      <td>...</td>\n",
              "      <td>...</td>\n",
              "      <td>...</td>\n",
              "      <td>...</td>\n",
              "      <td>...</td>\n",
              "      <td>...</td>\n",
              "      <td>...</td>\n",
              "    </tr>\n",
              "    <tr>\n",
              "      <th>14999</th>\n",
              "      <td>15000</td>\n",
              "      <td>150500515</td>\n",
              "      <td>False</td>\n",
              "      <td>identy</td>\n",
              "      <td>NaN</td>\n",
              "      <td>https://www.fotocasa.es/es/comprar/vivienda/ma...</td>\n",
              "      <td>3.0</td>\n",
              "      <td>3.0</td>\n",
              "      <td>210.0</td>\n",
              "      <td>365000</td>\n",
              "      <td>...</td>\n",
              "      <td>0</td>\n",
              "      <td>0</td>\n",
              "      <td>0</td>\n",
              "      <td>0</td>\n",
              "      <td>0</td>\n",
              "      <td>40,30546</td>\n",
              "      <td>-3,75275</td>\n",
              "      <td>NaN</td>\n",
              "      <td>NaN</td>\n",
              "      <td>1738.095238</td>\n",
              "    </tr>\n",
              "    <tr>\n",
              "      <th>15002</th>\n",
              "      <td>15003</td>\n",
              "      <td>140064595</td>\n",
              "      <td>False</td>\n",
              "      <td>grupo gonzalez gervaso</td>\n",
              "      <td>914871849.0</td>\n",
              "      <td>https://www.fotocasa.es/es/comprar/vivienda/ma...</td>\n",
              "      <td>3.0</td>\n",
              "      <td>2.0</td>\n",
              "      <td>122.0</td>\n",
              "      <td>284491</td>\n",
              "      <td>...</td>\n",
              "      <td>0</td>\n",
              "      <td>0</td>\n",
              "      <td>0</td>\n",
              "      <td>0</td>\n",
              "      <td>1</td>\n",
              "      <td>40,30206</td>\n",
              "      <td>-3,73321</td>\n",
              "      <td>NaN</td>\n",
              "      <td>NaN</td>\n",
              "      <td>2331.893443</td>\n",
              "    </tr>\n",
              "    <tr>\n",
              "      <th>15034</th>\n",
              "      <td>15035</td>\n",
              "      <td>153433007</td>\n",
              "      <td>False</td>\n",
              "      <td>aurea homes</td>\n",
              "      <td>911361016.0</td>\n",
              "      <td>https://www.fotocasa.es/vivienda/getafe/calle-...</td>\n",
              "      <td>4.0</td>\n",
              "      <td>2.0</td>\n",
              "      <td>137.0</td>\n",
              "      <td>447000</td>\n",
              "      <td>...</td>\n",
              "      <td>0</td>\n",
              "      <td>0</td>\n",
              "      <td>0</td>\n",
              "      <td>0</td>\n",
              "      <td>1</td>\n",
              "      <td>40,31667</td>\n",
              "      <td>-3,74072</td>\n",
              "      <td>NaN</td>\n",
              "      <td>NaN</td>\n",
              "      <td>3262.773723</td>\n",
              "    </tr>\n",
              "    <tr>\n",
              "      <th>15087</th>\n",
              "      <td>15088</td>\n",
              "      <td>150177594</td>\n",
              "      <td>False</td>\n",
              "      <td>grupo gonzalez gervaso</td>\n",
              "      <td>914871849.0</td>\n",
              "      <td>https://www.fotocasa.es/es/comprar/vivienda/ar...</td>\n",
              "      <td>3.0</td>\n",
              "      <td>2.0</td>\n",
              "      <td>115.0</td>\n",
              "      <td>356160</td>\n",
              "      <td>...</td>\n",
              "      <td>0</td>\n",
              "      <td>0</td>\n",
              "      <td>0</td>\n",
              "      <td>0</td>\n",
              "      <td>0</td>\n",
              "      <td>40,30186</td>\n",
              "      <td>-3,73321</td>\n",
              "      <td>NaN</td>\n",
              "      <td>NaN</td>\n",
              "      <td>3097.043478</td>\n",
              "    </tr>\n",
              "    <tr>\n",
              "      <th>15117</th>\n",
              "      <td>15118</td>\n",
              "      <td>153433030</td>\n",
              "      <td>False</td>\n",
              "      <td>aurea homes</td>\n",
              "      <td>911361016.0</td>\n",
              "      <td>https://www.fotocasa.es/es/comprar/vivienda/ta...</td>\n",
              "      <td>4.0</td>\n",
              "      <td>2.0</td>\n",
              "      <td>140.0</td>\n",
              "      <td>412500</td>\n",
              "      <td>...</td>\n",
              "      <td>0</td>\n",
              "      <td>0</td>\n",
              "      <td>0</td>\n",
              "      <td>0</td>\n",
              "      <td>1</td>\n",
              "      <td>40,31667</td>\n",
              "      <td>-3,74072</td>\n",
              "      <td>NaN</td>\n",
              "      <td>NaN</td>\n",
              "      <td>2946.428571</td>\n",
              "    </tr>\n",
              "  </tbody>\n",
              "</table>\n",
              "<p>290 rows × 38 columns</p>\n",
              "</div>"
            ],
            "text/plain": [
              "       Unnamed: 0  id_realEstates  isNew         realEstate_name  \\\n",
              "169           170       153920011  False            grupo tizona   \n",
              "232           233       152842726  False     aljada inmobiliaria   \n",
              "233           234       152842686  False     aljada inmobiliaria   \n",
              "269           270       153861480  False   whan house consulting   \n",
              "381           382       153880899  False            grupo tizona   \n",
              "...           ...             ...    ...                     ...   \n",
              "14999       15000       150500515  False                  identy   \n",
              "15002       15003       140064595  False  grupo gonzalez gervaso   \n",
              "15034       15035       153433007  False             aurea homes   \n",
              "15087       15088       150177594  False  grupo gonzalez gervaso   \n",
              "15117       15118       153433030  False             aurea homes   \n",
              "\n",
              "       phone_realEstate                                       url_inmueble  \\\n",
              "169         911226046.0  https://www.fotocasa.es/es/comprar/vivienda/ma...   \n",
              "232         916355578.0  https://www.fotocasa.es/es/comprar/vivienda/sa...   \n",
              "233         916355578.0  https://www.fotocasa.es/es/comprar/vivienda/sa...   \n",
              "269         925630418.0  https://www.fotocasa.es/es/comprar/vivienda/vi...   \n",
              "381         911226046.0  https://www.fotocasa.es/es/comprar/vivienda/ma...   \n",
              "...                 ...                                                ...   \n",
              "14999               NaN  https://www.fotocasa.es/es/comprar/vivienda/ma...   \n",
              "15002       914871849.0  https://www.fotocasa.es/es/comprar/vivienda/ma...   \n",
              "15034       911361016.0  https://www.fotocasa.es/vivienda/getafe/calle-...   \n",
              "15087       914871849.0  https://www.fotocasa.es/es/comprar/vivienda/ar...   \n",
              "15117       911361016.0  https://www.fotocasa.es/es/comprar/vivienda/ta...   \n",
              "\n",
              "       rooms  bathrooms  surface   price  ... level5Id level6Id level7Id  \\\n",
              "169      6.0        2.0    195.0  290000  ...        0        0        0   \n",
              "232      3.0        1.0     65.0  137400  ...        0        0        0   \n",
              "233      3.0        1.0     83.0  135500  ...        0        0        0   \n",
              "269      3.0        1.0     62.0   99900  ...        0        0        0   \n",
              "381      4.0        2.0    280.0  455000  ...        0        0        0   \n",
              "...      ...        ...      ...     ...  ...      ...      ...      ...   \n",
              "14999    3.0        3.0    210.0  365000  ...        0        0        0   \n",
              "15002    3.0        2.0    122.0  284491  ...        0        0        0   \n",
              "15034    4.0        2.0    137.0  447000  ...        0        0        0   \n",
              "15087    3.0        2.0    115.0  356160  ...        0        0        0   \n",
              "15117    4.0        2.0    140.0  412500  ...        0        0        0   \n",
              "\n",
              "      level8Id accuracy    latitude   longitude zipCode customZone  \\\n",
              "169          0        0    40,31111    -3,73066     NaN        NaN   \n",
              "232          0        0  40,3060558  -3,7346649     NaN        NaN   \n",
              "233          0        0  40,3035689  -3,7381336     NaN        NaN   \n",
              "269          0        0  40,3068987   -3,725108     NaN        NaN   \n",
              "381          0        0    40,28327    -3,74772     NaN        NaN   \n",
              "...        ...      ...         ...         ...     ...        ...   \n",
              "14999        0        0    40,30546    -3,75275     NaN        NaN   \n",
              "15002        0        1    40,30206    -3,73321     NaN        NaN   \n",
              "15034        0        1    40,31667    -3,74072     NaN        NaN   \n",
              "15087        0        0    40,30186    -3,73321     NaN        NaN   \n",
              "15117        0        1    40,31667    -3,74072     NaN        NaN   \n",
              "\n",
              "               pps  \n",
              "169    1487.179487  \n",
              "232    2113.846154  \n",
              "233    1632.530120  \n",
              "269    1611.290323  \n",
              "381    1625.000000  \n",
              "...            ...  \n",
              "14999  1738.095238  \n",
              "15002  2331.893443  \n",
              "15034  3262.773723  \n",
              "15087  3097.043478  \n",
              "15117  2946.428571  \n",
              "\n",
              "[290 rows x 38 columns]"
            ]
          },
          "execution_count": 22,
          "metadata": {},
          "output_type": "execute_result"
        }
      ],
      "source": [
        "# Price of square meter in Getafe\n",
        "\n",
        "getafe = original_set[original_set['level5'] == 'Getafe']\n",
        "getafe"
      ]
    },
    {
      "cell_type": "code",
      "execution_count": 35,
      "id": "fceba54a",
      "metadata": {},
      "outputs": [
        {
          "data": {
            "text/plain": [
              "'Precio por metro cuadrado en el municipio de Getafe es de 2066.31€.'"
            ]
          },
          "execution_count": 35,
          "metadata": {},
          "output_type": "execute_result"
        }
      ],
      "source": [
        "average_getafe = getafe['pps'].mean()\n",
        "average_getafe = round(average_getafe, 2)\n",
        "average_getafe = f'Precio por metro cuadrado en el municipio de Getafe es de {average_getafe}€.'\n",
        "average_getafe"
      ]
    },
    {
      "cell_type": "code",
      "execution_count": 38,
      "id": "1ad61611",
      "metadata": {},
      "outputs": [
        {
          "data": {
            "text/html": [
              "<div>\n",
              "<style scoped>\n",
              "    .dataframe tbody tr th:only-of-type {\n",
              "        vertical-align: middle;\n",
              "    }\n",
              "\n",
              "    .dataframe tbody tr th {\n",
              "        vertical-align: top;\n",
              "    }\n",
              "\n",
              "    .dataframe thead th {\n",
              "        text-align: right;\n",
              "    }\n",
              "</style>\n",
              "<table border=\"1\" class=\"dataframe\">\n",
              "  <thead>\n",
              "    <tr style=\"text-align: right;\">\n",
              "      <th></th>\n",
              "      <th>Unnamed: 0</th>\n",
              "      <th>id_realEstates</th>\n",
              "      <th>isNew</th>\n",
              "      <th>realEstate_name</th>\n",
              "      <th>phone_realEstate</th>\n",
              "      <th>url_inmueble</th>\n",
              "      <th>rooms</th>\n",
              "      <th>bathrooms</th>\n",
              "      <th>surface</th>\n",
              "      <th>price</th>\n",
              "      <th>...</th>\n",
              "      <th>level5Id</th>\n",
              "      <th>level6Id</th>\n",
              "      <th>level7Id</th>\n",
              "      <th>level8Id</th>\n",
              "      <th>accuracy</th>\n",
              "      <th>latitude</th>\n",
              "      <th>longitude</th>\n",
              "      <th>zipCode</th>\n",
              "      <th>customZone</th>\n",
              "      <th>pps</th>\n",
              "    </tr>\n",
              "  </thead>\n",
              "  <tbody>\n",
              "    <tr>\n",
              "      <th>85</th>\n",
              "      <td>86</td>\n",
              "      <td>153152077</td>\n",
              "      <td>False</td>\n",
              "      <td>sinergical inmobiliaria</td>\n",
              "      <td>NaN</td>\n",
              "      <td>https://www.fotocasa.es/es/comprar/vivienda/le...</td>\n",
              "      <td>1.0</td>\n",
              "      <td>1.0</td>\n",
              "      <td>50.0</td>\n",
              "      <td>107000</td>\n",
              "      <td>...</td>\n",
              "      <td>0</td>\n",
              "      <td>0</td>\n",
              "      <td>0</td>\n",
              "      <td>0</td>\n",
              "      <td>1</td>\n",
              "      <td>40,35059</td>\n",
              "      <td>-3,82693</td>\n",
              "      <td>NaN</td>\n",
              "      <td>NaN</td>\n",
              "      <td>2140.000000</td>\n",
              "    </tr>\n",
              "    <tr>\n",
              "      <th>109</th>\n",
              "      <td>110</td>\n",
              "      <td>153586414</td>\n",
              "      <td>False</td>\n",
              "      <td>area uno asesores inmobiliarios</td>\n",
              "      <td>912664081.0</td>\n",
              "      <td>https://www.fotocasa.es/es/comprar/vivienda/ma...</td>\n",
              "      <td>3.0</td>\n",
              "      <td>3.0</td>\n",
              "      <td>142.0</td>\n",
              "      <td>425000</td>\n",
              "      <td>...</td>\n",
              "      <td>0</td>\n",
              "      <td>0</td>\n",
              "      <td>0</td>\n",
              "      <td>0</td>\n",
              "      <td>0</td>\n",
              "      <td>40,3313411</td>\n",
              "      <td>-3,8313868</td>\n",
              "      <td>NaN</td>\n",
              "      <td>NaN</td>\n",
              "      <td>2992.957746</td>\n",
              "    </tr>\n",
              "    <tr>\n",
              "      <th>765</th>\n",
              "      <td>766</td>\n",
              "      <td>154002468</td>\n",
              "      <td>True</td>\n",
              "      <td>raul</td>\n",
              "      <td>NaN</td>\n",
              "      <td>https://www.fotocasa.es/es/comprar/vivienda/ma...</td>\n",
              "      <td>4.0</td>\n",
              "      <td>2.0</td>\n",
              "      <td>109.0</td>\n",
              "      <td>248000</td>\n",
              "      <td>...</td>\n",
              "      <td>0</td>\n",
              "      <td>0</td>\n",
              "      <td>0</td>\n",
              "      <td>0</td>\n",
              "      <td>1</td>\n",
              "      <td>40,3526</td>\n",
              "      <td>-3,81587</td>\n",
              "      <td>NaN</td>\n",
              "      <td>NaN</td>\n",
              "      <td>2275.229358</td>\n",
              "    </tr>\n",
              "    <tr>\n",
              "      <th>816</th>\n",
              "      <td>817</td>\n",
              "      <td>154001779</td>\n",
              "      <td>True</td>\n",
              "      <td>deplace</td>\n",
              "      <td>910750918.0</td>\n",
              "      <td>https://www.fotocasa.es/es/comprar/vivienda/la...</td>\n",
              "      <td>3.0</td>\n",
              "      <td>2.0</td>\n",
              "      <td>96.0</td>\n",
              "      <td>299000</td>\n",
              "      <td>...</td>\n",
              "      <td>0</td>\n",
              "      <td>0</td>\n",
              "      <td>0</td>\n",
              "      <td>0</td>\n",
              "      <td>0</td>\n",
              "      <td>40,3546326213562</td>\n",
              "      <td>-3,80197422135624</td>\n",
              "      <td>NaN</td>\n",
              "      <td>NaN</td>\n",
              "      <td>3114.583333</td>\n",
              "    </tr>\n",
              "    <tr>\n",
              "      <th>827</th>\n",
              "      <td>828</td>\n",
              "      <td>154001766</td>\n",
              "      <td>True</td>\n",
              "      <td>tecnocasa ciudad de alcorcon</td>\n",
              "      <td>911795412.0</td>\n",
              "      <td>https://www.fotocasa.es/es/comprar/vivienda/la...</td>\n",
              "      <td>3.0</td>\n",
              "      <td>1.0</td>\n",
              "      <td>65.0</td>\n",
              "      <td>119900</td>\n",
              "      <td>...</td>\n",
              "      <td>0</td>\n",
              "      <td>0</td>\n",
              "      <td>0</td>\n",
              "      <td>0</td>\n",
              "      <td>0</td>\n",
              "      <td>40,34949</td>\n",
              "      <td>-3,83127</td>\n",
              "      <td>NaN</td>\n",
              "      <td>NaN</td>\n",
              "      <td>1844.615385</td>\n",
              "    </tr>\n",
              "    <tr>\n",
              "      <th>...</th>\n",
              "      <td>...</td>\n",
              "      <td>...</td>\n",
              "      <td>...</td>\n",
              "      <td>...</td>\n",
              "      <td>...</td>\n",
              "      <td>...</td>\n",
              "      <td>...</td>\n",
              "      <td>...</td>\n",
              "      <td>...</td>\n",
              "      <td>...</td>\n",
              "      <td>...</td>\n",
              "      <td>...</td>\n",
              "      <td>...</td>\n",
              "      <td>...</td>\n",
              "      <td>...</td>\n",
              "      <td>...</td>\n",
              "      <td>...</td>\n",
              "      <td>...</td>\n",
              "      <td>...</td>\n",
              "      <td>...</td>\n",
              "      <td>...</td>\n",
              "    </tr>\n",
              "    <tr>\n",
              "      <th>14896</th>\n",
              "      <td>14897</td>\n",
              "      <td>150606951</td>\n",
              "      <td>False</td>\n",
              "      <td>soluciones inmobiliarias fergosa</td>\n",
              "      <td>912176554.0</td>\n",
              "      <td>https://www.fotocasa.es/es/comprar/vivienda/pa...</td>\n",
              "      <td>2.0</td>\n",
              "      <td>1.0</td>\n",
              "      <td>65.0</td>\n",
              "      <td>135000</td>\n",
              "      <td>...</td>\n",
              "      <td>0</td>\n",
              "      <td>0</td>\n",
              "      <td>0</td>\n",
              "      <td>0</td>\n",
              "      <td>0</td>\n",
              "      <td>40,34484</td>\n",
              "      <td>-3,83016</td>\n",
              "      <td>NaN</td>\n",
              "      <td>NaN</td>\n",
              "      <td>2076.923077</td>\n",
              "    </tr>\n",
              "    <tr>\n",
              "      <th>15144</th>\n",
              "      <td>15145</td>\n",
              "      <td>151138764</td>\n",
              "      <td>False</td>\n",
              "      <td>oikos inmobiliaria</td>\n",
              "      <td>912664713.0</td>\n",
              "      <td>https://www.fotocasa.es/es/comprar/vivienda/to...</td>\n",
              "      <td>3.0</td>\n",
              "      <td>2.0</td>\n",
              "      <td>93.0</td>\n",
              "      <td>330000</td>\n",
              "      <td>...</td>\n",
              "      <td>0</td>\n",
              "      <td>0</td>\n",
              "      <td>0</td>\n",
              "      <td>0</td>\n",
              "      <td>0</td>\n",
              "      <td>40,35382</td>\n",
              "      <td>-3,80028</td>\n",
              "      <td>NaN</td>\n",
              "      <td>NaN</td>\n",
              "      <td>3548.387097</td>\n",
              "    </tr>\n",
              "    <tr>\n",
              "      <th>15166</th>\n",
              "      <td>15167</td>\n",
              "      <td>150646543</td>\n",
              "      <td>False</td>\n",
              "      <td>infocasa consulting</td>\n",
              "      <td>911360461.0</td>\n",
              "      <td>https://www.fotocasa.es/es/comprar/vivienda/el...</td>\n",
              "      <td>3.0</td>\n",
              "      <td>1.0</td>\n",
              "      <td>73.0</td>\n",
              "      <td>175000</td>\n",
              "      <td>...</td>\n",
              "      <td>0</td>\n",
              "      <td>0</td>\n",
              "      <td>0</td>\n",
              "      <td>0</td>\n",
              "      <td>0</td>\n",
              "      <td>40,35541</td>\n",
              "      <td>-3,82059</td>\n",
              "      <td>NaN</td>\n",
              "      <td>NaN</td>\n",
              "      <td>2397.260274</td>\n",
              "    </tr>\n",
              "    <tr>\n",
              "      <th>15191</th>\n",
              "      <td>15192</td>\n",
              "      <td>153078915</td>\n",
              "      <td>False</td>\n",
              "      <td>daurum estate</td>\n",
              "      <td>912179743.0</td>\n",
              "      <td>https://www.fotocasa.es/es/comprar/vivienda/ma...</td>\n",
              "      <td>3.0</td>\n",
              "      <td>2.0</td>\n",
              "      <td>102.0</td>\n",
              "      <td>318000</td>\n",
              "      <td>...</td>\n",
              "      <td>0</td>\n",
              "      <td>0</td>\n",
              "      <td>0</td>\n",
              "      <td>0</td>\n",
              "      <td>0</td>\n",
              "      <td>40,3522</td>\n",
              "      <td>-3,80279</td>\n",
              "      <td>NaN</td>\n",
              "      <td>NaN</td>\n",
              "      <td>3117.647059</td>\n",
              "    </tr>\n",
              "    <tr>\n",
              "      <th>15223</th>\n",
              "      <td>15224</td>\n",
              "      <td>153440884</td>\n",
              "      <td>False</td>\n",
              "      <td>redpiso alcorcon sur</td>\n",
              "      <td>910758927.0</td>\n",
              "      <td>https://www.fotocasa.es/es/comprar/vivienda/pa...</td>\n",
              "      <td>2.0</td>\n",
              "      <td>2.0</td>\n",
              "      <td>85.0</td>\n",
              "      <td>257000</td>\n",
              "      <td>...</td>\n",
              "      <td>0</td>\n",
              "      <td>0</td>\n",
              "      <td>0</td>\n",
              "      <td>0</td>\n",
              "      <td>0</td>\n",
              "      <td>40,344393</td>\n",
              "      <td>-3,839799</td>\n",
              "      <td>NaN</td>\n",
              "      <td>NaN</td>\n",
              "      <td>3023.529412</td>\n",
              "    </tr>\n",
              "  </tbody>\n",
              "</table>\n",
              "<p>190 rows × 38 columns</p>\n",
              "</div>"
            ],
            "text/plain": [
              "       Unnamed: 0  id_realEstates  isNew                   realEstate_name  \\\n",
              "85             86       153152077  False           sinergical inmobiliaria   \n",
              "109           110       153586414  False   area uno asesores inmobiliarios   \n",
              "765           766       154002468   True                              raul   \n",
              "816           817       154001779   True                           deplace   \n",
              "827           828       154001766   True      tecnocasa ciudad de alcorcon   \n",
              "...           ...             ...    ...                               ...   \n",
              "14896       14897       150606951  False  soluciones inmobiliarias fergosa   \n",
              "15144       15145       151138764  False                oikos inmobiliaria   \n",
              "15166       15167       150646543  False               infocasa consulting   \n",
              "15191       15192       153078915  False                     daurum estate   \n",
              "15223       15224       153440884  False              redpiso alcorcon sur   \n",
              "\n",
              "       phone_realEstate                                       url_inmueble  \\\n",
              "85                  NaN  https://www.fotocasa.es/es/comprar/vivienda/le...   \n",
              "109         912664081.0  https://www.fotocasa.es/es/comprar/vivienda/ma...   \n",
              "765                 NaN  https://www.fotocasa.es/es/comprar/vivienda/ma...   \n",
              "816         910750918.0  https://www.fotocasa.es/es/comprar/vivienda/la...   \n",
              "827         911795412.0  https://www.fotocasa.es/es/comprar/vivienda/la...   \n",
              "...                 ...                                                ...   \n",
              "14896       912176554.0  https://www.fotocasa.es/es/comprar/vivienda/pa...   \n",
              "15144       912664713.0  https://www.fotocasa.es/es/comprar/vivienda/to...   \n",
              "15166       911360461.0  https://www.fotocasa.es/es/comprar/vivienda/el...   \n",
              "15191       912179743.0  https://www.fotocasa.es/es/comprar/vivienda/ma...   \n",
              "15223       910758927.0  https://www.fotocasa.es/es/comprar/vivienda/pa...   \n",
              "\n",
              "       rooms  bathrooms  surface   price  ... level5Id level6Id level7Id  \\\n",
              "85       1.0        1.0     50.0  107000  ...        0        0        0   \n",
              "109      3.0        3.0    142.0  425000  ...        0        0        0   \n",
              "765      4.0        2.0    109.0  248000  ...        0        0        0   \n",
              "816      3.0        2.0     96.0  299000  ...        0        0        0   \n",
              "827      3.0        1.0     65.0  119900  ...        0        0        0   \n",
              "...      ...        ...      ...     ...  ...      ...      ...      ...   \n",
              "14896    2.0        1.0     65.0  135000  ...        0        0        0   \n",
              "15144    3.0        2.0     93.0  330000  ...        0        0        0   \n",
              "15166    3.0        1.0     73.0  175000  ...        0        0        0   \n",
              "15191    3.0        2.0    102.0  318000  ...        0        0        0   \n",
              "15223    2.0        2.0     85.0  257000  ...        0        0        0   \n",
              "\n",
              "      level8Id accuracy          latitude          longitude zipCode  \\\n",
              "85           0        1          40,35059           -3,82693     NaN   \n",
              "109          0        0        40,3313411         -3,8313868     NaN   \n",
              "765          0        1           40,3526           -3,81587     NaN   \n",
              "816          0        0  40,3546326213562  -3,80197422135624     NaN   \n",
              "827          0        0          40,34949           -3,83127     NaN   \n",
              "...        ...      ...               ...                ...     ...   \n",
              "14896        0        0          40,34484           -3,83016     NaN   \n",
              "15144        0        0          40,35382           -3,80028     NaN   \n",
              "15166        0        0          40,35541           -3,82059     NaN   \n",
              "15191        0        0           40,3522           -3,80279     NaN   \n",
              "15223        0        0         40,344393          -3,839799     NaN   \n",
              "\n",
              "      customZone          pps  \n",
              "85           NaN  2140.000000  \n",
              "109          NaN  2992.957746  \n",
              "765          NaN  2275.229358  \n",
              "816          NaN  3114.583333  \n",
              "827          NaN  1844.615385  \n",
              "...          ...          ...  \n",
              "14896        NaN  2076.923077  \n",
              "15144        NaN  3548.387097  \n",
              "15166        NaN  2397.260274  \n",
              "15191        NaN  3117.647059  \n",
              "15223        NaN  3023.529412  \n",
              "\n",
              "[190 rows x 38 columns]"
            ]
          },
          "execution_count": 38,
          "metadata": {},
          "output_type": "execute_result"
        }
      ],
      "source": [
        "# Price of square meter in Alcorcón\n",
        "\n",
        "alcorcon = original_set[original_set['level5'] == 'Alcorcón']\n",
        "alcorcon"
      ]
    },
    {
      "cell_type": "code",
      "execution_count": 41,
      "id": "43f56ad4",
      "metadata": {},
      "outputs": [
        {
          "data": {
            "text/plain": [
              "'Precio por metro cuadrado en el municipio de Alcorcón es de 2239.3€.'"
            ]
          },
          "execution_count": 41,
          "metadata": {},
          "output_type": "execute_result"
        }
      ],
      "source": [
        "average_alcorcon = alcorcon['pps'].mean()\n",
        "average_alcorcon = round(average_alcorcon, 2)\n",
        "average_alcorcon = f'Precio por metro cuadrado en el municipio de Alcorcón es de {average_alcorcon}€.'\n",
        "average_alcorcon"
      ]
    },
    {
      "cell_type": "markdown",
      "id": "123be909",
      "metadata": {},
      "source": [
        "Analizando los datos podemos ver que el precio por metro cuadrado está más alto en el municipio de Alcorcón que en Getafe. "
      ]
    },
    {
      "cell_type": "markdown",
      "id": "77f4fb6b000f9e0b",
      "metadata": {
        "id": "77f4fb6b000f9e0b"
      },
      "source": [
        "## Conclusiones"
      ]
    },
    {
      "cell_type": "markdown",
      "id": "d68570bb7b80a83e",
      "metadata": {
        "id": "d68570bb7b80a83e"
      },
      "source": [
        "#### Ejercicio 17\n",
        "\n",
        "Una vez analizados todos los datos podemos ver que la mayoria de las casas que están en venta se encuntran en la zona de Madrid Capital, sin embargo, la casa más cara se encuntra en El Escorial, zona Noroeste. Por otro lado, las casas más caras del cinturón sur de Madrid, se encuntran en el municipio de Gefate, aunque el precio medio por metro cuadrado está más alto en el municipio de Alcorcón que en el Getafe. \n",
        "Una vez calculadas las medias de las viviendas del cinturón sur de Madrid, observamos que la superficie media es de 111,75 m², con 3 habitaciones y 1 baño. \n"
      ]
    }
  ],
  "metadata": {
    "colab": {
      "provenance": []
    },
    "kernelspec": {
      "display_name": "Python 3",
      "language": "python",
      "name": "python3"
    },
    "language_info": {
      "codemirror_mode": {
        "name": "ipython",
        "version": 3
      },
      "file_extension": ".py",
      "mimetype": "text/x-python",
      "name": "python",
      "nbconvert_exporter": "python",
      "pygments_lexer": "ipython3",
      "version": "3.11.4"
    }
  },
  "nbformat": 4,
  "nbformat_minor": 5
}
