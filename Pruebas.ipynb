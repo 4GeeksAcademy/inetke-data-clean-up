{
 "cells": [
  {
   "cell_type": "code",
   "execution_count": 4,
   "id": "3a445b7f",
   "metadata": {},
   "outputs": [
    {
     "ename": "NameError",
     "evalue": "name 'df' is not defined",
     "output_type": "error",
     "traceback": [
      "\u001b[31m---------------------------------------------------------------------------\u001b[39m",
      "\u001b[31mNameError\u001b[39m                                 Traceback (most recent call last)",
      "\u001b[36mCell\u001b[39m\u001b[36m \u001b[39m\u001b[32mIn[4]\u001b[39m\u001b[32m, line 1\u001b[39m\n\u001b[32m----> \u001b[39m\u001b[32m1\u001b[39m highest_price = \u001b[43mdf\u001b[49m[\u001b[33m'\u001b[39m\u001b[33mprice\u001b[39m\u001b[33m'\u001b[39m].max()\n\u001b[32m      2\u001b[39m row_maximum_price = df[\u001b[33m'\u001b[39m\u001b[33mprice\u001b[39m\u001b[33m'\u001b[39m] == highest_price\n\u001b[32m      3\u001b[39m address = df[[\u001b[33m'\u001b[39m\u001b[33maddress\u001b[39m\u001b[33m'\u001b[39m, \u001b[33m'\u001b[39m\u001b[33mcountry\u001b[39m\u001b[33m'\u001b[39m, \u001b[33m'\u001b[39m\u001b[33mlevel1\u001b[39m\u001b[33m'\u001b[39m, \u001b[33m'\u001b[39m\u001b[33mlevel3\u001b[39m\u001b[33m'\u001b[39m]][df[\u001b[33m'\u001b[39m\u001b[33mprice\u001b[39m\u001b[33m'\u001b[39m] == highest_price]\n",
      "\u001b[31mNameError\u001b[39m: name 'df' is not defined"
     ]
    }
   ],
   "source": [
    "highest_price = df['price'].max()\n",
    "row_maximum_price = df['price'] == highest_price\n",
    "address = df[['address', 'country', 'level1', 'level3']][df['price'] == highest_price]\n",
    "clear_address = address.values.tolist()\n",
    "f'La casa más cara se encuentra en la dirección: {clear_address[0][0]}, {clear_address[0][1]}, {clear_address[0][2]}, {clear_address[0][3]} y su precio es {highest_price} €'"
   ]
  },
  {
   "cell_type": "code",
   "execution_count": null,
   "id": "c7360291",
   "metadata": {},
   "outputs": [],
   "source": [
    "# 12:\n",
    "\n",
    "cuantity_houses = df.groupby('level5').size().reset_index(name='count')\n",
    "max_cuantity = cuantity_houses.sort_values('count', ascending=False)\n",
    "max_cuantity.iloc[0]\n",
    "city_max = max_cuantity[\"level5\"].iloc[0]\n",
    "total_city = max_cuantity[\"count\"].iloc[0]\n",
    "f'La mayor cantidad de casas tiene la población: {city_max} y su número de casas es {total_city}.'"
   ]
  },
  {
   "cell_type": "code",
   "execution_count": null,
   "id": "3b345e32",
   "metadata": {},
   "outputs": [],
   "source": [
    "average_prices = original_set['price'].mean()\n",
    "average_prices = f'{average_prices:.2f}€'\n",
    "average_prices"
   ]
  },
  {
   "cell_type": "code",
   "execution_count": null,
   "id": "d749e8b3",
   "metadata": {},
   "outputs": [
    {
     "ename": "NameError",
     "evalue": "name 'df' is not defined",
     "output_type": "error",
     "traceback": [
      "\u001b[31m---------------------------------------------------------------------------\u001b[39m",
      "\u001b[31mNameError\u001b[39m                                 Traceback (most recent call last)",
      "\u001b[36mCell\u001b[39m\u001b[36m \u001b[39m\u001b[32mIn[3]\u001b[39m\u001b[32m, line 1\u001b[39m\n\u001b[32m----> \u001b[39m\u001b[32m1\u001b[39m original_set = \u001b[43mdf\u001b[49m[df[\u001b[33m'\u001b[39m\u001b[33mlevel5\u001b[39m\u001b[33m'\u001b[39m].isin([\u001b[33m'\u001b[39m\u001b[33mFuenlabrada\u001b[39m\u001b[33m'\u001b[39m, \u001b[33m'\u001b[39m\u001b[33mLeganés\u001b[39m\u001b[33m'\u001b[39m, \u001b[33m'\u001b[39m\u001b[33mGetafe\u001b[39m\u001b[33m'\u001b[39m, \u001b[33m'\u001b[39m\u001b[33mAlcorcón\u001b[39m\u001b[33m'\u001b[39m])]\n\u001b[32m      2\u001b[39m original_set\n",
      "\u001b[31mNameError\u001b[39m: name 'df' is not defined"
     ]
    }
   ],
   "source": [
    "original_set = df[df['level5'].isin(['Fuenlabrada', 'Leganés', 'Getafe', 'Alcorcón'])]\n",
    "original_set"
   ]
  },
  {
   "cell_type": "code",
   "execution_count": null,
   "id": "84506143",
   "metadata": {},
   "outputs": [
    {
     "ename": "NameError",
     "evalue": "name 'original_set' is not defined",
     "output_type": "error",
     "traceback": [
      "\u001b[31m---------------------------------------------------------------------------\u001b[39m",
      "\u001b[31mNameError\u001b[39m                                 Traceback (most recent call last)",
      "\u001b[36mCell\u001b[39m\u001b[36m \u001b[39m\u001b[32mIn[2]\u001b[39m\u001b[32m, line 1\u001b[39m\n\u001b[32m----> \u001b[39m\u001b[32m1\u001b[39m variance_prices = \u001b[43moriginal_set\u001b[49m[\u001b[33m'\u001b[39m\u001b[33mprice\u001b[39m\u001b[33m'\u001b[39m].var()\n\u001b[32m      2\u001b[39m variance_prices = \u001b[33mf\u001b[39m\u001b[33m'\u001b[39m\u001b[38;5;132;01m{\u001b[39;00mvariance_prices\u001b[38;5;132;01m:\u001b[39;00m\u001b[33m.2f\u001b[39m\u001b[38;5;132;01m}\u001b[39;00m\u001b[33m'\u001b[39m\n\u001b[32m      3\u001b[39m variance_prices\n",
      "\u001b[31mNameError\u001b[39m: name 'original_set' is not defined"
     ]
    }
   ],
   "source": [
    "# 14: \n",
    "\n",
    "variance_prices = original_set['price'].var()\n",
    "variance_prices = f'{variance_prices:.2f}'\n",
    "variance_prices\n",
    "average_rooms = original_set['rooms'].mean()\n",
    "average_rooms = f'{average_rooms:.2f}'\n",
    "average_rooms\n",
    "variance_rooms = original_set['rooms'].var()\n",
    "variance_rooms = f'{variance_rooms:.2f}'\n",
    "variance_rooms\n",
    "average_surface = original_set['surface'].mean()\n",
    "average_surface = f'{average_surface:.2f}'\n",
    "average_surface\n",
    "variance_surface = original_set['surface'].var()\n",
    "variance_surface = f'{variance_surface:.2f}'\n",
    "variance_surface\n",
    "average_bathrooms = original_set['bathrooms'].mean()\n",
    "average_bathrooms = f'{average_bathrooms:.2f}'\n",
    "average_bathrooms\n",
    "variance_bathrooms = original_set['bathrooms'].var()\n",
    "variance_bathrooms = f'{variance_bathrooms:.2f}'\n",
    "variance_bathrooms"
   ]
  },
  {
   "cell_type": "code",
   "execution_count": null,
   "id": "fc31e27f",
   "metadata": {},
   "outputs": [],
   "source": [
    "# To create a dictionary\n",
    "\n",
    "houses = {'Prices': {'Average' : average_prices, 'Variance' : variance_prices},\n",
    "          'Rooms': {'Average' : average_rooms, 'Variance' : variance_rooms},\n",
    "          'Surface': {'Average' : average_surface, 'Variance' : variance_surface},\n",
    "          'Bathrooms': {'Average' : average_bathrooms, 'Variance' : variance_bathrooms}\n",
    "          }\n",
    "houses"
   ]
  }
 ],
 "metadata": {
  "kernelspec": {
   "display_name": "Python 3",
   "language": "python",
   "name": "python3"
  },
  "language_info": {
   "codemirror_mode": {
    "name": "ipython",
    "version": 3
   },
   "file_extension": ".py",
   "mimetype": "text/x-python",
   "name": "python",
   "nbconvert_exporter": "python",
   "pygments_lexer": "ipython3",
   "version": "3.11.4"
  }
 },
 "nbformat": 4,
 "nbformat_minor": 5
}
